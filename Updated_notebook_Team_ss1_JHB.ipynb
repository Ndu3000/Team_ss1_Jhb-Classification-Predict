{
  "nbformat": 4,
  "nbformat_minor": 0,
  "metadata": {
    "hide_input": false,
    "kernelspec": {
      "display_name": "Python 3",
      "language": "python",
      "name": "python3"
    },
    "language_info": {
      "codemirror_mode": {
        "name": "ipython",
        "version": 3
      },
      "file_extension": ".py",
      "mimetype": "text/x-python",
      "name": "python",
      "nbconvert_exporter": "python",
      "pygments_lexer": "ipython3",
      "version": "3.7.6"
    },
    "toc": {
      "base_numbering": 1,
      "nav_menu": {},
      "number_sections": true,
      "sideBar": true,
      "skip_h1_title": false,
      "title_cell": "Table of Contents",
      "title_sidebar": "Contents",
      "toc_cell": false,
      "toc_position": {},
      "toc_section_display": true,
      "toc_window_display": false
    },
    "colab": {
      "name": "Updated notebook Team_ss1_JHB.ipynb",
      "provenance": [],
      "include_colab_link": true
    }
  },
  "cells": [
    {
      "cell_type": "markdown",
      "metadata": {
        "id": "view-in-github",
        "colab_type": "text"
      },
      "source": [
        "<a href=\"https://colab.research.google.com/github/Vicky-hub87/Team_ss1_Jhb-Classification-Predict/blob/master/Updated_notebook_Team_ss1_JHB.ipynb\" target=\"_parent\"><img src=\"https://colab.research.google.com/assets/colab-badge.svg\" alt=\"Open In Colab\"/></a>"
      ]
    },
    {
      "cell_type": "markdown",
      "metadata": {
        "id": "rJ0GgUJUObLr",
        "colab_type": "text"
      },
      "source": [
        "# Introduction"
      ]
    },
    {
      "cell_type": "markdown",
      "metadata": {
        "heading_collapsed": true,
        "id": "pP7AYi2lGM09",
        "colab_type": "text"
      },
      "source": [
        "## Context\n",
        "\n",
        "Many companies are built around lessening one’s environmental impact or carbon footprint. They offer products and services that are environmentally friendly and sustainable, in line with their values and ideals. They would like to determine how people perceive climate change and whether or not they believe it is a real threat. This would add to their market research efforts in gauging how their product/service may be received."
      ]
    },
    {
      "cell_type": "markdown",
      "metadata": {
        "id": "cLFB14bwTMrk",
        "colab_type": "text"
      },
      "source": [
        "## Problem Statement\n",
        "\n",
        "With this context, we are being challenged with the task of creating a Machine Learning model that is able to classify whether or not a person believes in climate change, based on their novel tweet data.\n",
        "\n",
        "Providing an accurate and robust solution to this task gives companies access to a broad base of consumer sentiment, spanning multiple demographic and geographic categories - thus increasing their insights and informing future marketing strategies.\n",
        "\n",
        "Our quest is to provide valuable sentiment analysis information with actionable insights that can be used for an entity that  could like its brand to be viewed as \"eco-friendly\" from the perspective of all its stakeeholders e.g. clients, employeers, investors etc.\n"
      ]
    },
    {
      "cell_type": "markdown",
      "metadata": {
        "id": "5rcVGaPfAA0I",
        "colab_type": "text"
      },
      "source": [
        "## Data sets\n",
        "\n",
        "### Data\n",
        "\n",
        "The collection of this data which we use as our data source was funded by a Canada Foundation for Innovation JELF Grant to Chris Bauch, University of Waterloo. The dataset aggregates tweets pertaining to climate change collected between Apr 27, 2015 and Feb 21, 2018. In total, 43943 tweets were collected. Each tweet is labelled as one of the following classes in the table below:\n",
        "\n",
        "<img src=\"https://www.googleapis.com/download/storage/v1/b/kaggle-user-content/o/inbox%2F2205222%2F8e4d65f2029797e0462b52022451829c%2Fdata.PNG?generation=1590752860255531&amp;alt=media\" alt=\"\" title=\"\">\n",
        "\n",
        "### Variable definitions\n",
        "\n",
        "*   sentiment: Sentiment of tweet\n",
        "\n",
        "*   message: Tweet body\n",
        "\n",
        "*   tweetid: Twitter unique id\n",
        "\n",
        "\n",
        "### The data input files we have used for our model are:\n",
        "\n",
        "*   Train.csv(is the dataset that we will use to train to our model) as denoted by the \"train_data\" dataframe variable in our code.\n",
        "*   Test.csv (is the dataset on which we will apply to our model to) as denoted by the \"test_data\" dataframe variable in our code.\n",
        "*   SampleSubmission.csv (is an example of what our submission file will look like. The order of the rows is not so relevant, but the names of the tweetid's must be correct.)"
      ]
    },
    {
      "cell_type": "markdown",
      "metadata": {
        "hide_input": true,
        "id": "gCydecF9GM0-",
        "colab_type": "text"
      },
      "source": [
        "# Initial Data Exploration"
      ]
    },
    {
      "cell_type": "markdown",
      "metadata": {
        "id": "Xms0kqxDGM0-",
        "colab_type": "text"
      },
      "source": [
        "## Import packages and load data files"
      ]
    },
    {
      "cell_type": "markdown",
      "metadata": {
        "id": "gU9fdfaGGM0_",
        "colab_type": "text"
      },
      "source": [
        "###### task: import and load data\n",
        "We start off by importing relevant packages and loading the data."
      ]
    },
    {
      "cell_type": "code",
      "metadata": {
        "id": "r-6p508-hg7o",
        "colab_type": "code",
        "colab": {}
      },
      "source": [
        "# install relevant libraries\n",
        "#!pip install comet_ml\n",
        "#!pip install emoji\n",
        "#!pip install sklearn-features\n",
        "#!pip install wordcloud\n",
        "#!pip install textwrap\n",
        "#!pip install googletrans\n",
        "#!pip install gensim"
      ],
      "execution_count": null,
      "outputs": []
    },
    {
      "cell_type": "code",
      "metadata": {
        "id": "EBpebNl8GM1A",
        "colab_type": "code",
        "colab": {},
        "outputId": "fb0607e4-8825-484c-ba39-0b5bf4823f31"
      },
      "source": [
        "# import packages\n",
        "# from comet_ml import Experiment\n",
        "import pandas as pd\n",
        "import numpy as np\n",
        "import matplotlib.pyplot as plt\n",
        "%matplotlib inline\n",
        "import seaborn as sns\n",
        "# set plot style\n",
        "sns.set()\n",
        "import re\n",
        "import string\n",
        "import emoji\n",
        "import spacy\n",
        "import sklearn.feature_extraction.text\n",
        "from sklearn.feature_extraction.text import CountVectorizer\n",
        "# Importing wordcloud for plotting word clouds and textwrap for wrapping longer text\n",
        "from wordcloud import WordCloud\n",
        "from textwrap import wrap\n",
        "#from googletrans import Translator as translator\n",
        "import nltk\n",
        "from nltk.tokenize import RegexpTokenizer\n",
        "from sklearn import metrics\n",
        "from nltk.corpus import stopwords\n",
        "\n"
      ],
      "execution_count": null,
      "outputs": [
        {
          "output_type": "stream",
          "text": [
            "C:\\Users\\user\\Anaconda3\\lib\\site-packages\\statsmodels\\tools\\_testing.py:19: FutureWarning: pandas.util.testing is deprecated. Use the functions in the public API at pandas.testing instead.\n",
            "  import pandas.util.testing as tm\n"
          ],
          "name": "stderr"
        }
      ]
    },
    {
      "cell_type": "code",
      "metadata": {
        "id": "NijtNx7XlPXg",
        "colab_type": "code",
        "colab": {}
      },
      "source": [
        "# Setting the API key (saved as environment variable)\n",
        "#experiment = Experiment(api_key=\"LDbCDsZxNdliAIh3UXUimYEiG\",\n",
        "#                        project_name=\"general\", workspace=\"ndu3000\")"
      ],
      "execution_count": null,
      "outputs": []
    },
    {
      "cell_type": "code",
      "metadata": {
        "id": "vl9GIZCoGM1F",
        "colab_type": "code",
        "colab": {}
      },
      "source": [
        "# load train data\n",
        "train_data = pd.read_csv('https://raw.githubusercontent.com/Vicky-hub87/Team_ss1_Jhb-Classification-Predict/master/train.csv')"
      ],
      "execution_count": null,
      "outputs": []
    },
    {
      "cell_type": "code",
      "metadata": {
        "id": "2Y7rqWgIlPXq",
        "colab_type": "code",
        "colab": {},
        "outputId": "9a2e50bc-edb3-4134-9b9c-68a461b64a04"
      },
      "source": [
        "# load test data\n",
        "test_data = pd.read_csv('https://raw.githubusercontent.com/Vicky-hub87/Team_ss1_Jhb-Classification-Predict/master/test.csv')\n",
        "print('Test data rows and columns:')"
      ],
      "execution_count": null,
      "outputs": [
        {
          "output_type": "stream",
          "text": [
            "Test data rows and columns:\n"
          ],
          "name": "stdout"
        }
      ]
    },
    {
      "cell_type": "code",
      "metadata": {
        "id": "uwmD9v11lPXw",
        "colab_type": "code",
        "colab": {}
      },
      "source": [
        "# load sample data\n",
        "sample_data = pd.read_csv('https://raw.githubusercontent.com/Vicky-hub87/Team_ss1_Jhb-Classification-Predict/master/sample_submission.csv')\n"
      ],
      "execution_count": null,
      "outputs": []
    },
    {
      "cell_type": "markdown",
      "metadata": {
        "id": "rSbjmyfQGM1i",
        "colab_type": "text"
      },
      "source": [
        "###### **task: view sample of train and test data**\n",
        "Simply displaying the train and test data."
      ]
    },
    {
      "cell_type": "code",
      "metadata": {
        "id": "4PMfA1FOGM1i",
        "colab_type": "code",
        "colab": {},
        "outputId": "14a81561-44fd-433b-dd40-ec3ab0990e9b"
      },
      "source": [
        "# print train_data\n",
        "print('Train data rows and columns:')\n",
        "train_data.sample(10)"
      ],
      "execution_count": null,
      "outputs": [
        {
          "output_type": "stream",
          "text": [
            "Train data rows and columns:\n"
          ],
          "name": "stdout"
        },
        {
          "output_type": "execute_result",
          "data": {
            "text/html": [
              "<div>\n",
              "<style scoped>\n",
              "    .dataframe tbody tr th:only-of-type {\n",
              "        vertical-align: middle;\n",
              "    }\n",
              "\n",
              "    .dataframe tbody tr th {\n",
              "        vertical-align: top;\n",
              "    }\n",
              "\n",
              "    .dataframe thead th {\n",
              "        text-align: right;\n",
              "    }\n",
              "</style>\n",
              "<table border=\"1\" class=\"dataframe\">\n",
              "  <thead>\n",
              "    <tr style=\"text-align: right;\">\n",
              "      <th></th>\n",
              "      <th>sentiment</th>\n",
              "      <th>message</th>\n",
              "      <th>tweetid</th>\n",
              "    </tr>\n",
              "  </thead>\n",
              "  <tbody>\n",
              "    <tr>\n",
              "      <th>13562</th>\n",
              "      <td>1</td>\n",
              "      <td>@CharlesBivona Learn about climate change and ...</td>\n",
              "      <td>810690</td>\n",
              "    </tr>\n",
              "    <tr>\n",
              "      <th>6735</th>\n",
              "      <td>1</td>\n",
              "      <td>[#AlJazeera #English #HDLiveStream]Climate SOS...</td>\n",
              "      <td>512976</td>\n",
              "    </tr>\n",
              "    <tr>\n",
              "      <th>6932</th>\n",
              "      <td>0</td>\n",
              "      <td>RT @Salvesayson: You’re so hot, you must be th...</td>\n",
              "      <td>992665</td>\n",
              "    </tr>\n",
              "    <tr>\n",
              "      <th>5867</th>\n",
              "      <td>1</td>\n",
              "      <td>RT @BernieSanders: The stakes are enormously h...</td>\n",
              "      <td>62384</td>\n",
              "    </tr>\n",
              "    <tr>\n",
              "      <th>7511</th>\n",
              "      <td>1</td>\n",
              "      <td>If youÃ¢â‚¬â„¢re looking for good news about c...</td>\n",
              "      <td>674433</td>\n",
              "    </tr>\n",
              "    <tr>\n",
              "      <th>7924</th>\n",
              "      <td>1</td>\n",
              "      <td>RT @ddale8: @KkevrockK Trump denies climate ch...</td>\n",
              "      <td>282847</td>\n",
              "    </tr>\n",
              "    <tr>\n",
              "      <th>929</th>\n",
              "      <td>2</td>\n",
              "      <td>Can biochar make climate change a profitable b...</td>\n",
              "      <td>95670</td>\n",
              "    </tr>\n",
              "    <tr>\n",
              "      <th>7870</th>\n",
              "      <td>1</td>\n",
              "      <td>RT @cathmckenna: Looking forward to working to...</td>\n",
              "      <td>975752</td>\n",
              "    </tr>\n",
              "    <tr>\n",
              "      <th>3310</th>\n",
              "      <td>2</td>\n",
              "      <td>Kerry says he'll continue with anti-global war...</td>\n",
              "      <td>825673</td>\n",
              "    </tr>\n",
              "    <tr>\n",
              "      <th>12924</th>\n",
              "      <td>1</td>\n",
              "      <td>RT @JohnDPMorgan: Avoiding dangerous climate c...</td>\n",
              "      <td>566501</td>\n",
              "    </tr>\n",
              "  </tbody>\n",
              "</table>\n",
              "</div>"
            ],
            "text/plain": [
              "       sentiment                                            message  tweetid\n",
              "13562          1  @CharlesBivona Learn about climate change and ...   810690\n",
              "6735           1  [#AlJazeera #English #HDLiveStream]Climate SOS...   512976\n",
              "6932           0  RT @Salvesayson: You’re so hot, you must be th...   992665\n",
              "5867           1  RT @BernieSanders: The stakes are enormously h...    62384\n",
              "7511           1  If youÃ¢â‚¬â„¢re looking for good news about c...   674433\n",
              "7924           1  RT @ddale8: @KkevrockK Trump denies climate ch...   282847\n",
              "929            2  Can biochar make climate change a profitable b...    95670\n",
              "7870           1  RT @cathmckenna: Looking forward to working to...   975752\n",
              "3310           2  Kerry says he'll continue with anti-global war...   825673\n",
              "12924          1  RT @JohnDPMorgan: Avoiding dangerous climate c...   566501"
            ]
          },
          "metadata": {
            "tags": []
          },
          "execution_count": 7
        }
      ]
    },
    {
      "cell_type": "code",
      "metadata": {
        "id": "Ddd8_l59GM1o",
        "colab_type": "code",
        "colab": {},
        "outputId": "bce0f7ca-8195-4b42-b772-43cdd81ffd48"
      },
      "source": [
        "# print test_data\n",
        "print('Test data rows and columns:')\n",
        "test_data.sample(10)"
      ],
      "execution_count": null,
      "outputs": [
        {
          "output_type": "stream",
          "text": [
            "Test data rows and columns:\n"
          ],
          "name": "stdout"
        },
        {
          "output_type": "execute_result",
          "data": {
            "text/html": [
              "<div>\n",
              "<style scoped>\n",
              "    .dataframe tbody tr th:only-of-type {\n",
              "        vertical-align: middle;\n",
              "    }\n",
              "\n",
              "    .dataframe tbody tr th {\n",
              "        vertical-align: top;\n",
              "    }\n",
              "\n",
              "    .dataframe thead th {\n",
              "        text-align: right;\n",
              "    }\n",
              "</style>\n",
              "<table border=\"1\" class=\"dataframe\">\n",
              "  <thead>\n",
              "    <tr style=\"text-align: right;\">\n",
              "      <th></th>\n",
              "      <th>message</th>\n",
              "      <th>tweetid</th>\n",
              "    </tr>\n",
              "  </thead>\n",
              "  <tbody>\n",
              "    <tr>\n",
              "      <th>8976</th>\n",
              "      <td>@NBCPolitics @mitchellreports by climate chang...</td>\n",
              "      <td>357971</td>\n",
              "    </tr>\n",
              "    <tr>\n",
              "      <th>2614</th>\n",
              "      <td>RT @GOP: The attention to climate change hasn’...</td>\n",
              "      <td>703577</td>\n",
              "    </tr>\n",
              "    <tr>\n",
              "      <th>8026</th>\n",
              "      <td>It's warmer in the Arctic than it is in Thunde...</td>\n",
              "      <td>956089</td>\n",
              "    </tr>\n",
              "    <tr>\n",
              "      <th>163</th>\n",
              "      <td>RT @OldWrestlingPic: More proof climate change...</td>\n",
              "      <td>402773</td>\n",
              "    </tr>\n",
              "    <tr>\n",
              "      <th>3415</th>\n",
              "      <td>SARRC states urged to cooperate on climate cha...</td>\n",
              "      <td>840316</td>\n",
              "    </tr>\n",
              "    <tr>\n",
              "      <th>2676</th>\n",
              "      <td>RT @argus27: Michael Bloomberg and Mark Carney...</td>\n",
              "      <td>981141</td>\n",
              "    </tr>\n",
              "    <tr>\n",
              "      <th>9759</th>\n",
              "      <td>The US is relocating an entire town because of...</td>\n",
              "      <td>291282</td>\n",
              "    </tr>\n",
              "    <tr>\n",
              "      <th>4130</th>\n",
              "      <td>RT @UNHCRUK: How many people are already displ...</td>\n",
              "      <td>184039</td>\n",
              "    </tr>\n",
              "    <tr>\n",
              "      <th>3386</th>\n",
              "      <td>RT @Jackthelad1947: The Guardian view on clima...</td>\n",
              "      <td>398175</td>\n",
              "    </tr>\n",
              "    <tr>\n",
              "      <th>1426</th>\n",
              "      <td>RT @ChelseaClinton: These experts say we have ...</td>\n",
              "      <td>254835</td>\n",
              "    </tr>\n",
              "  </tbody>\n",
              "</table>\n",
              "</div>"
            ],
            "text/plain": [
              "                                                message  tweetid\n",
              "8976  @NBCPolitics @mitchellreports by climate chang...   357971\n",
              "2614  RT @GOP: The attention to climate change hasn’...   703577\n",
              "8026  It's warmer in the Arctic than it is in Thunde...   956089\n",
              "163   RT @OldWrestlingPic: More proof climate change...   402773\n",
              "3415  SARRC states urged to cooperate on climate cha...   840316\n",
              "2676  RT @argus27: Michael Bloomberg and Mark Carney...   981141\n",
              "9759  The US is relocating an entire town because of...   291282\n",
              "4130  RT @UNHCRUK: How many people are already displ...   184039\n",
              "3386  RT @Jackthelad1947: The Guardian view on clima...   398175\n",
              "1426  RT @ChelseaClinton: These experts say we have ...   254835"
            ]
          },
          "metadata": {
            "tags": []
          },
          "execution_count": 8
        }
      ]
    },
    {
      "cell_type": "markdown",
      "metadata": {
        "id": "UBXHM2u2GM1P",
        "colab_type": "text"
      },
      "source": [
        "###### **task: display the shape of train and test data**\n"
      ]
    },
    {
      "cell_type": "code",
      "metadata": {
        "id": "nsnTLYIVGM1Q",
        "colab_type": "code",
        "colab": {},
        "outputId": "cdd7003b-081c-4e9d-95e9-518e4a1b30d6"
      },
      "source": [
        "print('Train data rows and columns:', train_data.shape)\n",
        "print('Test data rows and columns:', test_data.shape)\n",
        "print('Sample data rows and columns:', sample_data.shape)"
      ],
      "execution_count": null,
      "outputs": [
        {
          "output_type": "stream",
          "text": [
            "Train data rows and columns: (15819, 3)\n",
            "Test data rows and columns: (10546, 2)\n",
            "Sample data rows and columns: (10546, 2)\n"
          ],
          "name": "stdout"
        }
      ]
    },
    {
      "cell_type": "markdown",
      "metadata": {
        "id": "YTkU_GH9GM1U",
        "colab_type": "text"
      },
      "source": [
        "###### **task: investigate the `label` column.**\n",
        "xxxxxx"
      ]
    },
    {
      "cell_type": "code",
      "metadata": {
        "id": "b5f_ZH8KlPYW",
        "colab_type": "code",
        "colab": {},
        "outputId": "6fcfc518-ba7f-45ff-8d30-47d78a64dcd0"
      },
      "source": [
        "train_data['sentiment'].unique()"
      ],
      "execution_count": null,
      "outputs": [
        {
          "output_type": "execute_result",
          "data": {
            "text/plain": [
              "array([ 1,  2,  0, -1], dtype=int64)"
            ]
          },
          "metadata": {
            "tags": []
          },
          "execution_count": 10
        }
      ]
    },
    {
      "cell_type": "code",
      "metadata": {
        "id": "SnRzjZvylPYf",
        "colab_type": "code",
        "colab": {},
        "outputId": "db3ee899-bc27-4522-c7b5-3cf38978c9d0"
      },
      "source": [
        "train_data['sentiment'].value_counts()"
      ],
      "execution_count": null,
      "outputs": [
        {
          "output_type": "execute_result",
          "data": {
            "text/plain": [
              " 1    8530\n",
              " 2    3640\n",
              " 0    2353\n",
              "-1    1296\n",
              "Name: sentiment, dtype: int64"
            ]
          },
          "metadata": {
            "tags": []
          },
          "execution_count": 11
        }
      ]
    },
    {
      "cell_type": "markdown",
      "metadata": {
        "id": "9L9g74L1GM2j",
        "colab_type": "text"
      },
      "source": [
        "###### task: check class label proportion for **Anti:**the tweet does not believe in man-made climate change (class =  -1)"
      ]
    },
    {
      "cell_type": "code",
      "metadata": {
        "id": "H1KJOfkSGM2k",
        "colab_type": "code",
        "colab": {},
        "outputId": "24273bf2-78d4-413a-d2b7-787f45a62988"
      },
      "source": [
        "anti_class_proportion = len(train_data.loc[train_data['sentiment']== -1]) / len(train_data)\n",
        "anti_class_proportion"
      ],
      "execution_count": null,
      "outputs": [
        {
          "output_type": "execute_result",
          "data": {
            "text/plain": [
              "0.08192679688981605"
            ]
          },
          "metadata": {
            "tags": []
          },
          "execution_count": 12
        }
      ]
    },
    {
      "cell_type": "markdown",
      "metadata": {
        "id": "CANxbZrUlPYt",
        "colab_type": "text"
      },
      "source": [
        "###### task: check class label proportion for **Neutral:**the tweet neither supports nor refutes the belief of man-mad climate change (class =  0)"
      ]
    },
    {
      "cell_type": "code",
      "metadata": {
        "id": "Z1yZN1KqlPYu",
        "colab_type": "code",
        "colab": {},
        "outputId": "24273bf2-78d4-413a-d2b7-787f45a62988"
      },
      "source": [
        "neut_class_proportion = len(train_data.loc[train_data['sentiment']==0]) / len(train_data)\n",
        "neut_class_proportion"
      ],
      "execution_count": null,
      "outputs": [
        {
          "output_type": "execute_result",
          "data": {
            "text/plain": [
              "0.1487451798470194"
            ]
          },
          "metadata": {
            "tags": []
          },
          "execution_count": 13
        }
      ]
    },
    {
      "cell_type": "markdown",
      "metadata": {
        "id": "slzWBPTUlPY1",
        "colab_type": "text"
      },
      "source": [
        "###### task: check class label proportion for Pro:the tweet supports the belief of man-made climate change (class = 1)"
      ]
    },
    {
      "cell_type": "code",
      "metadata": {
        "id": "VQK9w5YjlPY2",
        "colab_type": "code",
        "colab": {},
        "outputId": "64e39cfe-0ee6-43fc-9f27-7d361dcacab7"
      },
      "source": [
        "pro_class_proportion = len(train_data.loc[train_data['sentiment']==1]) / len(train_data)\n",
        "pro_class_proportion"
      ],
      "execution_count": null,
      "outputs": [
        {
          "output_type": "execute_result",
          "data": {
            "text/plain": [
              "0.5392249826158417"
            ]
          },
          "metadata": {
            "tags": []
          },
          "execution_count": 14
        }
      ]
    },
    {
      "cell_type": "markdown",
      "metadata": {
        "id": "tgR4sKinlPY6",
        "colab_type": "text"
      },
      "source": [
        "###### task: check class label proportion for News:the tweet links to factual news about climate change (class = 2)"
      ]
    },
    {
      "cell_type": "code",
      "metadata": {
        "id": "-4A2EDBBlPY7",
        "colab_type": "code",
        "colab": {},
        "outputId": "169ad825-011d-48ce-afb9-363ff68d9262"
      },
      "source": [
        "news_class_proportion = len(train_data.loc[train_data['sentiment']==2]) / len(train_data)\n",
        "news_class_proportion"
      ],
      "execution_count": null,
      "outputs": [
        {
          "output_type": "execute_result",
          "data": {
            "text/plain": [
              "0.23010304064732284"
            ]
          },
          "metadata": {
            "tags": []
          },
          "execution_count": 15
        }
      ]
    },
    {
      "cell_type": "markdown",
      "metadata": {
        "id": "khOQ1I3vlPZA",
        "colab_type": "text"
      },
      "source": [
        "###### task: check that the sum of all class label proportions are equal to 1"
      ]
    },
    {
      "cell_type": "code",
      "metadata": {
        "id": "YwF0t6FPlPZB",
        "colab_type": "code",
        "colab": {},
        "outputId": "e7a01efb-2a71-437a-f2e4-bb981de12315"
      },
      "source": [
        "total_class = anti_class_proportion + neut_class_proportion + pro_class_proportion + news_class_proportion\n",
        "total_class == 1"
      ],
      "execution_count": null,
      "outputs": [
        {
          "output_type": "execute_result",
          "data": {
            "text/plain": [
              "True"
            ]
          },
          "metadata": {
            "tags": []
          },
          "execution_count": 16
        }
      ]
    },
    {
      "cell_type": "code",
      "metadata": {
        "scrolled": true,
        "id": "quTem2UNlPZF",
        "colab_type": "code",
        "colab": {},
        "outputId": "0713bbf7-d01b-44d5-cd04-a83b61d96c38"
      },
      "source": [
        "plt.xscale('log')\n",
        "bins = 1.15**(np.arange(0,50))\n",
        "plt.hist(train_data.loc[train_data['sentiment']==-1]['tweetid'],bins=bins,alpha=0.8)\n",
        "plt.hist(train_data.loc[train_data['sentiment']==0]['tweetid'],bins=bins,alpha=0.8)\n",
        "plt.hist(train_data.loc[train_data['sentiment']==1]['tweetid'],bins=bins,alpha=0.8)\n",
        "plt.hist(train_data.loc[train_data['sentiment']==2]['tweetid'],bins=bins,alpha=0.8)\n",
        "plt.legend(('-1','0', '1', '2'))\n",
        "plt.show()"
      ],
      "execution_count": null,
      "outputs": [
        {
          "output_type": "display_data",
          "data": {
            "image/png": "[encoded data removed]",
            "text/plain": [
              "<Figure size 432x288 with 1 Axes>"
            ]
          },
          "metadata": {
            "tags": [],
            "needs_background": "light"
          }
        }
      ]
    },
    {
      "cell_type": "code",
      "metadata": {
        "scrolled": true,
        "id": "OKxsFBtalPZJ",
        "colab_type": "code",
        "colab": {},
        "outputId": "a2578b7e-cf10-4041-8a10-25ab1204321f"
      },
      "source": [
        "sentiment_count=train_data.groupby('sentiment').count()\n",
        "plt.bar(sentiment_count.index.values, sentiment_count['message'])\n",
        "plt.xlabel('Sentiment class labels')\n",
        "plt.ylabel('Number of tweets')\n",
        "plt.show()"
      ],
      "execution_count": null,
      "outputs": [
        {
          "output_type": "display_data",
          "data": {
            "image/png": "[encoded data removed]",
            "text/plain": [
              "<Figure size 432x288 with 1 Axes>"
            ]
          },
          "metadata": {
            "tags": [],
            "needs_background": "light"
          }
        }
      ]
    },
    {
      "cell_type": "markdown",
      "metadata": {
        "id": "Af_xQ6CHObNp",
        "colab_type": "text"
      },
      "source": [
        "#Summarise initial findings"
      ]
    },
    {
      "cell_type": "markdown",
      "metadata": {
        "heading_collapsed": true,
        "id": "EpC4JC3wGM1s",
        "colab_type": "text"
      },
      "source": [
        "###### Conclude\n",
        "\n",
        "xxxxx"
      ]
    },
    {
      "cell_type": "markdown",
      "metadata": {
        "id": "bK-ZUhX7GM2Y",
        "colab_type": "text"
      },
      "source": [
        "## Missing Values"
      ]
    },
    {
      "cell_type": "markdown",
      "metadata": {
        "id": "UOEqzKnNGM2Z",
        "colab_type": "text"
      },
      "source": [
        "Missing values are a common attribute in datasets and for a number of different reasons. In this part of the notebook we will do a minimal assessment of missing values. It is important however that we understand missingness from both the perspective of the train_data and test_data. As such we want to see which columns have missing data in both the train and test datasets as well as the proportion of missingness in each of those columns. The cell below does just that and displays a table as output. See below."
      ]
    },
    {
      "cell_type": "markdown",
      "metadata": {
        "id": "rxm0l8PxGM2a",
        "colab_type": "text"
      },
      "source": [
        "###### **task: check for missing values**"
      ]
    },
    {
      "cell_type": "code",
      "metadata": {
        "id": "XwADQdKTGM2a",
        "colab_type": "code",
        "colab": {},
        "outputId": "48d76e99-8b03-4e06-b2a3-b645bb6752d1"
      },
      "source": [
        "train_data.isnull().sum()"
      ],
      "execution_count": null,
      "outputs": [
        {
          "output_type": "execute_result",
          "data": {
            "text/plain": [
              "sentiment    0\n",
              "message      0\n",
              "tweetid      0\n",
              "dtype: int64"
            ]
          },
          "metadata": {
            "tags": []
          },
          "execution_count": 19
        }
      ]
    },
    {
      "cell_type": "markdown",
      "metadata": {
        "id": "0OESFSOHGM2e",
        "colab_type": "text"
      },
      "source": [
        "#Summarise findings"
      ]
    },
    {
      "cell_type": "markdown",
      "metadata": {
        "id": "Hu5C-7ehGM2f",
        "colab_type": "text"
      },
      "source": [
        "###### **task: Check for whitespace strings**"
      ]
    },
    {
      "cell_type": "code",
      "metadata": {
        "id": "cxVU6lryGM2g",
        "colab_type": "code",
        "colab": {},
        "outputId": "8fda7bb2-1712-4c5e-a5ab-a4cc2ec895d5"
      },
      "source": [
        "blanks = []  # start with an empty list\n",
        "\n",
        "for i,lb,msg,tid in train_data.itertuples():  # iterate over the DataFrame\n",
        "    if type(msg)==str:            # avoid NaN values\n",
        "        if msg.isspace():         # test 'review' for whitespace\n",
        "            blanks.append(i)     # add matching index numbers to the list\n",
        "        \n",
        "print(len(blanks), 'blanks: ', blanks)"
      ],
      "execution_count": null,
      "outputs": [
        {
          "output_type": "stream",
          "text": [
            "0 blanks:  []\n"
          ],
          "name": "stdout"
        }
      ]
    },
    {
      "cell_type": "markdown",
      "metadata": {
        "id": "f9uEPM-PlPZa",
        "colab_type": "text"
      },
      "source": [
        "###### **task: Check for possible duplicate tweets/retweets**"
      ]
    },
    {
      "cell_type": "markdown",
      "metadata": {
        "id": "lwVFt0PilPZb",
        "colab_type": "text"
      },
      "source": [
        "<img data-attachment-id=\"1700\" data-permalink=\"https://tomraftery.com/2011/06/01/my-twitter-magic-number-is-16-whats-yours/screen-shot-2011-06-01-at-20-25-36/\" data-orig-file=\"https://i2.wp.com/tomraftery.com/wp-content/uploads/2011/06/screen-shot-2011-06-01-at-20-25-36.png?fit=563%2C271&amp;ssl=1\" data-orig-size=\"563,271\" data-comments-opened=\"1\" data-image-meta=\"{&quot;aperture&quot;:&quot;0&quot;,&quot;credit&quot;:&quot;&quot;,&quot;camera&quot;:&quot;&quot;,&quot;caption&quot;:&quot;&quot;,&quot;created_timestamp&quot;:&quot;0&quot;,&quot;copyright&quot;:&quot;&quot;,&quot;focal_length&quot;:&quot;0&quot;,&quot;iso&quot;:&quot;0&quot;,&quot;shutter_speed&quot;:&quot;0&quot;,&quot;title&quot;:&quot;&quot;}\" data-image-title=\"Twitter post\" data-image-description=\"<p>Twitter post staying under my Twitter magic number</p>\n",
        "\" data-medium-file=\"https://i2.wp.com/tomraftery.com/wp-content/uploads/2011/06/screen-shot-2011-06-01-at-20-25-36.png?fit=300%2C144&amp;ssl=1\" data-large-file=\"https://i2.wp.com/tomraftery.com/wp-content/uploads/2011/06/screen-shot-2011-06-01-at-20-25-36.png?fit=563%2C271&amp;ssl=1\" class=\"size-full wp-image-1700 jetpack-lazy-image jetpack-lazy-image--handled\" title=\"Twitter post\" src=\"https://i0.wp.com/www.enterpriseirregulars.com/wp-content/uploads/2011/06/a06675977df79f3e834fdf758225008f1.png?resize=563%2C271&amp;ssl=1\" alt=\"Twitter post\" width=\"563\" height=\"271\" data-recalc-dims=\"1\" data-lazy-loaded=\"1\">\n",
        "\n",
        "<p>Twitter is a superb medium for getting a message out.</p>\n",
        "\n",
        "<p>And it’s RT (ReTweet) convention means that tweets can go viral very quickly. So this may give us an indication of virality and sentiment for certain tweets as there are a number of RT's visible in our data. But how many are there? and for which sentiment classes?</p>"
      ]
    },
    {
      "cell_type": "code",
      "metadata": {
        "id": "GOW8PFoNlPZc",
        "colab_type": "code",
        "colab": {}
      },
      "source": [
        "#len(train_data['message'])-len(train_data['message'].unique())"
      ],
      "execution_count": null,
      "outputs": []
    },
    {
      "cell_type": "code",
      "metadata": {
        "id": "JAfXirnllPZj",
        "colab_type": "code",
        "colab": {}
      },
      "source": [
        "dups_train = train_data['message']"
      ],
      "execution_count": null,
      "outputs": []
    },
    {
      "cell_type": "code",
      "metadata": {
        "id": "Z32eKQxVlPZo",
        "colab_type": "code",
        "colab": {},
        "outputId": "10184bde-4bc0-40c1-903c-473019920277"
      },
      "source": [
        "dups_train = train_data[dups_train.isin(dups_train[dups_train.duplicated()])].sort_values(\"message\")\n",
        "dups_train.shape"
      ],
      "execution_count": null,
      "outputs": [
        {
          "output_type": "execute_result",
          "data": {
            "text/plain": [
              "(1908, 3)"
            ]
          },
          "metadata": {
            "tags": []
          },
          "execution_count": 23
        }
      ]
    },
    {
      "cell_type": "code",
      "metadata": {
        "scrolled": true,
        "id": "zuFJIDzalPZs",
        "colab_type": "code",
        "colab": {},
        "outputId": "e17a830a-dc47-4a9d-e1f7-82cd994c0cd0"
      },
      "source": [
        "dups_train.sample(10)"
      ],
      "execution_count": null,
      "outputs": [
        {
          "output_type": "execute_result",
          "data": {
            "text/html": [
              "<div>\n",
              "<style scoped>\n",
              "    .dataframe tbody tr th:only-of-type {\n",
              "        vertical-align: middle;\n",
              "    }\n",
              "\n",
              "    .dataframe tbody tr th {\n",
              "        vertical-align: top;\n",
              "    }\n",
              "\n",
              "    .dataframe thead th {\n",
              "        text-align: right;\n",
              "    }\n",
              "</style>\n",
              "<table border=\"1\" class=\"dataframe\">\n",
              "  <thead>\n",
              "    <tr style=\"text-align: right;\">\n",
              "      <th></th>\n",
              "      <th>sentiment</th>\n",
              "      <th>message</th>\n",
              "      <th>tweetid</th>\n",
              "    </tr>\n",
              "  </thead>\n",
              "  <tbody>\n",
              "    <tr>\n",
              "      <th>10525</th>\n",
              "      <td>1</td>\n",
              "      <td>RT @NatGeoChannel: Watch #BeforeTheFlood right...</td>\n",
              "      <td>544431</td>\n",
              "    </tr>\n",
              "    <tr>\n",
              "      <th>10047</th>\n",
              "      <td>1</td>\n",
              "      <td>RT @kelkulus: Irony: Florida, a state in dange...</td>\n",
              "      <td>912409</td>\n",
              "    </tr>\n",
              "    <tr>\n",
              "      <th>11038</th>\n",
              "      <td>2</td>\n",
              "      <td>RT @TIME: China to Donald Trump: No, we didnÃ¢...</td>\n",
              "      <td>448622</td>\n",
              "    </tr>\n",
              "    <tr>\n",
              "      <th>2511</th>\n",
              "      <td>1</td>\n",
              "      <td>RT @foxfire2112: While @TheDemocrats say they ...</td>\n",
              "      <td>178164</td>\n",
              "    </tr>\n",
              "    <tr>\n",
              "      <th>2039</th>\n",
              "      <td>1</td>\n",
              "      <td>RT @UN: 12 #globalgoals are directly linked to...</td>\n",
              "      <td>966434</td>\n",
              "    </tr>\n",
              "    <tr>\n",
              "      <th>2211</th>\n",
              "      <td>1</td>\n",
              "      <td>RT @KennethBerlin: Our work to solve climate c...</td>\n",
              "      <td>827016</td>\n",
              "    </tr>\n",
              "    <tr>\n",
              "      <th>5574</th>\n",
              "      <td>1</td>\n",
              "      <td>RT @CNN: No snow where there should be. Bleach...</td>\n",
              "      <td>236672</td>\n",
              "    </tr>\n",
              "    <tr>\n",
              "      <th>13396</th>\n",
              "      <td>1</td>\n",
              "      <td>RT @StephenSchlegel: she's thinking about how ...</td>\n",
              "      <td>740880</td>\n",
              "    </tr>\n",
              "    <tr>\n",
              "      <th>15719</th>\n",
              "      <td>1</td>\n",
              "      <td>RT @SethMacFarlane: Are we looking at an Ameri...</td>\n",
              "      <td>782837</td>\n",
              "    </tr>\n",
              "    <tr>\n",
              "      <th>14267</th>\n",
              "      <td>1</td>\n",
              "      <td>RT @UN: There is optimism in the fight against...</td>\n",
              "      <td>862005</td>\n",
              "    </tr>\n",
              "  </tbody>\n",
              "</table>\n",
              "</div>"
            ],
            "text/plain": [
              "       sentiment                                            message  tweetid\n",
              "10525          1  RT @NatGeoChannel: Watch #BeforeTheFlood right...   544431\n",
              "10047          1  RT @kelkulus: Irony: Florida, a state in dange...   912409\n",
              "11038          2  RT @TIME: China to Donald Trump: No, we didnÃ¢...   448622\n",
              "2511           1  RT @foxfire2112: While @TheDemocrats say they ...   178164\n",
              "2039           1  RT @UN: 12 #globalgoals are directly linked to...   966434\n",
              "2211           1  RT @KennethBerlin: Our work to solve climate c...   827016\n",
              "5574           1  RT @CNN: No snow where there should be. Bleach...   236672\n",
              "13396          1  RT @StephenSchlegel: she's thinking about how ...   740880\n",
              "15719          1  RT @SethMacFarlane: Are we looking at an Ameri...   782837\n",
              "14267          1  RT @UN: There is optimism in the fight against...   862005"
            ]
          },
          "metadata": {
            "tags": []
          },
          "execution_count": 24
        }
      ]
    },
    {
      "cell_type": "code",
      "metadata": {
        "id": "2PdsHWq0lPZw",
        "colab_type": "code",
        "colab": {}
      },
      "source": [
        "dups_tweet_tr = train_data['tweetid']"
      ],
      "execution_count": null,
      "outputs": []
    },
    {
      "cell_type": "code",
      "metadata": {
        "scrolled": false,
        "id": "9VOdRzzSlPZ0",
        "colab_type": "code",
        "colab": {},
        "outputId": "878ef85c-6913-4bf9-e30c-77aba99491f3"
      },
      "source": [
        "train_data[dups_tweet_tr.isin(dups_tweet_tr[dups_tweet_tr.duplicated()])].sort_values(\"message\")"
      ],
      "execution_count": null,
      "outputs": [
        {
          "output_type": "execute_result",
          "data": {
            "text/html": [
              "<div>\n",
              "<style scoped>\n",
              "    .dataframe tbody tr th:only-of-type {\n",
              "        vertical-align: middle;\n",
              "    }\n",
              "\n",
              "    .dataframe tbody tr th {\n",
              "        vertical-align: top;\n",
              "    }\n",
              "\n",
              "    .dataframe thead th {\n",
              "        text-align: right;\n",
              "    }\n",
              "</style>\n",
              "<table border=\"1\" class=\"dataframe\">\n",
              "  <thead>\n",
              "    <tr style=\"text-align: right;\">\n",
              "      <th></th>\n",
              "      <th>sentiment</th>\n",
              "      <th>message</th>\n",
              "      <th>tweetid</th>\n",
              "    </tr>\n",
              "  </thead>\n",
              "  <tbody>\n",
              "  </tbody>\n",
              "</table>\n",
              "</div>"
            ],
            "text/plain": [
              "Empty DataFrame\n",
              "Columns: [sentiment, message, tweetid]\n",
              "Index: []"
            ]
          },
          "metadata": {
            "tags": []
          },
          "execution_count": 26
        }
      ]
    },
    {
      "cell_type": "code",
      "metadata": {
        "id": "MkxCon5nlPZ6",
        "colab_type": "code",
        "colab": {}
      },
      "source": [
        "dups_test = test_data['message']"
      ],
      "execution_count": null,
      "outputs": []
    },
    {
      "cell_type": "code",
      "metadata": {
        "id": "aiPcvUk2lPZ-",
        "colab_type": "code",
        "colab": {},
        "outputId": "be90f196-0858-4fe7-fe6e-4706856d5374"
      },
      "source": [
        "dups_test = test_data[dups_test.isin(dups_test[dups_test.duplicated()])].sort_values(\"message\")\n",
        "dups_test.shape"
      ],
      "execution_count": null,
      "outputs": [
        {
          "output_type": "execute_result",
          "data": {
            "text/plain": [
              "(1164, 2)"
            ]
          },
          "metadata": {
            "tags": []
          },
          "execution_count": 28
        }
      ]
    },
    {
      "cell_type": "code",
      "metadata": {
        "scrolled": true,
        "id": "AqTM3d66lPaC",
        "colab_type": "code",
        "colab": {},
        "outputId": "18dd5944-45a3-4de6-ff1e-5720a571e187"
      },
      "source": [
        "dups_test.sample(10)"
      ],
      "execution_count": null,
      "outputs": [
        {
          "output_type": "execute_result",
          "data": {
            "text/html": [
              "<div>\n",
              "<style scoped>\n",
              "    .dataframe tbody tr th:only-of-type {\n",
              "        vertical-align: middle;\n",
              "    }\n",
              "\n",
              "    .dataframe tbody tr th {\n",
              "        vertical-align: top;\n",
              "    }\n",
              "\n",
              "    .dataframe thead th {\n",
              "        text-align: right;\n",
              "    }\n",
              "</style>\n",
              "<table border=\"1\" class=\"dataframe\">\n",
              "  <thead>\n",
              "    <tr style=\"text-align: right;\">\n",
              "      <th></th>\n",
              "      <th>message</th>\n",
              "      <th>tweetid</th>\n",
              "    </tr>\n",
              "  </thead>\n",
              "  <tbody>\n",
              "    <tr>\n",
              "      <th>137</th>\n",
              "      <td>RT @StephenSchlegel: she's thinking about how ...</td>\n",
              "      <td>810128</td>\n",
              "    </tr>\n",
              "    <tr>\n",
              "      <th>2786</th>\n",
              "      <td>RT @ddlovato: #IVotedBecause I believe in equa...</td>\n",
              "      <td>49607</td>\n",
              "    </tr>\n",
              "    <tr>\n",
              "      <th>2417</th>\n",
              "      <td>RT @NYTNational: Trump has called climate chan...</td>\n",
              "      <td>194820</td>\n",
              "    </tr>\n",
              "    <tr>\n",
              "      <th>7309</th>\n",
              "      <td>RT @jedrlee: Hey girl, are you climate change?...</td>\n",
              "      <td>366303</td>\n",
              "    </tr>\n",
              "    <tr>\n",
              "      <th>9815</th>\n",
              "      <td>RT @StephenSchlegel: she's thinking about how ...</td>\n",
              "      <td>142285</td>\n",
              "    </tr>\n",
              "    <tr>\n",
              "      <th>5279</th>\n",
              "      <td>RT @SamJamesVelde: It's 90 degrees in early No...</td>\n",
              "      <td>321220</td>\n",
              "    </tr>\n",
              "    <tr>\n",
              "      <th>7716</th>\n",
              "      <td>RT @JulianBurnside: Senator Paterson skilfully...</td>\n",
              "      <td>668850</td>\n",
              "    </tr>\n",
              "    <tr>\n",
              "      <th>1104</th>\n",
              "      <td>RT @StephenSchlegel: she's thinking about how ...</td>\n",
              "      <td>6377</td>\n",
              "    </tr>\n",
              "    <tr>\n",
              "      <th>5915</th>\n",
              "      <td>RT @CBSNews: Bernie Sanders: 'What astounds me...</td>\n",
              "      <td>126015</td>\n",
              "    </tr>\n",
              "    <tr>\n",
              "      <th>8016</th>\n",
              "      <td>RT @TreeHugger: Children win right to sue US g...</td>\n",
              "      <td>317102</td>\n",
              "    </tr>\n",
              "  </tbody>\n",
              "</table>\n",
              "</div>"
            ],
            "text/plain": [
              "                                                message  tweetid\n",
              "137   RT @StephenSchlegel: she's thinking about how ...   810128\n",
              "2786  RT @ddlovato: #IVotedBecause I believe in equa...    49607\n",
              "2417  RT @NYTNational: Trump has called climate chan...   194820\n",
              "7309  RT @jedrlee: Hey girl, are you climate change?...   366303\n",
              "9815  RT @StephenSchlegel: she's thinking about how ...   142285\n",
              "5279  RT @SamJamesVelde: It's 90 degrees in early No...   321220\n",
              "7716  RT @JulianBurnside: Senator Paterson skilfully...   668850\n",
              "1104  RT @StephenSchlegel: she's thinking about how ...     6377\n",
              "5915  RT @CBSNews: Bernie Sanders: 'What astounds me...   126015\n",
              "8016  RT @TreeHugger: Children win right to sue US g...   317102"
            ]
          },
          "metadata": {
            "tags": []
          },
          "execution_count": 29
        }
      ]
    },
    {
      "cell_type": "code",
      "metadata": {
        "id": "52q6eNKTlPaG",
        "colab_type": "code",
        "colab": {}
      },
      "source": [
        "dups_tweet_te = train_data['tweetid']"
      ],
      "execution_count": null,
      "outputs": []
    },
    {
      "cell_type": "code",
      "metadata": {
        "scrolled": true,
        "id": "bFXpG3f_lPaM",
        "colab_type": "code",
        "colab": {},
        "outputId": "d8183af7-7d4b-4bce-8bb5-450fa1c8aa39"
      },
      "source": [
        "train_data[dups_tweet_te.isin(dups_tweet_te[dups_tweet_te.duplicated()])].sort_values(\"message\")"
      ],
      "execution_count": null,
      "outputs": [
        {
          "output_type": "execute_result",
          "data": {
            "text/html": [
              "<div>\n",
              "<style scoped>\n",
              "    .dataframe tbody tr th:only-of-type {\n",
              "        vertical-align: middle;\n",
              "    }\n",
              "\n",
              "    .dataframe tbody tr th {\n",
              "        vertical-align: top;\n",
              "    }\n",
              "\n",
              "    .dataframe thead th {\n",
              "        text-align: right;\n",
              "    }\n",
              "</style>\n",
              "<table border=\"1\" class=\"dataframe\">\n",
              "  <thead>\n",
              "    <tr style=\"text-align: right;\">\n",
              "      <th></th>\n",
              "      <th>sentiment</th>\n",
              "      <th>message</th>\n",
              "      <th>tweetid</th>\n",
              "    </tr>\n",
              "  </thead>\n",
              "  <tbody>\n",
              "  </tbody>\n",
              "</table>\n",
              "</div>"
            ],
            "text/plain": [
              "Empty DataFrame\n",
              "Columns: [sentiment, message, tweetid]\n",
              "Index: []"
            ]
          },
          "metadata": {
            "tags": []
          },
          "execution_count": 31
        }
      ]
    },
    {
      "cell_type": "code",
      "metadata": {
        "id": "6w134PL5lPaQ",
        "colab_type": "code",
        "colab": {},
        "outputId": "74147735-863d-4c9e-dd5e-2552ad26a6f0"
      },
      "source": [
        "dups_train_prop = len(dups_train)/len(train_data['message'])\n",
        "dups_test_prop = len(dups_test)/len(test_data['message'])\n",
        "print('Train data proportion of duplicates/RTs:',dups_train_prop)\n",
        "print('Test data proportion of duplicates/RTs:',dups_test_prop)"
      ],
      "execution_count": null,
      "outputs": [
        {
          "output_type": "stream",
          "text": [
            "Train data proportion of duplicates/RTs: 0.12061445097667362\n",
            "Test data proportion of duplicates/RTs: 0.11037360136544662\n"
          ],
          "name": "stdout"
        }
      ]
    },
    {
      "cell_type": "markdown",
      "metadata": {
        "id": "Zr_MrlKZlPaV",
        "colab_type": "text"
      },
      "source": [
        "12 per cent of our train data contains duplicates and 11% of our test data contains duplicates. The propotion of duplicate messages across both data sets is similar."
      ]
    },
    {
      "cell_type": "markdown",
      "metadata": {
        "id": "enyz8YHGlPaX",
        "colab_type": "text"
      },
      "source": [
        "# Text Preprocessing"
      ]
    },
    {
      "cell_type": "markdown",
      "metadata": {
        "id": "UXuEt0qblPaY",
        "colab_type": "text"
      },
      "source": [
        "###### First take at manual text preprocessing."
      ]
    },
    {
      "cell_type": "code",
      "metadata": {
        "id": "yyM4cp-MlPab",
        "colab_type": "code",
        "colab": {}
      },
      "source": [
        "def tweet_preprocessor(tweet):\n",
        "    tweet = tweet.replace('\\n', ' ') # remove line breaks\n",
        "    tweet = re.sub(r\"\\bhttps://t.co/\\w+\", '', tweet) # remove URL's\n",
        "    tweet = re.sub('\\w*\\d\\w*', ' ', tweet) # remove numbers\n",
        "    tweet = re.sub('[%s]' % re.escape(string.punctuation), ' ',   \n",
        "            tweet.lower()) # remove capital letters and punctuation\n",
        "    \n",
        "    return tweet"
      ],
      "execution_count": null,
      "outputs": []
    },
    {
      "cell_type": "markdown",
      "metadata": {
        "id": "nKUk8-LnlPaf",
        "colab_type": "text"
      },
      "source": [
        "###### **task: review sample of uncleaned tweets**"
      ]
    },
    {
      "cell_type": "code",
      "metadata": {
        "id": "pF_MqYhvlPaf",
        "colab_type": "code",
        "colab": {},
        "outputId": "ee422800-dc86-43c3-a368-0d71af51f2a2"
      },
      "source": [
        "train_data['message'].unique()"
      ],
      "execution_count": null,
      "outputs": [
        {
          "output_type": "execute_result",
          "data": {
            "text/plain": [
              "array([\"PolySciMajor EPA chief doesn't think carbon dioxide is main cause of global warming and.. wait, what!? https://t.co/yeLvcEFXkC via @mashable\",\n",
              "       \"It's not like we lack evidence of anthropogenic global warming\",\n",
              "       'RT @RawStory: Researchers say we have three years to act on climate change before it’s too late https://t.co/WdT0KdUr2f https://t.co/Z0ANPT…',\n",
              "       ...,\n",
              "       'notiven: RT: nytimesworld :What does Trump actually believe about climate change? Rick Perry joins other aides in … https://t.co/0Mp2',\n",
              "       'RT @sara8smiles: Hey liberals the climate change crap is a hoax that ties to #Agenda2030.\\nThe Climate is Being Changed byÃ¢â‚¬Â¦',\n",
              "       \"RT @Chet_Cannon: .@kurteichenwald's 'climate change equation' in 4 screenshots https://t.co/lp7UufcxDQ\"],\n",
              "      dtype=object)"
            ]
          },
          "metadata": {
            "tags": []
          },
          "execution_count": 34
        }
      ]
    },
    {
      "cell_type": "code",
      "metadata": {
        "id": "OqR7EPr2lPak",
        "colab_type": "code",
        "colab": {}
      },
      "source": [
        "# try removing non-ASCII strings as a start e.g. byÃ¢â‚¬Â¦\n",
        "train_data['message']=train_data['message'].apply(lambda x: x.split('Ã¢â‚¬Â¦')[0])"
      ],
      "execution_count": null,
      "outputs": []
    },
    {
      "cell_type": "code",
      "metadata": {
        "id": "iJdcYJualPao",
        "colab_type": "code",
        "colab": {},
        "outputId": "1683ca42-9fa4-48db-f497-ac8623cc75b9"
      },
      "source": [
        "train_data['message'].unique()"
      ],
      "execution_count": null,
      "outputs": [
        {
          "output_type": "execute_result",
          "data": {
            "text/plain": [
              "array([\"PolySciMajor EPA chief doesn't think carbon dioxide is main cause of global warming and.. wait, what!? https://t.co/yeLvcEFXkC via @mashable\",\n",
              "       \"It's not like we lack evidence of anthropogenic global warming\",\n",
              "       'RT @RawStory: Researchers say we have three years to act on climate change before it’s too late https://t.co/WdT0KdUr2f https://t.co/Z0ANPT…',\n",
              "       ...,\n",
              "       'notiven: RT: nytimesworld :What does Trump actually believe about climate change? Rick Perry joins other aides in … https://t.co/0Mp2',\n",
              "       'RT @sara8smiles: Hey liberals the climate change crap is a hoax that ties to #Agenda2030.\\nThe Climate is Being Changed by',\n",
              "       \"RT @Chet_Cannon: .@kurteichenwald's 'climate change equation' in 4 screenshots https://t.co/lp7UufcxDQ\"],\n",
              "      dtype=object)"
            ]
          },
          "metadata": {
            "tags": []
          },
          "execution_count": 36
        }
      ]
    },
    {
      "cell_type": "code",
      "metadata": {
        "id": "biDGHQ9AlPav",
        "colab_type": "code",
        "colab": {}
      },
      "source": [
        "# remove URL's\n",
        "train_data['message']=train_data['message'].apply(lambda x: re.sub(r\"\\bhttps://t.co/\\w+\", '', x))"
      ],
      "execution_count": null,
      "outputs": []
    },
    {
      "cell_type": "code",
      "metadata": {
        "id": "YS9ybyoLlPaz",
        "colab_type": "code",
        "colab": {},
        "outputId": "863f2f4a-f0d4-4751-9794-34daa063f535"
      },
      "source": [
        "train_data['message'].unique()"
      ],
      "execution_count": null,
      "outputs": [
        {
          "output_type": "execute_result",
          "data": {
            "text/plain": [
              "array([\"PolySciMajor EPA chief doesn't think carbon dioxide is main cause of global warming and.. wait, what!?  via @mashable\",\n",
              "       \"It's not like we lack evidence of anthropogenic global warming\",\n",
              "       'RT @RawStory: Researchers say we have three years to act on climate change before it’s too late  …',\n",
              "       ...,\n",
              "       'notiven: RT: nytimesworld :What does Trump actually believe about climate change? Rick Perry joins other aides in … ',\n",
              "       'RT @sara8smiles: Hey liberals the climate change crap is a hoax that ties to #Agenda2030.\\nThe Climate is Being Changed by',\n",
              "       \"RT @Chet_Cannon: .@kurteichenwald's 'climate change equation' in 4 screenshots \"],\n",
              "      dtype=object)"
            ]
          },
          "metadata": {
            "tags": []
          },
          "execution_count": 38
        }
      ]
    },
    {
      "cell_type": "code",
      "metadata": {
        "id": "Tw0H_b7glPa6",
        "colab_type": "code",
        "colab": {}
      },
      "source": [
        "# line breaks\n",
        "train_data['message']=train_data['message'].replace('\\n', ' ')"
      ],
      "execution_count": null,
      "outputs": []
    },
    {
      "cell_type": "code",
      "metadata": {
        "id": "E9Tq01DolPa_",
        "colab_type": "code",
        "colab": {},
        "outputId": "2b6ec4eb-43fe-4ca1-cdcf-752f74a55ba2"
      },
      "source": [
        "train_data['message'].unique()"
      ],
      "execution_count": null,
      "outputs": [
        {
          "output_type": "execute_result",
          "data": {
            "text/plain": [
              "array([\"PolySciMajor EPA chief doesn't think carbon dioxide is main cause of global warming and.. wait, what!?  via @mashable\",\n",
              "       \"It's not like we lack evidence of anthropogenic global warming\",\n",
              "       'RT @RawStory: Researchers say we have three years to act on climate change before it’s too late  …',\n",
              "       ...,\n",
              "       'notiven: RT: nytimesworld :What does Trump actually believe about climate change? Rick Perry joins other aides in … ',\n",
              "       'RT @sara8smiles: Hey liberals the climate change crap is a hoax that ties to #Agenda2030.\\nThe Climate is Being Changed by',\n",
              "       \"RT @Chet_Cannon: .@kurteichenwald's 'climate change equation' in 4 screenshots \"],\n",
              "      dtype=object)"
            ]
          },
          "metadata": {
            "tags": []
          },
          "execution_count": 40
        }
      ]
    },
    {
      "cell_type": "code",
      "metadata": {
        "id": "1kQtS1m1lPbF",
        "colab_type": "code",
        "colab": {}
      },
      "source": [
        "# remove numbers\n",
        "train_data['message']=train_data['message'].apply(lambda x: re.sub('\\w*\\d\\w*', ' ', x))"
      ],
      "execution_count": null,
      "outputs": []
    },
    {
      "cell_type": "code",
      "metadata": {
        "id": "ZoZ5LCcllPbJ",
        "colab_type": "code",
        "colab": {},
        "outputId": "509a3f0b-4490-4e75-dc0a-887044483a32"
      },
      "source": [
        "train_data['message'].unique()"
      ],
      "execution_count": null,
      "outputs": [
        {
          "output_type": "execute_result",
          "data": {
            "text/plain": [
              "array([\"PolySciMajor EPA chief doesn't think carbon dioxide is main cause of global warming and.. wait, what!?  via @mashable\",\n",
              "       \"It's not like we lack evidence of anthropogenic global warming\",\n",
              "       'RT @RawStory: Researchers say we have three years to act on climate change before it’s too late  …',\n",
              "       ...,\n",
              "       'notiven: RT: nytimesworld :What does Trump actually believe about climate change? Rick Perry joins other aides in … ',\n",
              "       'RT @ : Hey liberals the climate change crap is a hoax that ties to # .\\nThe Climate is Being Changed by',\n",
              "       \"RT @Chet_Cannon: .@kurteichenwald's 'climate change equation' in   screenshots \"],\n",
              "      dtype=object)"
            ]
          },
          "metadata": {
            "tags": []
          },
          "execution_count": 42
        }
      ]
    },
    {
      "cell_type": "code",
      "metadata": {
        "id": "U8MUmds8lPbM",
        "colab_type": "code",
        "colab": {}
      },
      "source": [
        "# remove capital letters and punctuations\n",
        "\n",
        "train_data['message']=train_data['message'].apply(lambda x: re.sub('[%s]' % re.escape(string.punctuation), ' ', x))"
      ],
      "execution_count": null,
      "outputs": []
    },
    {
      "cell_type": "code",
      "metadata": {
        "id": "R-EbhW_PlPbQ",
        "colab_type": "code",
        "colab": {},
        "outputId": "f3f20aba-3e4f-458c-c263-38097a34b9be"
      },
      "source": [
        "train_data['message'].unique()"
      ],
      "execution_count": null,
      "outputs": [
        {
          "output_type": "execute_result",
          "data": {
            "text/plain": [
              "array(['PolySciMajor EPA chief doesn t think carbon dioxide is main cause of global warming and   wait  what    via  mashable',\n",
              "       'It s not like we lack evidence of anthropogenic global warming',\n",
              "       'RT  RawStory  Researchers say we have three years to act on climate change before it’s too late  …',\n",
              "       ...,\n",
              "       'notiven  RT  nytimesworld  What does Trump actually believe about climate change  Rick Perry joins other aides in … ',\n",
              "       'RT     Hey liberals the climate change crap is a hoax that ties to    \\nThe Climate is Being Changed by',\n",
              "       'RT  Chet Cannon    kurteichenwald s  climate change equation  in   screenshots '],\n",
              "      dtype=object)"
            ]
          },
          "metadata": {
            "tags": []
          },
          "execution_count": 44
        }
      ]
    },
    {
      "cell_type": "code",
      "metadata": {
        "id": "QDwpHRznlPbV",
        "colab_type": "code",
        "colab": {}
      },
      "source": [
        "# Dictionary of English Contractions\n",
        "contractions_dict = { \"ain't\": \"are not\",\"'s\":\" is\",\"aren't\": \"are not\",\n",
        "                     \"can't\": \"cannot\",\"can't've\": \"cannot have\", \"it's\": \"it is\" ,\n",
        "                     \"'cause\": \"because\",\"could've\": \"could have\",\"couldn't\": \"could not\",\n",
        "                     \"couldn't've\": \"could not have\", \"didn't\": \"did not\",\"doesn't\": \"does not\",\n",
        "                     \"don't\": \"do not\",\"hadn't\": \"had not\",\"hadn't've\": \"had not have\",\n",
        "                     \"hasn't\": \"has not\",\"haven't\": \"have not\",\"he'd\": \"he would\",\n",
        "                     \"he'd've\": \"he would have\",\"he'll\": \"he will\", \"he'll've\": \"he will have\",\n",
        "                     \"how'd\": \"how did\",\"how'd'y\": \"how do you\",\"how'll\": \"how will\",\n",
        "                     \"I'd\": \"I would\", \"I'd've\": \"I would have\",\"I'll\": \"I will\",\n",
        "                     \"I'll've\": \"I will have\",\"I'm\": \"I am\",\"I've\": \"I have\", \"isn't\": \"is not\",\n",
        "                     \"it'd\": \"it would\",\"it'd've\": \"it would have\",\"it'll\": \"it will\",\n",
        "                     \"it'll've\": \"it will have\", \"let's\": \"let us\",\"ma'am\": \"madam\",\n",
        "                     \"mayn't\": \"may not\",\"might've\": \"might have\",\"mightn't\": \"might not\", \n",
        "                     \"mightn't've\": \"might not have\",\"must've\": \"must have\",\"mustn't\": \"must not\",\n",
        "                     \"mustn't've\": \"must not have\", \"needn't\": \"need not\",\n",
        "                     \"needn't've\": \"need not have\",\"o'clock\": \"of the clock\",\"oughtn't\": \"ought not\",\n",
        "                     \"oughtn't've\": \"ought not have\",\"shan't\": \"shall not\",\"sha'n't\": \"shall not\",\n",
        "                     \"shan't've\": \"shall not have\",\"she'd\": \"she would\",\"she'd've\": \"she would have\",\n",
        "                     \"she'll\": \"she will\", \"she'll've\": \"she will have\",\"should've\": \"should have\",\n",
        "                     \"shouldn't\": \"should not\", \"shouldn't've\": \"should not have\",\"so've\": \"so have\",\n",
        "                     \"that'd\": \"that would\",\"that'd've\": \"that would have\", \"there'd\": \"there would\",\n",
        "                     \"there'd've\": \"there would have\", \"they'd\": \"they would\",\n",
        "                     \"they'd've\": \"they would have\",\"they'll\": \"they will\",\n",
        "                     \"they'll've\": \"they will have\", \"they're\": \"they are\",\"they've\": \"they have\",\n",
        "                     \"to've\": \"to have\",\"wasn't\": \"was not\",\"we'd\": \"we would\",\n",
        "                     \"we'd've\": \"we would have\",\"we'll\": \"we will\",\"we'll've\": \"we will have\",\n",
        "                     \"we're\": \"we are\",\"we've\": \"we have\", \"weren't\": \"were not\",\"what'll\": \"what will\",\n",
        "                     \"what'll've\": \"what will have\",\"what're\": \"what are\", \"what've\": \"what have\",\n",
        "                     \"when've\": \"when have\",\"where'd\": \"where did\", \"where've\": \"where have\",\n",
        "                     \"who'll\": \"who will\",\"who'll've\": \"who will have\",\"who've\": \"who have\",\n",
        "                     \"why've\": \"why have\",\"will've\": \"will have\",\"won't\": \"will not\",\n",
        "                     \"won't've\": \"will not have\", \"would've\": \"would have\",\"wouldn't\": \"would not\",\n",
        "                     \"wouldn't've\": \"would not have\",\"y'all\": \"you all\", \"y'all'd\": \"you all would\",\n",
        "                     \"y'all'd've\": \"you all would have\",\"y'all're\": \"you all are\",\n",
        "                     \"y'all've\": \"you all have\", \"you'd\": \"you would\",\"you'd've\": \"you would have\",\n",
        "                     \"you'll\": \"you will\",\"you'll've\": \"you will have\", \"you're\": \"you are\",\n",
        "                     \"you've\": \"you have\", \"we’ ve\": \"we have\", \"imvotingbecause\": \"i am voting because\", \"rt\": \"\" }\n",
        "\n",
        "# Regular expression for finding contractions\n",
        "contractions_re=re.compile('(%s)' % '|'.join(contractions_dict.keys()))\n",
        "\n",
        "# Function for expanding contractions\n",
        "def expand_contractions(text,contractions_dict=contractions_dict):\n",
        "  def replace(match):\n",
        "    return contractions_dict[match.group(0)]\n",
        "  return contractions_re.sub(replace, text)\n",
        "\n",
        "# Expanding Contractions in the reviews\n",
        "train_data['message']=train_data['message'].apply(lambda x:expand_contractions(x))"
      ],
      "execution_count": null,
      "outputs": []
    },
    {
      "cell_type": "code",
      "metadata": {
        "id": "p71-AMHTlPbY",
        "colab_type": "code",
        "colab": {},
        "outputId": "c7b47e66-9a21-4bdb-b965-ca0e42595f8d"
      },
      "source": [
        "train_data['message'].unique()"
      ],
      "execution_count": null,
      "outputs": [
        {
          "output_type": "execute_result",
          "data": {
            "text/plain": [
              "array(['PolySciMajor EPA chief doesn t think carbon dioxide is main cause of global warming and   wait  what    via  mashable',\n",
              "       'It s not like we lack evidence of anthropogenic global warming',\n",
              "       'RT  RawStory  Researchers say we have three years to act on climate change before it’s too late  …',\n",
              "       ...,\n",
              "       'notiven  RT  nytimesworld  What does Trump actually believe about climate change  Rick Perry joins other aides in … ',\n",
              "       'RT     Hey liberals the climate change crap is a hoax that ties to    \\nThe Climate is Being Changed by',\n",
              "       'RT  Chet Cannon    kueichenwald s  climate change equation  in   screenshots '],\n",
              "      dtype=object)"
            ]
          },
          "metadata": {
            "tags": []
          },
          "execution_count": 46
        }
      ]
    },
    {
      "cell_type": "code",
      "metadata": {
        "id": "e2oBIxYilPbc",
        "colab_type": "code",
        "colab": {}
      },
      "source": [
        "train_data['message']=train_data['message'].apply(lambda x: x.lower())"
      ],
      "execution_count": null,
      "outputs": []
    },
    {
      "cell_type": "code",
      "metadata": {
        "scrolled": true,
        "id": "YUVXTliOlPbh",
        "colab_type": "code",
        "colab": {},
        "outputId": "ed66ddef-ac21-4929-dbad-473ebace082f"
      },
      "source": [
        "train_data['message'].unique()"
      ],
      "execution_count": null,
      "outputs": [
        {
          "output_type": "execute_result",
          "data": {
            "text/plain": [
              "array(['polyscimajor epa chief doesn t think carbon dioxide is main cause of global warming and   wait  what    via  mashable',\n",
              "       'it s not like we lack evidence of anthropogenic global warming',\n",
              "       'rt  rawstory  researchers say we have three years to act on climate change before it’s too late  …',\n",
              "       ...,\n",
              "       'notiven  rt  nytimesworld  what does trump actually believe about climate change  rick perry joins other aides in … ',\n",
              "       'rt     hey liberals the climate change crap is a hoax that ties to    \\nthe climate is being changed by',\n",
              "       'rt  chet cannon    kueichenwald s  climate change equation  in   screenshots '],\n",
              "      dtype=object)"
            ]
          },
          "metadata": {
            "tags": []
          },
          "execution_count": 48
        }
      ]
    },
    {
      "cell_type": "code",
      "metadata": {
        "id": "IRWZvtSLlPbl",
        "colab_type": "code",
        "colab": {}
      },
      "source": [
        "train_data['message']=train_data['message'].apply(lambda x: re.sub('\\w*\\d\\w*','', x))"
      ],
      "execution_count": null,
      "outputs": []
    },
    {
      "cell_type": "code",
      "metadata": {
        "id": "m42Tj20ylPbr",
        "colab_type": "code",
        "colab": {},
        "outputId": "11db22aa-4e44-421c-fc69-f59a2a69daf0"
      },
      "source": [
        "train_data['message'].unique()"
      ],
      "execution_count": null,
      "outputs": [
        {
          "output_type": "execute_result",
          "data": {
            "text/plain": [
              "array(['polyscimajor epa chief doesn t think carbon dioxide is main cause of global warming and   wait  what    via  mashable',\n",
              "       'it s not like we lack evidence of anthropogenic global warming',\n",
              "       'rt  rawstory  researchers say we have three years to act on climate change before it’s too late  …',\n",
              "       ...,\n",
              "       'notiven  rt  nytimesworld  what does trump actually believe about climate change  rick perry joins other aides in … ',\n",
              "       'rt     hey liberals the climate change crap is a hoax that ties to    \\nthe climate is being changed by',\n",
              "       'rt  chet cannon    kueichenwald s  climate change equation  in   screenshots '],\n",
              "      dtype=object)"
            ]
          },
          "metadata": {
            "tags": []
          },
          "execution_count": 50
        }
      ]
    },
    {
      "cell_type": "code",
      "metadata": {
        "id": "fetOHgEalPbv",
        "colab_type": "code",
        "colab": {}
      },
      "source": [
        "# remove punctuations\n",
        "\n",
        "train_data['message']=train_data['message'].apply(lambda x: re.sub('[%s]' % re.escape(string.punctuation), '', x))"
      ],
      "execution_count": null,
      "outputs": []
    },
    {
      "cell_type": "code",
      "metadata": {
        "id": "Hx0ujRAOlPb1",
        "colab_type": "code",
        "colab": {},
        "outputId": "c280ad42-11b4-469a-ea6a-40213aa3604b"
      },
      "source": [
        "train_data['message'].unique()"
      ],
      "execution_count": null,
      "outputs": [
        {
          "output_type": "execute_result",
          "data": {
            "text/plain": [
              "array(['polyscimajor epa chief doesn t think carbon dioxide is main cause of global warming and   wait  what    via  mashable',\n",
              "       'it s not like we lack evidence of anthropogenic global warming',\n",
              "       'rt  rawstory  researchers say we have three years to act on climate change before it’s too late  …',\n",
              "       ...,\n",
              "       'notiven  rt  nytimesworld  what does trump actually believe about climate change  rick perry joins other aides in … ',\n",
              "       'rt     hey liberals the climate change crap is a hoax that ties to    \\nthe climate is being changed by',\n",
              "       'rt  chet cannon    kueichenwald s  climate change equation  in   screenshots '],\n",
              "      dtype=object)"
            ]
          },
          "metadata": {
            "tags": []
          },
          "execution_count": 52
        }
      ]
    },
    {
      "cell_type": "code",
      "metadata": {
        "id": "Om5VFsVKlPb5",
        "colab_type": "code",
        "colab": {}
      },
      "source": [
        "# remove extra spaces\n",
        "train_data['message']=train_data['message'].apply(lambda x: re.sub(' +',' ',x))"
      ],
      "execution_count": null,
      "outputs": []
    },
    {
      "cell_type": "code",
      "metadata": {
        "id": "JLvQX2rplPb9",
        "colab_type": "code",
        "colab": {},
        "outputId": "690e84f6-ae06-4394-f1bc-2e915366a14d"
      },
      "source": [
        "train_data['message'].unique()"
      ],
      "execution_count": null,
      "outputs": [
        {
          "output_type": "execute_result",
          "data": {
            "text/plain": [
              "array(['polyscimajor epa chief doesn t think carbon dioxide is main cause of global warming and wait what via mashable',\n",
              "       'it s not like we lack evidence of anthropogenic global warming',\n",
              "       'rt rawstory researchers say we have three years to act on climate change before it’s too late …',\n",
              "       ...,\n",
              "       'notiven rt nytimesworld what does trump actually believe about climate change rick perry joins other aides in … ',\n",
              "       'rt hey liberals the climate change crap is a hoax that ties to \\nthe climate is being changed by',\n",
              "       'rt chet cannon kueichenwald s climate change equation in screenshots '],\n",
              "      dtype=object)"
            ]
          },
          "metadata": {
            "tags": []
          },
          "execution_count": 54
        }
      ]
    },
    {
      "cell_type": "code",
      "metadata": {
        "id": "g20omEG9lPcC",
        "colab_type": "code",
        "colab": {},
        "outputId": "38490b14-7d71-4feb-8fb0-bdd938de0287"
      },
      "source": [
        "train_data.head()"
      ],
      "execution_count": null,
      "outputs": [
        {
          "output_type": "execute_result",
          "data": {
            "text/html": [
              "<div>\n",
              "<style scoped>\n",
              "    .dataframe tbody tr th:only-of-type {\n",
              "        vertical-align: middle;\n",
              "    }\n",
              "\n",
              "    .dataframe tbody tr th {\n",
              "        vertical-align: top;\n",
              "    }\n",
              "\n",
              "    .dataframe thead th {\n",
              "        text-align: right;\n",
              "    }\n",
              "</style>\n",
              "<table border=\"1\" class=\"dataframe\">\n",
              "  <thead>\n",
              "    <tr style=\"text-align: right;\">\n",
              "      <th></th>\n",
              "      <th>sentiment</th>\n",
              "      <th>message</th>\n",
              "      <th>tweetid</th>\n",
              "    </tr>\n",
              "  </thead>\n",
              "  <tbody>\n",
              "    <tr>\n",
              "      <th>0</th>\n",
              "      <td>1</td>\n",
              "      <td>polyscimajor epa chief doesn t think carbon di...</td>\n",
              "      <td>625221</td>\n",
              "    </tr>\n",
              "    <tr>\n",
              "      <th>1</th>\n",
              "      <td>1</td>\n",
              "      <td>it s not like we lack evidence of anthropogeni...</td>\n",
              "      <td>126103</td>\n",
              "    </tr>\n",
              "    <tr>\n",
              "      <th>2</th>\n",
              "      <td>2</td>\n",
              "      <td>rt rawstory researchers say we have three year...</td>\n",
              "      <td>698562</td>\n",
              "    </tr>\n",
              "    <tr>\n",
              "      <th>3</th>\n",
              "      <td>1</td>\n",
              "      <td>todayinmaker wired was a pivotal year in the ...</td>\n",
              "      <td>573736</td>\n",
              "    </tr>\n",
              "    <tr>\n",
              "      <th>4</th>\n",
              "      <td>1</td>\n",
              "      <td>rt soynoviodetodas it s and a racist sexist cl...</td>\n",
              "      <td>466954</td>\n",
              "    </tr>\n",
              "  </tbody>\n",
              "</table>\n",
              "</div>"
            ],
            "text/plain": [
              "   sentiment                                            message  tweetid\n",
              "0          1  polyscimajor epa chief doesn t think carbon di...   625221\n",
              "1          1  it s not like we lack evidence of anthropogeni...   126103\n",
              "2          2  rt rawstory researchers say we have three year...   698562\n",
              "3          1   todayinmaker wired was a pivotal year in the ...   573736\n",
              "4          1  rt soynoviodetodas it s and a racist sexist cl...   466954"
            ]
          },
          "metadata": {
            "tags": []
          },
          "execution_count": 55
        }
      ]
    },
    {
      "cell_type": "code",
      "metadata": {
        "id": "9ZvvFOV9lPcI",
        "colab_type": "code",
        "colab": {},
        "outputId": "cb6f6cc9-0bb2-4292-b21a-1a829d5d73fd"
      },
      "source": [
        "# Function to remove emojis\n",
        "!pip install emoji\n",
        "import emoji\n",
        "import string\n",
        "\n",
        "def give_emoji_free_text(text):\n",
        "    \n",
        "    '''\n",
        "    Takes in tweet series, removes all emojis, and returns cleaned tweet series.\n",
        "    '''\n",
        "    \n",
        "    allchars = [str for str in text]\n",
        "    emoji_list = [c for c in allchars if c in emoji.UNICODE_EMOJI]\n",
        "    clean_text = ' '.join([str for str in text.split() if not any(i in str for i in emoji_list)])\n",
        "\n",
        "    return clean_text"
      ],
      "execution_count": null,
      "outputs": [
        {
          "output_type": "stream",
          "text": [
            "Requirement already satisfied: emoji in c:\\users\\user\\anaconda3\\lib\\site-packages (0.5.4)\n"
          ],
          "name": "stdout"
        }
      ]
    },
    {
      "cell_type": "code",
      "metadata": {
        "id": "GEMHAPeNlPcM",
        "colab_type": "code",
        "colab": {}
      },
      "source": [
        "full_text_list = []\n",
        "\n",
        "for index, rows in train_data['message'].iteritems():\n",
        "    rows = give_emoji_free_text(rows) # remove emojis\n",
        "    full_text_list.append(rows)\n",
        "    \n",
        "train_data['message'] = full_text_list"
      ],
      "execution_count": null,
      "outputs": []
    },
    {
      "cell_type": "code",
      "metadata": {
        "id": "TM3G9Oc4lPcQ",
        "colab_type": "code",
        "colab": {},
        "outputId": "2221d8e6-e6b0-47c3-ce99-9f850f1f165c"
      },
      "source": [
        "train_data['message'].unique()"
      ],
      "execution_count": null,
      "outputs": [
        {
          "output_type": "execute_result",
          "data": {
            "text/plain": [
              "array(['polyscimajor epa chief doesn t think carbon dioxide is main cause of global warming and wait what via mashable',\n",
              "       'it s not like we lack evidence of anthropogenic global warming',\n",
              "       'rt rawstory researchers say we have three years to act on climate change before it’s too late …',\n",
              "       ...,\n",
              "       'notiven rt nytimesworld what does trump actually believe about climate change rick perry joins other aides in …',\n",
              "       'rt hey liberals the climate change crap is a hoax that ties to the climate is being changed by',\n",
              "       'rt chet cannon kueichenwald s climate change equation in screenshots'],\n",
              "      dtype=object)"
            ]
          },
          "metadata": {
            "tags": []
          },
          "execution_count": 58
        }
      ]
    },
    {
      "cell_type": "code",
      "metadata": {
        "id": "TntwyQJMlPcS",
        "colab_type": "code",
        "colab": {}
      },
      "source": [
        "# try removing non-ASCII strings as a start e.g. iã¢â‚¬â¦\n",
        "train_data['message']=train_data['message'].apply(lambda x: x.split('iã¢â‚¬â¦')[0])"
      ],
      "execution_count": null,
      "outputs": []
    },
    {
      "cell_type": "code",
      "metadata": {
        "id": "E38MD179lPcX",
        "colab_type": "code",
        "colab": {},
        "outputId": "2bb28462-a354-4f9b-c3e2-5fbd2e7c2499"
      },
      "source": [
        "for index,text in enumerate(train_data['message'][35:40]):\n",
        "  print('Message %d:\\n'%(index+1),text)"
      ],
      "execution_count": null,
      "outputs": [
        {
          "output_type": "stream",
          "text": [
            "Message 1:\n",
            " rt berniesanders imvotingbecause the future of the planet is at stake hillary clinton will combat climate change donald trump thinks i\n",
            "Message 2:\n",
            " rt independent trump s team removed climate change data from the white house website they may be breaking the law…\n",
            "Message 3:\n",
            " rt deboraheha toxic soils aquifers vast amts of wasted waste water runaway climate change what pa of gas fracking don …\n",
            "Message 4:\n",
            " rt bettybowers america where climate change is “unproven” to people sure a guy called noah fit all the world s animals on hi…\n",
            "Message 5:\n",
            " we’ ve dealt with simple issues like climate change and energy policy now the complex issues mal vs tones qanda\n"
          ],
          "name": "stdout"
        }
      ]
    },
    {
      "cell_type": "code",
      "metadata": {
        "id": "74bGhzJqlPca",
        "colab_type": "code",
        "colab": {}
      },
      "source": [
        "train_data.to_csv('new train.csv', index=False)"
      ],
      "execution_count": null,
      "outputs": []
    },
    {
      "cell_type": "code",
      "metadata": {
        "id": "ZPemIZeDlPcc",
        "colab_type": "code",
        "colab": {}
      },
      "source": [
        "df = pd.read_csv('new train.csv')"
      ],
      "execution_count": null,
      "outputs": []
    },
    {
      "cell_type": "code",
      "metadata": {
        "scrolled": true,
        "id": "meLCmaPFlPce",
        "colab_type": "code",
        "colab": {},
        "outputId": "7cddaff1-815e-4880-f4f9-b0c8c58dcb7c"
      },
      "source": [
        "df"
      ],
      "execution_count": null,
      "outputs": [
        {
          "output_type": "execute_result",
          "data": {
            "text/html": [
              "<div>\n",
              "<style scoped>\n",
              "    .dataframe tbody tr th:only-of-type {\n",
              "        vertical-align: middle;\n",
              "    }\n",
              "\n",
              "    .dataframe tbody tr th {\n",
              "        vertical-align: top;\n",
              "    }\n",
              "\n",
              "    .dataframe thead th {\n",
              "        text-align: right;\n",
              "    }\n",
              "</style>\n",
              "<table border=\"1\" class=\"dataframe\">\n",
              "  <thead>\n",
              "    <tr style=\"text-align: right;\">\n",
              "      <th></th>\n",
              "      <th>sentiment</th>\n",
              "      <th>message</th>\n",
              "      <th>tweetid</th>\n",
              "    </tr>\n",
              "  </thead>\n",
              "  <tbody>\n",
              "    <tr>\n",
              "      <th>0</th>\n",
              "      <td>1</td>\n",
              "      <td>polyscimajor epa chief doesn t think carbon di...</td>\n",
              "      <td>625221</td>\n",
              "    </tr>\n",
              "    <tr>\n",
              "      <th>1</th>\n",
              "      <td>1</td>\n",
              "      <td>it s not like we lack evidence of anthropogeni...</td>\n",
              "      <td>126103</td>\n",
              "    </tr>\n",
              "    <tr>\n",
              "      <th>2</th>\n",
              "      <td>2</td>\n",
              "      <td>rt rawstory researchers say we have three year...</td>\n",
              "      <td>698562</td>\n",
              "    </tr>\n",
              "    <tr>\n",
              "      <th>3</th>\n",
              "      <td>1</td>\n",
              "      <td>todayinmaker wired was a pivotal year in the w...</td>\n",
              "      <td>573736</td>\n",
              "    </tr>\n",
              "    <tr>\n",
              "      <th>4</th>\n",
              "      <td>1</td>\n",
              "      <td>rt soynoviodetodas it s and a racist sexist cl...</td>\n",
              "      <td>466954</td>\n",
              "    </tr>\n",
              "    <tr>\n",
              "      <th>...</th>\n",
              "      <td>...</td>\n",
              "      <td>...</td>\n",
              "      <td>...</td>\n",
              "    </tr>\n",
              "    <tr>\n",
              "      <th>15814</th>\n",
              "      <td>1</td>\n",
              "      <td>rt ezlusztig they took down the material on gl...</td>\n",
              "      <td>22001</td>\n",
              "    </tr>\n",
              "    <tr>\n",
              "      <th>15815</th>\n",
              "      <td>2</td>\n",
              "      <td>rt washingtonpost how climate change could be ...</td>\n",
              "      <td>17856</td>\n",
              "    </tr>\n",
              "    <tr>\n",
              "      <th>15816</th>\n",
              "      <td>0</td>\n",
              "      <td>notiven rt nytimesworld what does trump actual...</td>\n",
              "      <td>384248</td>\n",
              "    </tr>\n",
              "    <tr>\n",
              "      <th>15817</th>\n",
              "      <td>-1</td>\n",
              "      <td>rt hey liberals the climate change crap is a h...</td>\n",
              "      <td>819732</td>\n",
              "    </tr>\n",
              "    <tr>\n",
              "      <th>15818</th>\n",
              "      <td>0</td>\n",
              "      <td>rt chet cannon kueichenwald s climate change e...</td>\n",
              "      <td>806319</td>\n",
              "    </tr>\n",
              "  </tbody>\n",
              "</table>\n",
              "<p>15819 rows × 3 columns</p>\n",
              "</div>"
            ],
            "text/plain": [
              "       sentiment                                            message  tweetid\n",
              "0              1  polyscimajor epa chief doesn t think carbon di...   625221\n",
              "1              1  it s not like we lack evidence of anthropogeni...   126103\n",
              "2              2  rt rawstory researchers say we have three year...   698562\n",
              "3              1  todayinmaker wired was a pivotal year in the w...   573736\n",
              "4              1  rt soynoviodetodas it s and a racist sexist cl...   466954\n",
              "...          ...                                                ...      ...\n",
              "15814          1  rt ezlusztig they took down the material on gl...    22001\n",
              "15815          2  rt washingtonpost how climate change could be ...    17856\n",
              "15816          0  notiven rt nytimesworld what does trump actual...   384248\n",
              "15817         -1  rt hey liberals the climate change crap is a h...   819732\n",
              "15818          0  rt chet cannon kueichenwald s climate change e...   806319\n",
              "\n",
              "[15819 rows x 3 columns]"
            ]
          },
          "metadata": {
            "tags": []
          },
          "execution_count": 63
        }
      ]
    },
    {
      "cell_type": "markdown",
      "metadata": {
        "id": "DPubkW_-lPch",
        "colab_type": "text"
      },
      "source": [
        "###### **task: lemmatization**"
      ]
    },
    {
      "cell_type": "code",
      "metadata": {
        "id": "gsZqLUOUlPch",
        "colab_type": "code",
        "colab": {}
      },
      "source": [
        "# Loading model\n",
        "nlp = spacy.load('en_core_web_sm',disable=['parser', 'ner'])"
      ],
      "execution_count": null,
      "outputs": []
    },
    {
      "cell_type": "code",
      "metadata": {
        "id": "KUw2tp1xlPcj",
        "colab_type": "code",
        "colab": {}
      },
      "source": [
        "# tokenization"
      ],
      "execution_count": null,
      "outputs": []
    },
    {
      "cell_type": "code",
      "metadata": {
        "id": "ynuZg8PElPco",
        "colab_type": "code",
        "colab": {},
        "outputId": "db808baf-cfb7-4eba-cbad-3de11254198a"
      },
      "source": [
        "# Lemmatization with stopwords removal\n",
        "train_data['lemmatized']=train_data['lemmatized']=train_data['message'].apply(lambda x: ' '.join([token.lemma_ for token in list(nlp(x)) if (token.is_stop==False)]))\n",
        "train_data['lemmatized']"
      ],
      "execution_count": null,
      "outputs": [
        {
          "output_type": "execute_result",
          "data": {
            "text/plain": [
              "0        polyscimajor epa chief doesn t think carbon di...\n",
              "1        s like lack evidence anthropogenic global warming\n",
              "2        rt rawstory researcher year act climate change...\n",
              "3        todayinmaker wired pivotal year war climate ch...\n",
              "4        rt soynoviodetoda s racist sexist climate chan...\n",
              "                               ...                        \n",
              "15814    rt ezlusztig take material global warming lgbt...\n",
              "15815    rt washingtonpost climate change break million...\n",
              "15816    notiven rt nytimesworld trump actually believe...\n",
              "15817    rt hey liberal climate change crap hoax tie cl...\n",
              "15818    rt chet cannon kueichenwald s climate change e...\n",
              "Name: lemmatized, Length: 15819, dtype: object"
            ]
          },
          "metadata": {
            "tags": []
          },
          "execution_count": 66
        }
      ]
    },
    {
      "cell_type": "code",
      "metadata": {
        "scrolled": true,
        "id": "nYY57wBOlPcr",
        "colab_type": "code",
        "colab": {},
        "outputId": "117fdafb-5b5e-461d-d3ff-49adb5a5d45b"
      },
      "source": [
        "train_data_grouped=train_data[['message','lemmatized']].groupby(by='message').agg(lambda x:' '.join(x))\n",
        "train_data_grouped.head()"
      ],
      "execution_count": null,
      "outputs": [
        {
          "output_type": "execute_result",
          "data": {
            "text/html": [
              "<div>\n",
              "<style scoped>\n",
              "    .dataframe tbody tr th:only-of-type {\n",
              "        vertical-align: middle;\n",
              "    }\n",
              "\n",
              "    .dataframe tbody tr th {\n",
              "        vertical-align: top;\n",
              "    }\n",
              "\n",
              "    .dataframe thead th {\n",
              "        text-align: right;\n",
              "    }\n",
              "</style>\n",
              "<table border=\"1\" class=\"dataframe\">\n",
              "  <thead>\n",
              "    <tr style=\"text-align: right;\">\n",
              "      <th></th>\n",
              "      <th>lemmatized</th>\n",
              "    </tr>\n",
              "    <tr>\n",
              "      <th>message</th>\n",
              "      <th></th>\n",
              "    </tr>\n",
              "  </thead>\n",
              "  <tbody>\n",
              "    <tr>\n",
              "      <th>a bully doesn t always get his way no witch hunt against our devoted scientists and climate change workers</th>\n",
              "      <td>bully doesn t way witch hunt devoted scientist...</td>\n",
              "    </tr>\n",
              "    <tr>\n",
              "      <th>a century of climate change in seconds science via cosmosmagazine</th>\n",
              "      <td>century climate change second science cosmosma...</td>\n",
              "    </tr>\n",
              "    <tr>\n",
              "      <th>a climate change denier in the epa a creationist as ded an incestuous bigot for ag wishing you had those thro</th>\n",
              "      <td>climate change denier epa creationist de inces...</td>\n",
              "    </tr>\n",
              "    <tr>\n",
              "      <th>a climate change denier is leading trump s epa transition team along with an oil company lobbyist</th>\n",
              "      <td>climate change denier lead trump s epa transit...</td>\n",
              "    </tr>\n",
              "    <tr>\n",
              "      <th>a climate change economist sounds the alarm via bv</th>\n",
              "      <td>climate change economist sound alarm bv</td>\n",
              "    </tr>\n",
              "  </tbody>\n",
              "</table>\n",
              "</div>"
            ],
            "text/plain": [
              "                                                                                           lemmatized\n",
              "message                                                                                              \n",
              "a bully doesn t always get his way no witch hun...  bully doesn t way witch hunt devoted scientist...\n",
              "a century of climate change in seconds science ...  century climate change second science cosmosma...\n",
              "a climate change denier in the epa a creationis...  climate change denier epa creationist de inces...\n",
              "a climate change denier is leading trump s epa ...  climate change denier lead trump s epa transit...\n",
              "a climate change economist sounds the alarm via bv            climate change economist sound alarm bv"
            ]
          },
          "metadata": {
            "tags": []
          },
          "execution_count": 67
        }
      ]
    },
    {
      "cell_type": "code",
      "metadata": {
        "id": "S5EhTbYMlPct",
        "colab_type": "code",
        "colab": {}
      },
      "source": [
        "#train_data.drop('message', axis=1, inplace=True)"
      ],
      "execution_count": null,
      "outputs": []
    },
    {
      "cell_type": "code",
      "metadata": {
        "scrolled": true,
        "id": "vg30L4PilPcw",
        "colab_type": "code",
        "colab": {},
        "outputId": "e17cad36-2e1c-4285-c164-21ba584243b1"
      },
      "source": [
        "train_data.head()"
      ],
      "execution_count": null,
      "outputs": [
        {
          "output_type": "execute_result",
          "data": {
            "text/html": [
              "<div>\n",
              "<style scoped>\n",
              "    .dataframe tbody tr th:only-of-type {\n",
              "        vertical-align: middle;\n",
              "    }\n",
              "\n",
              "    .dataframe tbody tr th {\n",
              "        vertical-align: top;\n",
              "    }\n",
              "\n",
              "    .dataframe thead th {\n",
              "        text-align: right;\n",
              "    }\n",
              "</style>\n",
              "<table border=\"1\" class=\"dataframe\">\n",
              "  <thead>\n",
              "    <tr style=\"text-align: right;\">\n",
              "      <th></th>\n",
              "      <th>sentiment</th>\n",
              "      <th>message</th>\n",
              "      <th>tweetid</th>\n",
              "      <th>lemmatized</th>\n",
              "    </tr>\n",
              "  </thead>\n",
              "  <tbody>\n",
              "    <tr>\n",
              "      <th>0</th>\n",
              "      <td>1</td>\n",
              "      <td>polyscimajor epa chief doesn t think carbon di...</td>\n",
              "      <td>625221</td>\n",
              "      <td>polyscimajor epa chief doesn t think carbon di...</td>\n",
              "    </tr>\n",
              "    <tr>\n",
              "      <th>1</th>\n",
              "      <td>1</td>\n",
              "      <td>it s not like we lack evidence of anthropogeni...</td>\n",
              "      <td>126103</td>\n",
              "      <td>s like lack evidence anthropogenic global warming</td>\n",
              "    </tr>\n",
              "    <tr>\n",
              "      <th>2</th>\n",
              "      <td>2</td>\n",
              "      <td>rt rawstory researchers say we have three year...</td>\n",
              "      <td>698562</td>\n",
              "      <td>rt rawstory researcher year act climate change...</td>\n",
              "    </tr>\n",
              "    <tr>\n",
              "      <th>3</th>\n",
              "      <td>1</td>\n",
              "      <td>todayinmaker wired was a pivotal year in the w...</td>\n",
              "      <td>573736</td>\n",
              "      <td>todayinmaker wired pivotal year war climate ch...</td>\n",
              "    </tr>\n",
              "    <tr>\n",
              "      <th>4</th>\n",
              "      <td>1</td>\n",
              "      <td>rt soynoviodetodas it s and a racist sexist cl...</td>\n",
              "      <td>466954</td>\n",
              "      <td>rt soynoviodetoda s racist sexist climate chan...</td>\n",
              "    </tr>\n",
              "  </tbody>\n",
              "</table>\n",
              "</div>"
            ],
            "text/plain": [
              "   sentiment                                            message  tweetid  \\\n",
              "0          1  polyscimajor epa chief doesn t think carbon di...   625221   \n",
              "1          1  it s not like we lack evidence of anthropogeni...   126103   \n",
              "2          2  rt rawstory researchers say we have three year...   698562   \n",
              "3          1  todayinmaker wired was a pivotal year in the w...   573736   \n",
              "4          1  rt soynoviodetodas it s and a racist sexist cl...   466954   \n",
              "\n",
              "                                          lemmatized  \n",
              "0  polyscimajor epa chief doesn t think carbon di...  \n",
              "1  s like lack evidence anthropogenic global warming  \n",
              "2  rt rawstory researcher year act climate change...  \n",
              "3  todayinmaker wired pivotal year war climate ch...  \n",
              "4  rt soynoviodetoda s racist sexist climate chan...  "
            ]
          },
          "metadata": {
            "tags": []
          },
          "execution_count": 69
        }
      ]
    },
    {
      "cell_type": "code",
      "metadata": {
        "id": "erI5JZZmlPcy",
        "colab_type": "code",
        "colab": {},
        "outputId": "bbfd670b-773c-4161-9257-3896e7131320"
      },
      "source": [
        "train_data['lemmatized'].unique()"
      ],
      "execution_count": null,
      "outputs": [
        {
          "output_type": "execute_result",
          "data": {
            "text/plain": [
              "array(['polyscimajor epa chief doesn t think carbon dioxide main cause global warming wait mashable',\n",
              "       's like lack evidence anthropogenic global warming',\n",
              "       'rt rawstory researcher year act climate change late …', ...,\n",
              "       'notiven rt nytimesworld trump actually believe climate change rick perry join aide …',\n",
              "       'rt hey liberal climate change crap hoax tie climate change',\n",
              "       'rt chet cannon kueichenwald s climate change equation screenshot'],\n",
              "      dtype=object)"
            ]
          },
          "metadata": {
            "tags": []
          },
          "execution_count": 70
        }
      ]
    },
    {
      "cell_type": "code",
      "metadata": {
        "id": "ytB6qkkqlPc1",
        "colab_type": "code",
        "colab": {},
        "outputId": "3f757950-686e-4e84-afb2-fb21100bf4b3"
      },
      "source": [
        "for index,text in enumerate(train_data['lemmatized'][35:40]):\n",
        "  print('Lemmatized Message %d:\\n'%(index+1),text)"
      ],
      "execution_count": null,
      "outputs": [
        {
          "output_type": "stream",
          "text": [
            "Lemmatized Message 1:\n",
            " rt berniesanders imvotingbecause future planet stake hillary clinton combat climate change donald trump think\n",
            "Lemmatized Message 2:\n",
            " rt independent trump s team remove climate change datum white house website break law …\n",
            "Lemmatized Message 3:\n",
            " rt deboraheha toxic soils aquifer vast amts waste waste water runaway climate change pa gas fracke don …\n",
            "Lemmatized Message 4:\n",
            " rt bettybowers america climate change \" unproven \" people sure guy call noah fit world s animal hi …\n",
            "Lemmatized Message 5:\n",
            " ' ve deal simple issue like climate change energy policy complex issue mal vs tone qanda\n"
          ],
          "name": "stdout"
        }
      ]
    },
    {
      "cell_type": "markdown",
      "metadata": {
        "id": "IuwZ-qcmlPc3",
        "colab_type": "text"
      },
      "source": [
        "###### **task: feature generation**"
      ]
    },
    {
      "cell_type": "code",
      "metadata": {
        "scrolled": true,
        "id": "4LHZl5ULlPc4",
        "colab_type": "code",
        "colab": {},
        "outputId": "eb4fe824-4d40-43a3-dcfd-ec8737534e98"
      },
      "source": [
        "# Creating Document Term Matrix\n",
        "token = RegexpTokenizer(r'[@a-zA-Z0-9]+')\n",
        "cv=CountVectorizer(analyzer='word',lowercase=True,stop_words='english',ngram_range = (1,1),tokenizer = token.tokenize)\n",
        "text_counts=cv.fit_transform(train_data['lemmatized'])\n",
        "df_dtm = pd.DataFrame(text_counts.toarray(), columns=cv.get_feature_names())\n",
        "df_dtm.index=train_data['lemmatized'].index\n",
        "df_dtm.sample(10)"
      ],
      "execution_count": null,
      "outputs": [
        {
          "output_type": "execute_result",
          "data": {
            "text/html": [
              "<div>\n",
              "<style scoped>\n",
              "    .dataframe tbody tr th:only-of-type {\n",
              "        vertical-align: middle;\n",
              "    }\n",
              "\n",
              "    .dataframe tbody tr th {\n",
              "        vertical-align: top;\n",
              "    }\n",
              "\n",
              "    .dataframe thead th {\n",
              "        text-align: right;\n",
              "    }\n",
              "</style>\n",
              "<table border=\"1\" class=\"dataframe\">\n",
              "  <thead>\n",
              "    <tr style=\"text-align: right;\">\n",
              "      <th></th>\n",
              "      <th>aaaaaaaaaaa</th>\n",
              "      <th>aaaaaand</th>\n",
              "      <th>aaaaand</th>\n",
              "      <th>aaaand</th>\n",
              "      <th>aaas</th>\n",
              "      <th>aalicesayss</th>\n",
              "      <th>aan</th>\n",
              "      <th>aapgujarat</th>\n",
              "      <th>aapinnews</th>\n",
              "      <th>aapnews</th>\n",
              "      <th>...</th>\n",
              "      <th>zoo</th>\n",
              "      <th>zoobadger</th>\n",
              "      <th>zooeducator</th>\n",
              "      <th>zosterar</th>\n",
              "      <th>zsstevens</th>\n",
              "      <th>ztsamudzi</th>\n",
              "      <th>zukunft</th>\n",
              "      <th>zum</th>\n",
              "      <th>zwi</th>\n",
              "      <th>zzzzaaaacccchhh</th>\n",
              "    </tr>\n",
              "  </thead>\n",
              "  <tbody>\n",
              "    <tr>\n",
              "      <th>6825</th>\n",
              "      <td>0</td>\n",
              "      <td>0</td>\n",
              "      <td>0</td>\n",
              "      <td>0</td>\n",
              "      <td>0</td>\n",
              "      <td>0</td>\n",
              "      <td>0</td>\n",
              "      <td>0</td>\n",
              "      <td>0</td>\n",
              "      <td>0</td>\n",
              "      <td>...</td>\n",
              "      <td>0</td>\n",
              "      <td>0</td>\n",
              "      <td>0</td>\n",
              "      <td>0</td>\n",
              "      <td>0</td>\n",
              "      <td>0</td>\n",
              "      <td>0</td>\n",
              "      <td>0</td>\n",
              "      <td>0</td>\n",
              "      <td>0</td>\n",
              "    </tr>\n",
              "    <tr>\n",
              "      <th>12027</th>\n",
              "      <td>0</td>\n",
              "      <td>0</td>\n",
              "      <td>0</td>\n",
              "      <td>0</td>\n",
              "      <td>0</td>\n",
              "      <td>0</td>\n",
              "      <td>0</td>\n",
              "      <td>0</td>\n",
              "      <td>0</td>\n",
              "      <td>0</td>\n",
              "      <td>...</td>\n",
              "      <td>0</td>\n",
              "      <td>0</td>\n",
              "      <td>0</td>\n",
              "      <td>0</td>\n",
              "      <td>0</td>\n",
              "      <td>0</td>\n",
              "      <td>0</td>\n",
              "      <td>0</td>\n",
              "      <td>0</td>\n",
              "      <td>0</td>\n",
              "    </tr>\n",
              "    <tr>\n",
              "      <th>3540</th>\n",
              "      <td>0</td>\n",
              "      <td>0</td>\n",
              "      <td>0</td>\n",
              "      <td>0</td>\n",
              "      <td>0</td>\n",
              "      <td>0</td>\n",
              "      <td>0</td>\n",
              "      <td>0</td>\n",
              "      <td>0</td>\n",
              "      <td>0</td>\n",
              "      <td>...</td>\n",
              "      <td>0</td>\n",
              "      <td>0</td>\n",
              "      <td>0</td>\n",
              "      <td>0</td>\n",
              "      <td>0</td>\n",
              "      <td>0</td>\n",
              "      <td>0</td>\n",
              "      <td>0</td>\n",
              "      <td>0</td>\n",
              "      <td>0</td>\n",
              "    </tr>\n",
              "    <tr>\n",
              "      <th>2551</th>\n",
              "      <td>0</td>\n",
              "      <td>0</td>\n",
              "      <td>0</td>\n",
              "      <td>0</td>\n",
              "      <td>0</td>\n",
              "      <td>0</td>\n",
              "      <td>0</td>\n",
              "      <td>0</td>\n",
              "      <td>0</td>\n",
              "      <td>0</td>\n",
              "      <td>...</td>\n",
              "      <td>0</td>\n",
              "      <td>0</td>\n",
              "      <td>0</td>\n",
              "      <td>0</td>\n",
              "      <td>0</td>\n",
              "      <td>0</td>\n",
              "      <td>0</td>\n",
              "      <td>0</td>\n",
              "      <td>0</td>\n",
              "      <td>0</td>\n",
              "    </tr>\n",
              "    <tr>\n",
              "      <th>5784</th>\n",
              "      <td>0</td>\n",
              "      <td>0</td>\n",
              "      <td>0</td>\n",
              "      <td>0</td>\n",
              "      <td>0</td>\n",
              "      <td>0</td>\n",
              "      <td>0</td>\n",
              "      <td>0</td>\n",
              "      <td>0</td>\n",
              "      <td>0</td>\n",
              "      <td>...</td>\n",
              "      <td>0</td>\n",
              "      <td>0</td>\n",
              "      <td>0</td>\n",
              "      <td>0</td>\n",
              "      <td>0</td>\n",
              "      <td>0</td>\n",
              "      <td>0</td>\n",
              "      <td>0</td>\n",
              "      <td>0</td>\n",
              "      <td>0</td>\n",
              "    </tr>\n",
              "    <tr>\n",
              "      <th>15532</th>\n",
              "      <td>0</td>\n",
              "      <td>0</td>\n",
              "      <td>0</td>\n",
              "      <td>0</td>\n",
              "      <td>0</td>\n",
              "      <td>0</td>\n",
              "      <td>0</td>\n",
              "      <td>0</td>\n",
              "      <td>0</td>\n",
              "      <td>0</td>\n",
              "      <td>...</td>\n",
              "      <td>0</td>\n",
              "      <td>0</td>\n",
              "      <td>0</td>\n",
              "      <td>0</td>\n",
              "      <td>0</td>\n",
              "      <td>0</td>\n",
              "      <td>0</td>\n",
              "      <td>0</td>\n",
              "      <td>0</td>\n",
              "      <td>0</td>\n",
              "    </tr>\n",
              "    <tr>\n",
              "      <th>10864</th>\n",
              "      <td>0</td>\n",
              "      <td>0</td>\n",
              "      <td>0</td>\n",
              "      <td>0</td>\n",
              "      <td>0</td>\n",
              "      <td>0</td>\n",
              "      <td>0</td>\n",
              "      <td>0</td>\n",
              "      <td>0</td>\n",
              "      <td>0</td>\n",
              "      <td>...</td>\n",
              "      <td>0</td>\n",
              "      <td>0</td>\n",
              "      <td>0</td>\n",
              "      <td>0</td>\n",
              "      <td>0</td>\n",
              "      <td>0</td>\n",
              "      <td>0</td>\n",
              "      <td>0</td>\n",
              "      <td>0</td>\n",
              "      <td>0</td>\n",
              "    </tr>\n",
              "    <tr>\n",
              "      <th>15074</th>\n",
              "      <td>0</td>\n",
              "      <td>0</td>\n",
              "      <td>0</td>\n",
              "      <td>0</td>\n",
              "      <td>0</td>\n",
              "      <td>0</td>\n",
              "      <td>0</td>\n",
              "      <td>0</td>\n",
              "      <td>0</td>\n",
              "      <td>0</td>\n",
              "      <td>...</td>\n",
              "      <td>0</td>\n",
              "      <td>0</td>\n",
              "      <td>0</td>\n",
              "      <td>0</td>\n",
              "      <td>0</td>\n",
              "      <td>0</td>\n",
              "      <td>0</td>\n",
              "      <td>0</td>\n",
              "      <td>0</td>\n",
              "      <td>0</td>\n",
              "    </tr>\n",
              "    <tr>\n",
              "      <th>3799</th>\n",
              "      <td>0</td>\n",
              "      <td>0</td>\n",
              "      <td>0</td>\n",
              "      <td>0</td>\n",
              "      <td>0</td>\n",
              "      <td>0</td>\n",
              "      <td>0</td>\n",
              "      <td>0</td>\n",
              "      <td>0</td>\n",
              "      <td>0</td>\n",
              "      <td>...</td>\n",
              "      <td>0</td>\n",
              "      <td>0</td>\n",
              "      <td>0</td>\n",
              "      <td>0</td>\n",
              "      <td>0</td>\n",
              "      <td>0</td>\n",
              "      <td>0</td>\n",
              "      <td>0</td>\n",
              "      <td>0</td>\n",
              "      <td>0</td>\n",
              "    </tr>\n",
              "    <tr>\n",
              "      <th>14659</th>\n",
              "      <td>0</td>\n",
              "      <td>0</td>\n",
              "      <td>0</td>\n",
              "      <td>0</td>\n",
              "      <td>0</td>\n",
              "      <td>0</td>\n",
              "      <td>0</td>\n",
              "      <td>0</td>\n",
              "      <td>0</td>\n",
              "      <td>0</td>\n",
              "      <td>...</td>\n",
              "      <td>0</td>\n",
              "      <td>0</td>\n",
              "      <td>0</td>\n",
              "      <td>0</td>\n",
              "      <td>0</td>\n",
              "      <td>0</td>\n",
              "      <td>0</td>\n",
              "      <td>0</td>\n",
              "      <td>0</td>\n",
              "      <td>0</td>\n",
              "    </tr>\n",
              "  </tbody>\n",
              "</table>\n",
              "<p>10 rows × 18667 columns</p>\n",
              "</div>"
            ],
            "text/plain": [
              "       aaaaaaaaaaa  aaaaaand  aaaaand  aaaand  aaas  aalicesayss  aan  \\\n",
              "6825             0         0        0       0     0            0    0   \n",
              "12027            0         0        0       0     0            0    0   \n",
              "3540             0         0        0       0     0            0    0   \n",
              "2551             0         0        0       0     0            0    0   \n",
              "5784             0         0        0       0     0            0    0   \n",
              "15532            0         0        0       0     0            0    0   \n",
              "10864            0         0        0       0     0            0    0   \n",
              "15074            0         0        0       0     0            0    0   \n",
              "3799             0         0        0       0     0            0    0   \n",
              "14659            0         0        0       0     0            0    0   \n",
              "\n",
              "       aapgujarat  aapinnews  aapnews  ...  zoo  zoobadger  zooeducator  \\\n",
              "6825            0          0        0  ...    0          0            0   \n",
              "12027           0          0        0  ...    0          0            0   \n",
              "3540            0          0        0  ...    0          0            0   \n",
              "2551            0          0        0  ...    0          0            0   \n",
              "5784            0          0        0  ...    0          0            0   \n",
              "15532           0          0        0  ...    0          0            0   \n",
              "10864           0          0        0  ...    0          0            0   \n",
              "15074           0          0        0  ...    0          0            0   \n",
              "3799            0          0        0  ...    0          0            0   \n",
              "14659           0          0        0  ...    0          0            0   \n",
              "\n",
              "       zosterar  zsstevens  ztsamudzi  zukunft  zum  zwi  zzzzaaaacccchhh  \n",
              "6825          0          0          0        0    0    0                0  \n",
              "12027         0          0          0        0    0    0                0  \n",
              "3540          0          0          0        0    0    0                0  \n",
              "2551          0          0          0        0    0    0                0  \n",
              "5784          0          0          0        0    0    0                0  \n",
              "15532         0          0          0        0    0    0                0  \n",
              "10864         0          0          0        0    0    0                0  \n",
              "15074         0          0          0        0    0    0                0  \n",
              "3799          0          0          0        0    0    0                0  \n",
              "14659         0          0          0        0    0    0                0  \n",
              "\n",
              "[10 rows x 18667 columns]"
            ]
          },
          "metadata": {
            "tags": []
          },
          "execution_count": 72
        }
      ]
    },
    {
      "cell_type": "code",
      "metadata": {
        "id": "5w07fhkJlPc6",
        "colab_type": "code",
        "colab": {}
      },
      "source": [
        "#import socket\n",
        "#socket.getaddrinfo('localhost', 8080)\n",
        "#translator = Translator()\n",
        "#mask = train_data['lemmatized'].notna()\n",
        "#train_data.loc['Text to English'] = train_data.apply(translator.translate(text='欧州が最も大きく地球温暖化の影響を受けていると警告しています', \n",
        "#src='auto', dest='en')"
      ],
      "execution_count": null,
      "outputs": []
    },
    {
      "cell_type": "code",
      "metadata": {
        "id": "SzPxRz-_lPc9",
        "colab_type": "code",
        "colab": {}
      },
      "source": [
        "#jap = translator.translate(text='申請書のアブストラクトに', dest='en', src='auto')\n",
        "#print(jap)"
      ],
      "execution_count": null,
      "outputs": []
    },
    {
      "cell_type": "markdown",
      "metadata": {
        "id": "D7zWIFrXlPdA",
        "colab_type": "text"
      },
      "source": [
        "###### Second take at manual text preprocessing within EDA process"
      ]
    },
    {
      "cell_type": "code",
      "metadata": {
        "id": "m6LSV9GqlPdA",
        "colab_type": "code",
        "colab": {}
      },
      "source": [
        "# load train data\n",
        "train_data = pd.read_csv('https://raw.githubusercontent.com/Vicky-hub87/Team_ss1_Jhb-Classification-Predict/master/train.csv')"
      ],
      "execution_count": null,
      "outputs": []
    },
    {
      "cell_type": "code",
      "metadata": {
        "id": "O0dohfbilPdD",
        "colab_type": "code",
        "colab": {},
        "outputId": "aee016be-8f50-47b7-c3ff-8a3e7af5ce79"
      },
      "source": [
        "# load test data\n",
        "test_data = pd.read_csv('https://raw.githubusercontent.com/Vicky-hub87/Team_ss1_Jhb-Classification-Predict/master/test.csv')\n",
        "print('Test data rows and columns:')"
      ],
      "execution_count": null,
      "outputs": [
        {
          "output_type": "stream",
          "text": [
            "Test data rows and columns:\n"
          ],
          "name": "stdout"
        }
      ]
    },
    {
      "cell_type": "code",
      "metadata": {
        "id": "GqDBwDc2lPdF",
        "colab_type": "code",
        "colab": {}
      },
      "source": [
        "# load sample data\n",
        "sample_data = pd.read_csv('https://raw.githubusercontent.com/Vicky-hub87/Team_ss1_Jhb-Classification-Predict/master/sample_submission.csv')\n"
      ],
      "execution_count": null,
      "outputs": []
    },
    {
      "cell_type": "code",
      "metadata": {
        "id": "iYBK056OlPdK",
        "colab_type": "code",
        "colab": {}
      },
      "source": [
        "import pandas as pd\n",
        "import matplotlib.pyplot as plt\n",
        "import seaborn as sns\n",
        "import numpy as np\n",
        "from sklearn.impute import SimpleImputer\n",
        "from sklearn.metrics import classification_report\n",
        "\n",
        "%matplotlib inline\n",
        "\n",
        "#this is just cool\n",
        "from tqdm import tqdm\n",
        "\n",
        "#visualization\n",
        "import matplotlib.pyplot as plt\n",
        "plt.style.use('ggplot')   #for optimum aesthetics \n",
        "import seaborn as sns\n",
        "\n",
        "#natural language processing\n",
        "import string\n",
        "import re\n",
        "import nltk\n",
        "from nltk.corpus import stopwords\n",
        "from nltk.tokenize import word_tokenize\n",
        "import gensim\n",
        "import spacy\n",
        "\n",
        "#stemming/lemmatizing/vectorizing\n",
        "from nltk.stem import WordNetLemmatizer\n",
        "from nltk.stem.snowball import SnowballStemmer\n",
        "from sklearn.feature_extraction.text import CountVectorizer\n",
        "\n",
        "#processing\n",
        "from sklearn.model_selection import train_test_split\n",
        "\n",
        "#ignore warnings because they are annoying\n",
        "import warnings\n",
        "warnings.filterwarnings('ignore')\n",
        "\n",
        "from nltk.util import ngrams\n",
        "from collections import defaultdict\n",
        "from collections import  Counter\n",
        "from sklearn.model_selection import train_test_split\n",
        "\n",
        "from tensorflow.keras.models import Sequential\n",
        "from tensorflow.keras.layers import Dense\n",
        "from tensorflow.keras.layers import Flatten\n",
        "from tensorflow.keras.layers import Conv1D\n",
        "from tensorflow.keras.layers import MaxPooling1D\n",
        "from tensorflow.keras.layers import Embedding\n",
        "from tensorflow.keras.preprocessing.text import Tokenizer\n",
        "from tensorflow.keras.preprocessing import sequence\n",
        "from sklearn.preprocessing import LabelEncoder"
      ],
      "execution_count": null,
      "outputs": []
    },
    {
      "cell_type": "markdown",
      "metadata": {
        "heading_collapsed": true,
        "id": "CE0cv-vrGM2o",
        "colab_type": "text"
      },
      "source": [
        "##### Conclude\n",
        "xxxxx"
      ]
    },
    {
      "cell_type": "markdown",
      "metadata": {
        "id": "Vk-GoOo8GM2o",
        "colab_type": "text"
      },
      "source": [
        "# Exploratory Data Analysis"
      ]
    },
    {
      "cell_type": "markdown",
      "metadata": {
        "id": "91ue8sWm_BWc",
        "colab_type": "text"
      },
      "source": [
        "###### **task: Visualize current state of data**"
      ]
    },
    {
      "cell_type": "code",
      "metadata": {
        "id": "K8KC9j2FlPdN",
        "colab_type": "code",
        "colab": {}
      },
      "source": [
        "# Function for generating word clouds\n",
        "#def generate_wordcloud(data,title):\n",
        "  #wc = WordCloud(width=400, height=330, max_words=150,colormap=\"Dark2\").generate_from_frequencies(text_counts)\n",
        "  #plt.figure(figsize=(10,8))\n",
        "  #plt.imshow(wc, interpolation='bilinear')\n",
        "  #plt.axis(\"off\")\n",
        " #plt.title('\\n'.join(wrap(title,60)),fontsize=13)\n",
        "  #plt.show()\n",
        "  \n",
        "# Transposing document term matrix\n",
        "#df_dtm=df_dtm.T\n",
        "\n",
        "# Plotting word cloud for each product\n",
        "#for index,product in enumerate(df_dtm.columns):\n",
        "  #generate_wordcloud(df_dtm[product].sort_values(ascending=False),product)"
      ],
      "execution_count": null,
      "outputs": []
    },
    {
      "cell_type": "code",
      "metadata": {
        "id": "_iGCdfQflPdR",
        "colab_type": "code",
        "colab": {}
      },
      "source": [
        "def get_top_tweet_bigrams(corpus, n=None):\n",
        "    vec = CountVectorizer(ngram_range=(1, 1)).fit(corpus)\n",
        "    bag_of_words = vec.transform(corpus)\n",
        "    sum_words = bag_of_words.sum(axis=0) \n",
        "    words_freq = [(word, sum_words[0, idx]) for word, idx in vec.vocabulary_.items()]\n",
        "    words_freq =sorted(words_freq, key = lambda x: x[1], reverse=True)\n",
        "    return words_freq[:n]"
      ],
      "execution_count": null,
      "outputs": []
    },
    {
      "cell_type": "code",
      "metadata": {
        "id": "ZCdWoLGblPdU",
        "colab_type": "code",
        "colab": {},
        "outputId": "15b52d19-4270-4e11-f205-3b50b0b71035"
      },
      "source": [
        "#Initial minimally cleaned text for top 20 unigram count\n",
        "plt.figure(figsize=(10,5))\n",
        "top_tweet_bigrams=get_top_tweet_bigrams(train_data['message'])[:20]\n",
        "x,y=map(list,zip(*top_tweet_bigrams))\n",
        "sns.barplot(x=y,y=x)"
      ],
      "execution_count": null,
      "outputs": [
        {
          "output_type": "execute_result",
          "data": {
            "text/plain": [
              "<matplotlib.axes._subplots.AxesSubplot at 0x2db39e31a48>"
            ]
          },
          "metadata": {
            "tags": []
          },
          "execution_count": 81
        },
        {
          "output_type": "display_data",
          "data": {
            "image/png": "[encoded data removed]",
            "text/plain": [
              "<Figure size 720x360 with 1 Axes>"
            ]
          },
          "metadata": {
            "tags": []
          }
        }
      ]
    },
    {
      "cell_type": "code",
      "metadata": {
        "id": "dLHa2DPmlPdW",
        "colab_type": "code",
        "colab": {},
        "outputId": "ff466327-290b-4554-b114-799eba3acb29"
      },
      "source": [
        "#Initial minimally cleaned text for top 20 bigram count\n",
        "plt.figure(figsize=(10,5))\n",
        "top_tweet_bigrams=get_top_tweet_bigrams(train_data['message'])[:20]\n",
        "x,y=map(list,zip(*top_tweet_bigrams))\n",
        "sns.barplot(x=y,y=x)"
      ],
      "execution_count": null,
      "outputs": [
        {
          "output_type": "execute_result",
          "data": {
            "text/plain": [
              "<matplotlib.axes._subplots.AxesSubplot at 0x2dbcd2448c8>"
            ]
          },
          "metadata": {
            "tags": []
          },
          "execution_count": 82
        },
        {
          "output_type": "display_data",
          "data": {
            "image/png": "[encoded data removed]",
            "text/plain": [
              "<Figure size 720x360 with 1 Axes>"
            ]
          },
          "metadata": {
            "tags": []
          }
        }
      ]
    },
    {
      "cell_type": "code",
      "metadata": {
        "id": "jNERELkAlPdZ",
        "colab_type": "code",
        "colab": {}
      },
      "source": [
        "#combine so we work smarter, not harder\n",
        "total = train_data.append(test_data)\n",
        "\n",
        "#change target to target1 in preparation for the word 'target' to be encoded as its own column\n",
        "total = total.rename(columns = {'sentiment':'sentiment1'})"
      ],
      "execution_count": null,
      "outputs": []
    },
    {
      "cell_type": "code",
      "metadata": {
        "id": "MAo_9M_5lPdb",
        "colab_type": "code",
        "colab": {},
        "outputId": "c28bfc88-0035-4217-cc81-81ff32ee65ed"
      },
      "source": [
        "#create column for the number of words in tweet\n",
        "total['word_count'] = total['message'].apply(lambda x: len(x.split()))\n",
        "\n",
        "#split so we can use updated train set with new feature\n",
        "train_data = total[:len(train_data)]\n",
        "\n",
        "#define subplot to see graphs side by side\n",
        "fig, ax = plt.subplots(figsize = (10, 5))\n",
        "\n",
        "#create graphs\n",
        "sns.kdeplot(train_data['word_count'][train_data['sentiment1'] == 0], shade = True, label = 'Neutral')\n",
        "sns.kdeplot(train_data['word_count'][train_data['sentiment1'] == 1], shade = True, label = 'Pro')\n",
        "sns.kdeplot(train_data['word_count'][train_data['sentiment1'] == 2], shade = True, label = 'News')\n",
        "sns.kdeplot(train_data['word_count'][train_data['sentiment1'] == -1], shade = True, label = 'Anti')\n",
        "\n",
        "#set title and plot\n",
        "plt.title('Distribution of Tweet Word Count')\n",
        "plt.show()"
      ],
      "execution_count": null,
      "outputs": [
        {
          "output_type": "display_data",
          "data": {
            "image/png": "[encoded data removed]",
            "text/plain": [
              "<Figure size 720x360 with 1 Axes>"
            ]
          },
          "metadata": {
            "tags": []
          }
        }
      ]
    },
    {
      "cell_type": "code",
      "metadata": {
        "scrolled": true,
        "id": "DW5IS1ahlPdd",
        "colab_type": "code",
        "colab": {},
        "outputId": "337c95da-adb9-42b3-805e-7458accc23bc"
      },
      "source": [
        "#create column for the number of characters in a tweet\n",
        "total['character_count'] = total['message'].apply(lambda x: len(x))\n",
        "\n",
        "#split so we can use updated train set with new feature\n",
        "train_data = total[:len(train_data)]\n",
        "\n",
        "#define subplot to see graphs side by side\n",
        "fig, ax = plt.subplots(figsize = (10, 5))\n",
        "\n",
        "#create graphs\n",
        "sns.kdeplot(train_data['character_count'][train_data['sentiment1'] == 0], shade = True, label = 'Neutral')\n",
        "sns.kdeplot(train_data['character_count'][train_data['sentiment1'] == 1], shade = True, label = 'Pro')\n",
        "sns.kdeplot(train_data['character_count'][train_data['sentiment1'] == 2], shade = True, label = 'News')\n",
        "sns.kdeplot(train_data['character_count'][train_data['sentiment1'] == -1], shade = True, label = 'Anti')\n",
        "\n",
        "\n",
        "#set title and plot\n",
        "plt.title('Distribution of Tweet Character Count')\n",
        "plt.show()"
      ],
      "execution_count": null,
      "outputs": [
        {
          "output_type": "display_data",
          "data": {
            "image/png": "[encoded data removed]",
            "text/plain": [
              "<Figure size 720x360 with 1 Axes>"
            ]
          },
          "metadata": {
            "tags": []
          }
        }
      ]
    },
    {
      "cell_type": "code",
      "metadata": {
        "id": "AV8g9fpKlPdg",
        "colab_type": "code",
        "colab": {},
        "outputId": "b02614ba-e906-4cf0-ad62-e40ae8619e2a"
      },
      "source": [
        "#define function to find average word length \n",
        "def average_word_length(x):\n",
        "    x = x.split()\n",
        "    return np.mean([len(i) for i in x])\n",
        "\n",
        "#broadcast to text column\n",
        "total['average_word_length'] = total['message'].apply(average_word_length)\n",
        "\n",
        "#split so we can use updated train set with new feature\n",
        "train_data = total[:len(train_data)]\n",
        "\n",
        "#define subplot to see graphs side by side\n",
        "fig, ax = plt.subplots(figsize = (10, 5))\n",
        "\n",
        "#create graphs\n",
        "sns.kdeplot(train_data['average_word_length'][train_data['sentiment1'] == 0], shade = True, label = 'Neutral')\n",
        "sns.kdeplot(train_data['average_word_length'][train_data['sentiment1'] == 1], shade = True, label = 'Pro')\n",
        "sns.kdeplot(train_data['average_word_length'][train_data['sentiment1'] == 2], shade = True, label = 'News')\n",
        "sns.kdeplot(train_data['average_word_length'][train_data['sentiment1'] == -1], shade = True, label = 'Anti')\n",
        "\n",
        "#set title\n",
        "plt.title('Distribution of Tweet Average Word Length')\n",
        "\n",
        "#splot graphs\n",
        "plt.show()"
      ],
      "execution_count": null,
      "outputs": [
        {
          "output_type": "display_data",
          "data": {
            "image/png": "[encoded data removed]",
            "text/plain": [
              "<Figure size 720x360 with 1 Axes>"
            ]
          },
          "metadata": {
            "tags": []
          }
        }
      ]
    },
    {
      "cell_type": "markdown",
      "metadata": {
        "id": "YPPlB_8plPdl",
        "colab_type": "text"
      },
      "source": [
        "xxxxx"
      ]
    },
    {
      "cell_type": "markdown",
      "metadata": {
        "id": "06jnwSNplPdm",
        "colab_type": "text"
      },
      "source": [
        "## Insights"
      ]
    },
    {
      "cell_type": "markdown",
      "metadata": {
        "id": "j65NzMnaGM2p",
        "colab_type": "text"
      },
      "source": [
        "##### Analysing the  `label` column in relation to text data\n",
        "xxxxxx"
      ]
    },
    {
      "cell_type": "code",
      "metadata": {
        "id": "F40mt3GyGM2q",
        "colab_type": "code",
        "colab": {}
      },
      "source": [
        "# code here"
      ],
      "execution_count": null,
      "outputs": []
    },
    {
      "cell_type": "markdown",
      "metadata": {
        "heading_collapsed": true,
        "id": "7cIJ8jmylPdo",
        "colab_type": "text"
      },
      "source": [
        "##### Conclude\n",
        "By now, we should be so much more familiar with the data. GOOD! Let's go a little further with Exploratory Data Analysis (EDA) withing our initial Feature Engineering/Extraction steps that are to follow. Now that we have an idea of what new features to construct and how they might be useful, let's add the rest of them and visualize them."
      ]
    },
    {
      "cell_type": "markdown",
      "metadata": {
        "id": "bXWGq-NGlPdp",
        "colab_type": "text"
      },
      "source": [
        "# Feature Engineering"
      ]
    },
    {
      "cell_type": "markdown",
      "metadata": {
        "id": "X4aIom2AlPdp",
        "colab_type": "text"
      },
      "source": [
        "## Feature generation"
      ]
    },
    {
      "cell_type": "markdown",
      "metadata": {
        "id": "d25J72dKlPdq",
        "colab_type": "text"
      },
      "source": [
        "###### **task: Generate new features and visualise**"
      ]
    },
    {
      "cell_type": "code",
      "metadata": {
        "scrolled": true,
        "id": "tNGBHLPAlPds",
        "colab_type": "code",
        "colab": {},
        "outputId": "78cdcfa1-aa52-4e7d-e263-d35129938763"
      },
      "source": [
        "#add unique word count\n",
        "total['unique_word_count'] = total['message'].apply(lambda x: len(set(x.split())))\n",
        "\n",
        "#add stopword count\n",
        "stopwords = stopwords.words('english')\n",
        "total['stopword_count'] = total['message'].apply(lambda x: len([i for i in x.lower().split() if i in stopwords]))\n",
        "\n",
        "#add url count\n",
        "total['url_count'] = total['message'].apply(lambda x: len([i for i in x.lower().split() if 'http' in i or 'https' in i]))\n",
        "\n",
        "# add hashtag_count\n",
        "total['hashtag_count'] = total['message'].apply(lambda x: len([c for c in str(x) if c == '#']))\n",
        "\n",
        "#add mention count\n",
        "total['mention_count'] = total['message'].apply(lambda x: len([i for i in str(x) if i == '@']))\n",
        "\n",
        "#add punctuation count\n",
        "total['punctuation_count'] = total['message'].apply(lambda x: len([i for i in str(x) if i in string.punctuation]))\n",
        "\n",
        "#split so we can use updated train set\n",
        "train_data = total[:len(train_data)]\n",
        "\n",
        "disaster = train_data['sentiment1'].astype(int) == 1\n",
        "\n",
        "#produce graphs to visualize newly added features\n",
        "fig, axes = plt.subplots(6, figsize=(20, 30))\n",
        "\n",
        "graph1 = sns.kdeplot(train_data.loc[~disaster]['unique_word_count'], shade = True, label = 'Neutral', ax=axes[0])\n",
        "graph1 = sns.kdeplot(train_data.loc[disaster]['unique_word_count'], shade = True, label = 'Pro', ax=axes[0])\n",
        "graph1 = sns.kdeplot(train_data.loc[disaster]['unique_word_count'], shade = True, label = 'News', ax=axes[0])\n",
        "graph1 = sns.kdeplot(train_data.loc[disaster]['unique_word_count'], shade = True, label = 'Anti', ax=axes[0])\n",
        "graph1.set_title('Distribution of Unique Word Count')\n",
        "\n",
        "graph2 = sns.kdeplot(train_data.loc[~disaster]['stopword_count'], shade = True, label = 'Neutral', ax=axes[1])\n",
        "graph2 = sns.kdeplot(train_data.loc[disaster]['stopword_count'], shade = True, label = 'Pro', ax=axes[1])\n",
        "graph2 = sns.kdeplot(train_data.loc[disaster]['stopword_count'], shade = True, label = 'News', ax=axes[1])\n",
        "graph2 = sns.kdeplot(train_data.loc[disaster]['stopword_count'], shade = True, label = 'Anti', ax=axes[1])\n",
        "graph2.set_title('Distribution of Stopword Word Count')\n",
        "\n",
        "graph3 = sns.kdeplot(train_data.loc[~disaster]['url_count'], shade = True, label = 'Neutral', ax=axes[2])\n",
        "graph3 = sns.kdeplot(train_data.loc[disaster]['url_count'], shade = True, label = 'Pro', ax=axes[2])\n",
        "graph3 = sns.kdeplot(train_data.loc[disaster]['url_count'], shade = True, label = 'News', ax=axes[2])\n",
        "graph3 = sns.kdeplot(train_data.loc[disaster]['url_count'], shade = True, label = 'Anti', ax=axes[2])\n",
        "graph3.set_title('Distribution of URL Count')\n",
        "\n",
        "graph4 = sns.kdeplot(train_data.loc[~disaster]['hashtag_count'], shade = True,  label = 'Neutral', ax=axes[3], bw = 1)\n",
        "graph4 = sns.kdeplot(train_data.loc[disaster]['hashtag_count'], shade = True, label = 'Pro', ax=axes[3], bw =1)\n",
        "graph4 = sns.kdeplot(train_data.loc[disaster]['hashtag_count'], shade = True, label = 'News', ax=axes[3], bw =1)\n",
        "graph4 = sns.kdeplot(train_data.loc[disaster]['hashtag_count'], shade = True, label = 'Anti', ax=axes[3], bw =1)\n",
        "graph4.set_title('Distribution of Hashtag Count')\n",
        "\n",
        "graph4 = sns.kdeplot(train_data.loc[~disaster]['mention_count'], shade = True,  label = 'Neutral', ax=axes[4], bw = 1)\n",
        "graph4 = sns.kdeplot(train_data.loc[disaster]['mention_count'], shade = True, label = 'Pro', ax=axes[4], bw =1)\n",
        "graph4 = sns.kdeplot(train_data.loc[disaster]['mention_count'], shade = True, label = 'News', ax=axes[4], bw =1)\n",
        "graph4 = sns.kdeplot(train_data.loc[disaster]['mention_count'], shade = True, label = 'Anti', ax=axes[4], bw =1)\n",
        "graph4.set_title('Distribution of Mention Count')\n",
        "\n",
        "graph5 = sns.kdeplot(train_data.loc[~disaster]['punctuation_count'], shade = True, label = 'Neutral', ax=axes[5], bw = 1)\n",
        "graph5 = sns.kdeplot(train_data.loc[disaster]['punctuation_count'], shade = True, label = 'Pro', ax=axes[5], bw = 1)\n",
        "graph5 = sns.kdeplot(train_data.loc[disaster]['punctuation_count'], shade = True, label = 'News', ax=axes[5], bw = 1)\n",
        "graph5 = sns.kdeplot(train_data.loc[disaster]['punctuation_count'], shade = True, label = 'Anti', ax=axes[5], bw = 1)\n",
        "graph5.set_title('Distribution of Punctuation Count')\n",
        "\n",
        "fig.tight_layout()\n",
        "plt.show()"
      ],
      "execution_count": null,
      "outputs": [
        {
          "output_type": "display_data",
          "data": {
            "image/png": "[encoded data removed]",
            "text/plain": [
              "<Figure size 1440x2160 with 6 Axes>"
            ]
          },
          "metadata": {
            "tags": []
          }
        }
      ]
    },
    {
      "cell_type": "code",
      "metadata": {
        "id": "QVMn_YnBlPdv",
        "colab_type": "code",
        "colab": {},
        "outputId": "342e7c82-fa0e-4d94-c84d-6869cdbfd2e6"
      },
      "source": [
        "train_data"
      ],
      "execution_count": null,
      "outputs": [
        {
          "output_type": "execute_result",
          "data": {
            "text/html": [
              "<div>\n",
              "<style scoped>\n",
              "    .dataframe tbody tr th:only-of-type {\n",
              "        vertical-align: middle;\n",
              "    }\n",
              "\n",
              "    .dataframe tbody tr th {\n",
              "        vertical-align: top;\n",
              "    }\n",
              "\n",
              "    .dataframe thead th {\n",
              "        text-align: right;\n",
              "    }\n",
              "</style>\n",
              "<table border=\"1\" class=\"dataframe\">\n",
              "  <thead>\n",
              "    <tr style=\"text-align: right;\">\n",
              "      <th></th>\n",
              "      <th>sentiment1</th>\n",
              "      <th>message</th>\n",
              "      <th>tweetid</th>\n",
              "      <th>word_count</th>\n",
              "      <th>character_count</th>\n",
              "      <th>average_word_length</th>\n",
              "      <th>unique_word_count</th>\n",
              "      <th>stopword_count</th>\n",
              "      <th>url_count</th>\n",
              "      <th>hashtag_count</th>\n",
              "      <th>mention_count</th>\n",
              "      <th>punctuation_count</th>\n",
              "    </tr>\n",
              "  </thead>\n",
              "  <tbody>\n",
              "    <tr>\n",
              "      <th>0</th>\n",
              "      <td>1.0</td>\n",
              "      <td>PolySciMajor EPA chief doesn't think carbon di...</td>\n",
              "      <td>625221</td>\n",
              "      <td>19</td>\n",
              "      <td>140</td>\n",
              "      <td>6.421053</td>\n",
              "      <td>19</td>\n",
              "      <td>3</td>\n",
              "      <td>1</td>\n",
              "      <td>0</td>\n",
              "      <td>1</td>\n",
              "      <td>12</td>\n",
              "    </tr>\n",
              "    <tr>\n",
              "      <th>1</th>\n",
              "      <td>1.0</td>\n",
              "      <td>It's not like we lack evidence of anthropogeni...</td>\n",
              "      <td>126103</td>\n",
              "      <td>10</td>\n",
              "      <td>62</td>\n",
              "      <td>5.300000</td>\n",
              "      <td>10</td>\n",
              "      <td>4</td>\n",
              "      <td>0</td>\n",
              "      <td>0</td>\n",
              "      <td>0</td>\n",
              "      <td>1</td>\n",
              "    </tr>\n",
              "    <tr>\n",
              "      <th>2</th>\n",
              "      <td>2.0</td>\n",
              "      <td>RT @RawStory: Researchers say we have three ye...</td>\n",
              "      <td>698562</td>\n",
              "      <td>19</td>\n",
              "      <td>140</td>\n",
              "      <td>6.421053</td>\n",
              "      <td>19</td>\n",
              "      <td>6</td>\n",
              "      <td>2</td>\n",
              "      <td>0</td>\n",
              "      <td>1</td>\n",
              "      <td>12</td>\n",
              "    </tr>\n",
              "    <tr>\n",
              "      <th>3</th>\n",
              "      <td>1.0</td>\n",
              "      <td>#TodayinMaker# WIRED : 2016 was a pivotal year...</td>\n",
              "      <td>573736</td>\n",
              "      <td>15</td>\n",
              "      <td>99</td>\n",
              "      <td>5.666667</td>\n",
              "      <td>15</td>\n",
              "      <td>5</td>\n",
              "      <td>1</td>\n",
              "      <td>2</td>\n",
              "      <td>0</td>\n",
              "      <td>8</td>\n",
              "    </tr>\n",
              "    <tr>\n",
              "      <th>4</th>\n",
              "      <td>1.0</td>\n",
              "      <td>RT @SoyNovioDeTodas: It's 2016, and a racist, ...</td>\n",
              "      <td>466954</td>\n",
              "      <td>18</td>\n",
              "      <td>122</td>\n",
              "      <td>5.833333</td>\n",
              "      <td>18</td>\n",
              "      <td>6</td>\n",
              "      <td>0</td>\n",
              "      <td>1</td>\n",
              "      <td>1</td>\n",
              "      <td>8</td>\n",
              "    </tr>\n",
              "    <tr>\n",
              "      <th>...</th>\n",
              "      <td>...</td>\n",
              "      <td>...</td>\n",
              "      <td>...</td>\n",
              "      <td>...</td>\n",
              "      <td>...</td>\n",
              "      <td>...</td>\n",
              "      <td>...</td>\n",
              "      <td>...</td>\n",
              "      <td>...</td>\n",
              "      <td>...</td>\n",
              "      <td>...</td>\n",
              "      <td>...</td>\n",
              "    </tr>\n",
              "    <tr>\n",
              "      <th>15814</th>\n",
              "      <td>1.0</td>\n",
              "      <td>RT @ezlusztig: They took down the material on ...</td>\n",
              "      <td>22001</td>\n",
              "      <td>22</td>\n",
              "      <td>140</td>\n",
              "      <td>5.409091</td>\n",
              "      <td>22</td>\n",
              "      <td>7</td>\n",
              "      <td>1</td>\n",
              "      <td>0</td>\n",
              "      <td>1</td>\n",
              "      <td>11</td>\n",
              "    </tr>\n",
              "    <tr>\n",
              "      <th>15815</th>\n",
              "      <td>2.0</td>\n",
              "      <td>RT @washingtonpost: How climate change could b...</td>\n",
              "      <td>17856</td>\n",
              "      <td>13</td>\n",
              "      <td>119</td>\n",
              "      <td>8.230769</td>\n",
              "      <td>13</td>\n",
              "      <td>4</td>\n",
              "      <td>1</td>\n",
              "      <td>0</td>\n",
              "      <td>1</td>\n",
              "      <td>10</td>\n",
              "    </tr>\n",
              "    <tr>\n",
              "      <th>15816</th>\n",
              "      <td>0.0</td>\n",
              "      <td>notiven: RT: nytimesworld :What does Trump act...</td>\n",
              "      <td>384248</td>\n",
              "      <td>19</td>\n",
              "      <td>133</td>\n",
              "      <td>6.052632</td>\n",
              "      <td>19</td>\n",
              "      <td>4</td>\n",
              "      <td>1</td>\n",
              "      <td>0</td>\n",
              "      <td>0</td>\n",
              "      <td>9</td>\n",
              "    </tr>\n",
              "    <tr>\n",
              "      <th>15817</th>\n",
              "      <td>-1.0</td>\n",
              "      <td>RT @sara8smiles: Hey liberals the climate chan...</td>\n",
              "      <td>819732</td>\n",
              "      <td>21</td>\n",
              "      <td>128</td>\n",
              "      <td>5.142857</td>\n",
              "      <td>20</td>\n",
              "      <td>8</td>\n",
              "      <td>0</td>\n",
              "      <td>1</td>\n",
              "      <td>1</td>\n",
              "      <td>4</td>\n",
              "    </tr>\n",
              "    <tr>\n",
              "      <th>15818</th>\n",
              "      <td>0.0</td>\n",
              "      <td>RT @Chet_Cannon: .@kurteichenwald's 'climate c...</td>\n",
              "      <td>806319</td>\n",
              "      <td>10</td>\n",
              "      <td>102</td>\n",
              "      <td>9.300000</td>\n",
              "      <td>10</td>\n",
              "      <td>1</td>\n",
              "      <td>1</td>\n",
              "      <td>0</td>\n",
              "      <td>2</td>\n",
              "      <td>13</td>\n",
              "    </tr>\n",
              "  </tbody>\n",
              "</table>\n",
              "<p>15819 rows × 12 columns</p>\n",
              "</div>"
            ],
            "text/plain": [
              "       sentiment1                                            message  tweetid  \\\n",
              "0             1.0  PolySciMajor EPA chief doesn't think carbon di...   625221   \n",
              "1             1.0  It's not like we lack evidence of anthropogeni...   126103   \n",
              "2             2.0  RT @RawStory: Researchers say we have three ye...   698562   \n",
              "3             1.0  #TodayinMaker# WIRED : 2016 was a pivotal year...   573736   \n",
              "4             1.0  RT @SoyNovioDeTodas: It's 2016, and a racist, ...   466954   \n",
              "...           ...                                                ...      ...   \n",
              "15814         1.0  RT @ezlusztig: They took down the material on ...    22001   \n",
              "15815         2.0  RT @washingtonpost: How climate change could b...    17856   \n",
              "15816         0.0  notiven: RT: nytimesworld :What does Trump act...   384248   \n",
              "15817        -1.0  RT @sara8smiles: Hey liberals the climate chan...   819732   \n",
              "15818         0.0  RT @Chet_Cannon: .@kurteichenwald's 'climate c...   806319   \n",
              "\n",
              "       word_count  character_count  average_word_length  unique_word_count  \\\n",
              "0              19              140             6.421053                 19   \n",
              "1              10               62             5.300000                 10   \n",
              "2              19              140             6.421053                 19   \n",
              "3              15               99             5.666667                 15   \n",
              "4              18              122             5.833333                 18   \n",
              "...           ...              ...                  ...                ...   \n",
              "15814          22              140             5.409091                 22   \n",
              "15815          13              119             8.230769                 13   \n",
              "15816          19              133             6.052632                 19   \n",
              "15817          21              128             5.142857                 20   \n",
              "15818          10              102             9.300000                 10   \n",
              "\n",
              "       stopword_count  url_count  hashtag_count  mention_count  \\\n",
              "0                   3          1              0              1   \n",
              "1                   4          0              0              0   \n",
              "2                   6          2              0              1   \n",
              "3                   5          1              2              0   \n",
              "4                   6          0              1              1   \n",
              "...               ...        ...            ...            ...   \n",
              "15814               7          1              0              1   \n",
              "15815               4          1              0              1   \n",
              "15816               4          1              0              0   \n",
              "15817               8          0              1              1   \n",
              "15818               1          1              0              2   \n",
              "\n",
              "       punctuation_count  \n",
              "0                     12  \n",
              "1                      1  \n",
              "2                     12  \n",
              "3                      8  \n",
              "4                      8  \n",
              "...                  ...  \n",
              "15814                 11  \n",
              "15815                 10  \n",
              "15816                  9  \n",
              "15817                  4  \n",
              "15818                 13  \n",
              "\n",
              "[15819 rows x 12 columns]"
            ]
          },
          "metadata": {
            "tags": []
          },
          "execution_count": 89
        }
      ]
    },
    {
      "cell_type": "markdown",
      "metadata": {
        "id": "03JNcBRWlPd1",
        "colab_type": "text"
      },
      "source": [
        "## Pre-processing\n",
        "* Data Cleaning\n",
        "* Using NLP\n",
        "\n",
        "Now that we have explored our data, we need to prepare it for machine learning. In general, to process text we need to apply the following procedure:\n",
        "\n",
        "raw text corpus -> processing text -> tokenized text -> corpus vocabulary -> text representation\n",
        "\n",
        "We can do most of the hard work with Keras's Tokenize object, which automatically converts all words to lowercase and filters out punctuation\n",
        "\n",
        "This tokenizer has many arguements that allow you to do most of the cleaning with one line of code, so we do not need to much processing ourselves. I have included some examples of how one would manually clean text for reference:"
      ]
    },
    {
      "cell_type": "markdown",
      "metadata": {
        "id": "Ybl0JhLMlPd2",
        "colab_type": "text"
      },
      "source": [
        "### Create preprocessing functions"
      ]
    },
    {
      "cell_type": "code",
      "metadata": {
        "id": "oNCsxIaolPd2",
        "colab_type": "code",
        "colab": {}
      },
      "source": [
        "#remove punctuation\n",
        "def remove_punctuation(message):\n",
        "    return message.translate(str.maketrans('', '', string.punctuation))\n",
        "\n",
        "#remove stopwords\n",
        "StopWords = stopwords\n",
        "def remove_stopwords(message):\n",
        "    return ' '.join([i for i in message.split() if i not in StopWords])\n",
        "\n",
        "#remove words less than 4 \n",
        "def remove_less_than(message):\n",
        "    return ' '.join([i for i in message.split() if len(i) > 3])\n",
        "\n",
        "#remove words with non-alphabet characters\n",
        "def remove_non_alphabet(message):\n",
        "    return ' '.join([i for i in message.split() if i.isalpha() == True])\n",
        "\n",
        "#stem words\n",
        "stemmer = SnowballStemmer('english')\n",
        "def stem_words(message):\n",
        "    return stemmer.stem(message)\n",
        "\n",
        "#lemmatize words for verb\n",
        "lemmatizer = WordNetLemmatizer()\n",
        "def lemmatize_words_verb(message):\n",
        "    return lemmatizer.lemmatize(message, 'v')"
      ],
      "execution_count": null,
      "outputs": []
    },
    {
      "cell_type": "code",
      "metadata": {
        "scrolled": true,
        "id": "RSebf1gClPd5",
        "colab_type": "code",
        "colab": {},
        "outputId": "6c66874e-44fa-41c8-ddc9-6fa9806acd4d"
      },
      "source": [
        "from keras.preprocessing.text import Tokenizer #in contrast to RegExTokenizer from nltk libarary\n",
        "\n",
        "contractions = [\"can't stop won't stop\"]\n",
        "\n",
        "tokenizer = Tokenizer(filters= \"'!#$%&()*+,-./:;<=>?@[\\\\]^_`{|}~\\t\\n\")\n",
        "tokenizer.fit_on_texts(contractions)\n",
        "tokenizer.word_index"
      ],
      "execution_count": null,
      "outputs": [
        {
          "output_type": "stream",
          "text": [
            "Using TensorFlow backend.\n"
          ],
          "name": "stderr"
        },
        {
          "output_type": "execute_result",
          "data": {
            "text/plain": [
              "{'t': 1, 'stop': 2, 'can': 3, 'won': 4}"
            ]
          },
          "metadata": {
            "tags": []
          },
          "execution_count": 91
        }
      ]
    },
    {
      "cell_type": "code",
      "metadata": {
        "id": "o2K79NW5lPd9",
        "colab_type": "code",
        "colab": {}
      },
      "source": [
        "def correct_contraction(message):\n",
        "    message = str(message).lower()\n",
        "    message = re.sub(r\"he's\", \"he is\", message)\n",
        "    message = re.sub(r\"there's\", \"there is\", message)\n",
        "    message = re.sub(r\"We're\", \"We are\", message)\n",
        "    message = re.sub(r\"That's\", \"That is\", message)\n",
        "    message = re.sub(r\"won't\", \"will not\", message)\n",
        "    message = re.sub(r\"they're\", \"they are\", message)\n",
        "    message = re.sub(r\"Can't\", \"Cannot\", message)\n",
        "    message = re.sub(r\"wasn't\", \"was not\", message)\n",
        "    message = re.sub(r\"aren't\", \"are not\", message)\n",
        "    message = re.sub(r\"isn't\", \"is not\", message)\n",
        "    message = re.sub(r\"What's\", \"What is\", message)\n",
        "    message = re.sub(r\"i'd\", \"I would\", message)\n",
        "    message = re.sub(r\"should've\", \"should have\", message)\n",
        "    message = re.sub(r\"where's\", \"where is\", message)\n",
        "    message = re.sub(r\"we'd\", \"we would\", message)\n",
        "    message = re.sub(r\"i'll\", \"I will\", message)\n",
        "    message = re.sub(r\"weren't\", \"were not\", message)\n",
        "    message = re.sub(r\"They're\", \"They are\", message)\n",
        "    message = re.sub(r\"let's\", \"let us\", message)\n",
        "    message = re.sub(r\"it's\", \"it is\", message)\n",
        "    message = re.sub(r\"can't\", \"cannot\", message)\n",
        "    message = re.sub(r\"don't\", \"do not\", message)\n",
        "    message = re.sub(r\"you're\", \"you are\", message)\n",
        "    message = re.sub(r\"i've\", \"I have\", message)\n",
        "    message = re.sub(r\"that's\", \"that is\", message)\n",
        "    message = re.sub(r\"i'll\", \"I will\", message)\n",
        "    message = re.sub(r\"doesn't\", \"does not\", message)\n",
        "    message = re.sub(r\"i'd\", \"I would\", message)\n",
        "    message = re.sub(r\"didn't\", \"did not\", message)\n",
        "    message = re.sub(r\"ain't\", \"am not\", message)\n",
        "    message = re.sub(r\"you'll\", \"you will\", message)\n",
        "    message = re.sub(r\"I've\", \"I have\", message)\n",
        "    message = re.sub(r\"Don't\", \"do not\", message)\n",
        "    message = re.sub(r\"I'll\", \"I will\", message)\n",
        "    message = re.sub(r\"I'd\", \"I would\", message)\n",
        "    message = re.sub(r\"Let's\", \"Let us\", message)\n",
        "    message = re.sub(r\"you'd\", \"You would\", message)\n",
        "    message = re.sub(r\"It's\", \"It is\", message)\n",
        "    message = re.sub(r\"Ain't\", \"am not\", message)\n",
        "    message = re.sub(r\"Haven't\", \"Have not\", message)\n",
        "    message = re.sub(r\"Could've\", \"Could have\", message)\n",
        "    message = re.sub(r\"youve\", \"you have\", message)\n",
        "    message = re.sub(r\"haven't\", \"have not\", message)\n",
        "    message = re.sub(r\"hasn't\", \"has not\", message)\n",
        "    message = re.sub(r\"There's\", \"There is\", message)\n",
        "    message = re.sub(r\"He's\", \"He is\", message)\n",
        "    message = re.sub(r\"It's\", \"It is\", message)\n",
        "    message = re.sub(r\"You're\", \"You are\", message)\n",
        "    message = re.sub(r\"I'M\", \"I am\", message)\n",
        "    message = re.sub(r\"shouldn't\", \"should not\", message)\n",
        "    message = re.sub(r\"wouldn't\", \"would not\", message)\n",
        "    message = re.sub(r\"i'm\", \"I am\", message)\n",
        "    message = re.sub(r\"I'm\", \"I am\", message)\n",
        "    message = re.sub(r\"Isn't\", \"is not\", message)\n",
        "    message = re.sub(r\"Here's\", \"Here is\", message)\n",
        "    message = re.sub(r\"you've\", \"you have\", message)\n",
        "    message = re.sub(r\"we're\", \"we are\", message)\n",
        "    message = re.sub(r\"what's\", \"what is\", message)\n",
        "    message = re.sub(r\"couldn't\", \"could not\", message)\n",
        "    message = re.sub(r\"we've\", \"we have\", message)\n",
        "    message = re.sub(r\"who's\", \"who is\", message)\n",
        "    message = re.sub(r\"y'all\", \"you all\", message)\n",
        "    message = re.sub(r\"would've\", \"would have\", message)\n",
        "    message = re.sub(r\"it'll\", \"it will\", message)\n",
        "    message = re.sub(r\"we'll\", \"we will\", message)\n",
        "    message = re.sub(r\"We've\", \"We have\", message)\n",
        "    message = re.sub(r\"he'll\", \"he will\", message)\n",
        "    message = re.sub(r\"Y'all\", \"You all\", message)\n",
        "    message = re.sub(r\"Weren't\", \"Were not\", message)\n",
        "    message = re.sub(r\"Didn't\", \"Did not\", message)\n",
        "    message = re.sub(r\"they'll\", \"they will\", message)\n",
        "    message = re.sub(r\"they'd\", \"they would\", message)\n",
        "    message = re.sub(r\"DON'T\", \"DO NOT\", message)\n",
        "    message = re.sub(r\"they've\", \"they have\", message)\n",
        "    \n",
        "    #correct some acronyms while we are at it\n",
        "    message = re.sub(r\"nba\", \"National Basketball Association\", message)\n",
        "    message = re.sub(r\"azwx\", \"Arizona Weather\", message)  \n",
        "    message = re.sub(r\"alwx\", \"Alabama Weather\", message)\n",
        "    message = re.sub(r\"wordpressdotcom\", \"wordpress\", message)      \n",
        "    message = re.sub(r\"gawx\", \"Georgia Weather\", message)  \n",
        "    message = re.sub(r\"scwx\", \"South Carolina Weather\", message)  \n",
        "    message = re.sub(r\"cawx\", \"California Weather\", message)\n",
        "    message = re.sub(r\"usNWSgov\", \"United States National Weather Service\", message) \n",
        "    message = re.sub(r\"epa\", \"Environmental Protection Agency\", message)\n",
        "    message = re.sub(r\"okwx\", \"Oklahoma City Weather\", message)\n",
        "    message = re.sub(r\"rt\", \"retweet\", message)\n",
        "    message = re.sub(r\"ny\", \"New York\", message)\n",
        "    message = re.sub(r\"arwx\", \"Arkansas Weather\", message)  \n",
        "  \n",
        "    \n",
        "    return message\n",
        "\n",
        "total['message'] = total['message'].apply(correct_contraction)"
      ],
      "execution_count": null,
      "outputs": []
    },
    {
      "cell_type": "code",
      "metadata": {
        "scrolled": true,
        "id": "mjcvRxW6lPeB",
        "colab_type": "code",
        "colab": {},
        "outputId": "0ddff819-84f6-47d8-d16c-853ebb2c57d8"
      },
      "source": [
        "train_data['message']"
      ],
      "execution_count": null,
      "outputs": [
        {
          "output_type": "execute_result",
          "data": {
            "text/plain": [
              "0        polyscimajor Environmental Protection Agency c...\n",
              "1        it is not like we lack evidence of anthropogen...\n",
              "2        retweet @rawstory: researchers say we have thr...\n",
              "3        #todayinmaker# wired : 2016 was a pivotal year...\n",
              "4        retweet @soynoviodetodas: it is 2016, and a ra...\n",
              "                               ...                        \n",
              "15814    retweet @ezlusztig: they took down the materia...\n",
              "15815    retweet @washingtonpost: how climate change co...\n",
              "15816    notiven: retweet: New Yorktimesworld :what doe...\n",
              "15817    retweet @sara8smiles: hey liberals the climate...\n",
              "15818    retweet @chet_cannon: .@kuretweeteichenwald's ...\n",
              "Name: message, Length: 15819, dtype: object"
            ]
          },
          "metadata": {
            "tags": []
          },
          "execution_count": 93
        }
      ]
    },
    {
      "cell_type": "markdown",
      "metadata": {
        "id": "qNfV7E1olPeD",
        "colab_type": "text"
      },
      "source": [
        "### Remove URL"
      ]
    },
    {
      "cell_type": "code",
      "metadata": {
        "id": "y3v7YasAlPeD",
        "colab_type": "code",
        "colab": {}
      },
      "source": [
        "example = \"My Profile: https://auth.geeksforgeeks.org\\\n",
        "/ user / Chinmoy % 20Lenka / articles in\\\n",
        "the portal of http://www.geeksforgeeks.org/\""
      ],
      "execution_count": null,
      "outputs": []
    },
    {
      "cell_type": "code",
      "metadata": {
        "id": "6B5hcjL7lPeF",
        "colab_type": "code",
        "colab": {},
        "outputId": "ec52a7b7-c3d3-4722-a988-d3d41a099167"
      },
      "source": [
        "def remove_URL(message):\n",
        "    url = re.compile(r'https?://\\S+|www\\.\\S+')\n",
        "    return url.sub(r'',message)\n",
        "\n",
        "remove_URL(example)"
      ],
      "execution_count": null,
      "outputs": [
        {
          "output_type": "execute_result",
          "data": {
            "text/plain": [
              "'My Profile:  user / Chinmoy % 20Lenka / articles inthe portal of '"
            ]
          },
          "metadata": {
            "tags": []
          },
          "execution_count": 95
        }
      ]
    },
    {
      "cell_type": "code",
      "metadata": {
        "id": "BC_aoIrslPeH",
        "colab_type": "code",
        "colab": {}
      },
      "source": [
        "train_data['message']=train_data['message'].apply(lambda x : remove_URL(x))"
      ],
      "execution_count": null,
      "outputs": []
    },
    {
      "cell_type": "markdown",
      "metadata": {
        "id": "VoDXpVtrlPeJ",
        "colab_type": "text"
      },
      "source": [
        "### Remove line breaks"
      ]
    },
    {
      "cell_type": "code",
      "metadata": {
        "id": "CzhIFmJ8lPeK",
        "colab_type": "code",
        "colab": {}
      },
      "source": [
        "example = \"Hello \\n World\""
      ],
      "execution_count": null,
      "outputs": []
    },
    {
      "cell_type": "code",
      "metadata": {
        "id": "C-5aJUkKlPeM",
        "colab_type": "code",
        "colab": {},
        "outputId": "ee3534ae-2f84-4ded-cf7d-5c22ecd800fa"
      },
      "source": [
        "print (example)"
      ],
      "execution_count": null,
      "outputs": [
        {
          "output_type": "stream",
          "text": [
            "Hello \n",
            " World\n"
          ],
          "name": "stdout"
        }
      ]
    },
    {
      "cell_type": "code",
      "metadata": {
        "id": "M_TkPyQQlPeO",
        "colab_type": "code",
        "colab": {},
        "outputId": "dc419725-99a2-494a-92f9-359695befa32"
      },
      "source": [
        "def line_break(message):\n",
        "    break_line = message.replace('\\n', ' ')\n",
        "    return break_line\n",
        "\n",
        "line_break(example)"
      ],
      "execution_count": null,
      "outputs": [
        {
          "output_type": "execute_result",
          "data": {
            "text/plain": [
              "'Hello   World'"
            ]
          },
          "metadata": {
            "tags": []
          },
          "execution_count": 99
        }
      ]
    },
    {
      "cell_type": "code",
      "metadata": {
        "id": "vqFeADpXlPeQ",
        "colab_type": "code",
        "colab": {}
      },
      "source": [
        "train_data['message']=train_data['message'].apply(lambda x : remove_URL(x))"
      ],
      "execution_count": null,
      "outputs": []
    },
    {
      "cell_type": "markdown",
      "metadata": {
        "id": "YzQNLhGElPeS",
        "colab_type": "text"
      },
      "source": [
        "### Remove HTML"
      ]
    },
    {
      "cell_type": "code",
      "metadata": {
        "id": "L_3jIoPClPeT",
        "colab_type": "code",
        "colab": {}
      },
      "source": [
        "example = \"\"\"<div>\n",
        "<h1>Reel or Real</h1>\n",
        "<p>Hindustan </p>\n",
        "<a href=\"https://www.hindustan.com/c/nlp-open-the source\">get the source</a>\n",
        "</div>\"\"\""
      ],
      "execution_count": null,
      "outputs": []
    },
    {
      "cell_type": "code",
      "metadata": {
        "id": "h4g1eZAYlPeV",
        "colab_type": "code",
        "colab": {},
        "outputId": "290d4013-87b7-4915-d7ad-409e8210d118"
      },
      "source": [
        "def remove_html(message):\n",
        "    html=re.compile(r'<.*?>')\n",
        "    return html.sub(r'',message)\n",
        "print(remove_html(example))"
      ],
      "execution_count": null,
      "outputs": [
        {
          "output_type": "stream",
          "text": [
            "\n",
            "Reel or Real\n",
            "Hindustan \n",
            "get the source\n",
            "\n"
          ],
          "name": "stdout"
        }
      ]
    },
    {
      "cell_type": "code",
      "metadata": {
        "id": "XCP4ORavlPea",
        "colab_type": "code",
        "colab": {}
      },
      "source": [
        "train_data['message']=train_data['message'].apply(lambda x : remove_html(x))"
      ],
      "execution_count": null,
      "outputs": []
    },
    {
      "cell_type": "markdown",
      "metadata": {
        "id": "K-qw4_uOlPec",
        "colab_type": "text"
      },
      "source": [
        "### Remove emojis"
      ]
    },
    {
      "cell_type": "code",
      "metadata": {
        "id": "pQrJ-xP2lPec",
        "colab_type": "code",
        "colab": {},
        "outputId": "9acff2ff-59dc-4893-a819-d764cc9429a5"
      },
      "source": [
        "def remove_emoji(message):\n",
        "    emoji_pattern = re.compile(\"[\"\n",
        "                           u\"\\U0001F600-\\U0001F64F\"  # emoticons\n",
        "                           u\"\\U0001F300-\\U0001F5FF\"  # symbols & pictographs\n",
        "                           u\"\\U0001F680-\\U0001F6FF\"  # transport & map symbols\n",
        "                           u\"\\U0001F1E0-\\U0001F1FF\"  # flags (iOS)\n",
        "                           u\"\\U00002702-\\U000027B0\"\n",
        "                           u\"\\U000024C2-\\U0001F251\"\n",
        "                           \"]+\", flags=re.UNICODE)\n",
        "    return emoji_pattern.sub(r'', message)\n",
        "\n",
        "remove_emoji(\"RT @GlblCtzn: 'I don't wanna live forever – and nothing will because climate change' ����️�� @taylor...\")"
      ],
      "execution_count": null,
      "outputs": [
        {
          "output_type": "execute_result",
          "data": {
            "text/plain": [
              "\"RT @GlblCtzn: 'I don't wanna live forever – and nothing will because climate change'  @taylor...\""
            ]
          },
          "metadata": {
            "tags": []
          },
          "execution_count": 104
        }
      ]
    },
    {
      "cell_type": "code",
      "metadata": {
        "id": "y8hHtRQ5lPeh",
        "colab_type": "code",
        "colab": {}
      },
      "source": [
        "train_data['message']=train_data['message'].apply(lambda x: remove_emoji(x))"
      ],
      "execution_count": null,
      "outputs": []
    },
    {
      "cell_type": "markdown",
      "metadata": {
        "id": "X_s2WMsYlPel",
        "colab_type": "text"
      },
      "source": [
        "### Remove PUNCTUATION and CAPITAL letters"
      ]
    },
    {
      "cell_type": "code",
      "metadata": {
        "id": "mx_9piBGlPel",
        "colab_type": "code",
        "colab": {},
        "outputId": "37a60043-51a5-4132-be70-d49f95627189"
      },
      "source": [
        "def remove_punct(text):\n",
        "    table=str.maketrans('','',string.punctuation)\n",
        "    return text.translate(table)\n",
        "\n",
        "example=\"I am a #GREAT Man.,\"\n",
        "print(remove_punct(example))"
      ],
      "execution_count": null,
      "outputs": [
        {
          "output_type": "stream",
          "text": [
            "I am a GREAT Man\n"
          ],
          "name": "stdout"
        }
      ]
    },
    {
      "cell_type": "code",
      "metadata": {
        "id": "-QXJ4Q6glPeo",
        "colab_type": "code",
        "colab": {}
      },
      "source": [
        "train_data['message']=train_data['message'].apply(lambda x: remove_punct(x).lower())"
      ],
      "execution_count": null,
      "outputs": []
    },
    {
      "cell_type": "markdown",
      "metadata": {
        "id": "hiz2av3clPer",
        "colab_type": "text"
      },
      "source": [
        "### Remove numbers"
      ]
    },
    {
      "cell_type": "code",
      "metadata": {
        "id": "wDihzNF5lPer",
        "colab_type": "code",
        "colab": {}
      },
      "source": [
        "# remove numbers from text\n",
        "train_data['message']=train_data['message'].apply(lambda x: re.sub('\\w*\\d\\w*', ' ', x))"
      ],
      "execution_count": null,
      "outputs": []
    },
    {
      "cell_type": "markdown",
      "metadata": {
        "id": "SyH_gBU0lPet",
        "colab_type": "text"
      },
      "source": [
        "### Remove URL extra spaces as a result of cleaning text"
      ]
    },
    {
      "cell_type": "code",
      "metadata": {
        "id": "s773hHM8lPet",
        "colab_type": "code",
        "colab": {}
      },
      "source": [
        "# remove extra spaces\n",
        "train_data['message']=train_data['message'].apply(lambda x: re.sub(' +',' ',x))"
      ],
      "execution_count": null,
      "outputs": []
    },
    {
      "cell_type": "markdown",
      "metadata": {
        "id": "Df9s7v93lPev",
        "colab_type": "text"
      },
      "source": [
        "### Check the spelling"
      ]
    },
    {
      "cell_type": "code",
      "metadata": {
        "scrolled": true,
        "id": "m7gz-vUTlPev",
        "colab_type": "code",
        "colab": {}
      },
      "source": [
        "#!pip install pyspellchecker"
      ],
      "execution_count": null,
      "outputs": []
    },
    {
      "cell_type": "code",
      "metadata": {
        "id": "C0pN66mblPex",
        "colab_type": "code",
        "colab": {},
        "outputId": "9e23b763-07eb-45fd-a574-bace59b94090"
      },
      "source": [
        "from spellchecker import SpellChecker\n",
        "spell = SpellChecker()\n",
        "def correct_spellings(text):\n",
        "    corrected_text = []\n",
        "    misspelled_words = spell.unknown(text.split())\n",
        "    for word in text.split():\n",
        "        if word in misspelled_words:\n",
        "            corrected_text.append(spell.correction(word))\n",
        "        else:\n",
        "            corrected_text.append(word)\n",
        "    return \" \".join(corrected_text)\n",
        "        \n",
        "text = \"corect me plese\"\n",
        "correct_spellings(text)"
      ],
      "execution_count": null,
      "outputs": [
        {
          "output_type": "execute_result",
          "data": {
            "text/plain": [
              "'correct me please'"
            ]
          },
          "metadata": {
            "tags": []
          },
          "execution_count": 111
        }
      ]
    },
    {
      "cell_type": "code",
      "metadata": {
        "id": "ZnSV5T0nlPez",
        "colab_type": "code",
        "colab": {}
      },
      "source": [
        "#train_data['message']=train_data['message'].apply(lambda x: correct_spellings(x))"
      ],
      "execution_count": null,
      "outputs": []
    },
    {
      "cell_type": "code",
      "metadata": {
        "id": "dV02kjRxlPe2",
        "colab_type": "code",
        "colab": {},
        "outputId": "1a9166cb-4c04-493f-fb7c-207b71957749"
      },
      "source": [
        "train_data.head(5).T"
      ],
      "execution_count": null,
      "outputs": [
        {
          "output_type": "execute_result",
          "data": {
            "text/html": [
              "<div>\n",
              "<style scoped>\n",
              "    .dataframe tbody tr th:only-of-type {\n",
              "        vertical-align: middle;\n",
              "    }\n",
              "\n",
              "    .dataframe tbody tr th {\n",
              "        vertical-align: top;\n",
              "    }\n",
              "\n",
              "    .dataframe thead th {\n",
              "        text-align: right;\n",
              "    }\n",
              "</style>\n",
              "<table border=\"1\" class=\"dataframe\">\n",
              "  <thead>\n",
              "    <tr style=\"text-align: right;\">\n",
              "      <th></th>\n",
              "      <th>0</th>\n",
              "      <th>1</th>\n",
              "      <th>2</th>\n",
              "      <th>3</th>\n",
              "      <th>4</th>\n",
              "    </tr>\n",
              "  </thead>\n",
              "  <tbody>\n",
              "    <tr>\n",
              "      <th>sentiment1</th>\n",
              "      <td>1</td>\n",
              "      <td>1</td>\n",
              "      <td>2</td>\n",
              "      <td>1</td>\n",
              "      <td>1</td>\n",
              "    </tr>\n",
              "    <tr>\n",
              "      <th>message</th>\n",
              "      <td>polyscimajor environmental protection agency c...</td>\n",
              "      <td>it is not like we lack evidence of anthropogen...</td>\n",
              "      <td>retweet rawstory researchers say we have three...</td>\n",
              "      <td>todayinmaker wired was a pivotal year in the w...</td>\n",
              "      <td>retweet soynoviodetodas it is and a racist sex...</td>\n",
              "    </tr>\n",
              "    <tr>\n",
              "      <th>tweetid</th>\n",
              "      <td>625221</td>\n",
              "      <td>126103</td>\n",
              "      <td>698562</td>\n",
              "      <td>573736</td>\n",
              "      <td>466954</td>\n",
              "    </tr>\n",
              "    <tr>\n",
              "      <th>word_count</th>\n",
              "      <td>19</td>\n",
              "      <td>10</td>\n",
              "      <td>19</td>\n",
              "      <td>15</td>\n",
              "      <td>18</td>\n",
              "    </tr>\n",
              "    <tr>\n",
              "      <th>character_count</th>\n",
              "      <td>140</td>\n",
              "      <td>62</td>\n",
              "      <td>140</td>\n",
              "      <td>99</td>\n",
              "      <td>122</td>\n",
              "    </tr>\n",
              "    <tr>\n",
              "      <th>average_word_length</th>\n",
              "      <td>6.42105</td>\n",
              "      <td>5.3</td>\n",
              "      <td>6.42105</td>\n",
              "      <td>5.66667</td>\n",
              "      <td>5.83333</td>\n",
              "    </tr>\n",
              "    <tr>\n",
              "      <th>unique_word_count</th>\n",
              "      <td>19</td>\n",
              "      <td>10</td>\n",
              "      <td>19</td>\n",
              "      <td>15</td>\n",
              "      <td>18</td>\n",
              "    </tr>\n",
              "    <tr>\n",
              "      <th>stopword_count</th>\n",
              "      <td>3</td>\n",
              "      <td>4</td>\n",
              "      <td>6</td>\n",
              "      <td>5</td>\n",
              "      <td>6</td>\n",
              "    </tr>\n",
              "    <tr>\n",
              "      <th>url_count</th>\n",
              "      <td>1</td>\n",
              "      <td>0</td>\n",
              "      <td>2</td>\n",
              "      <td>1</td>\n",
              "      <td>0</td>\n",
              "    </tr>\n",
              "    <tr>\n",
              "      <th>hashtag_count</th>\n",
              "      <td>0</td>\n",
              "      <td>0</td>\n",
              "      <td>0</td>\n",
              "      <td>2</td>\n",
              "      <td>1</td>\n",
              "    </tr>\n",
              "    <tr>\n",
              "      <th>mention_count</th>\n",
              "      <td>1</td>\n",
              "      <td>0</td>\n",
              "      <td>1</td>\n",
              "      <td>0</td>\n",
              "      <td>1</td>\n",
              "    </tr>\n",
              "    <tr>\n",
              "      <th>punctuation_count</th>\n",
              "      <td>12</td>\n",
              "      <td>1</td>\n",
              "      <td>12</td>\n",
              "      <td>8</td>\n",
              "      <td>8</td>\n",
              "    </tr>\n",
              "  </tbody>\n",
              "</table>\n",
              "</div>"
            ],
            "text/plain": [
              "                                                                     0  \\\n",
              "sentiment1                                                           1   \n",
              "message              polyscimajor environmental protection agency c...   \n",
              "tweetid                                                         625221   \n",
              "word_count                                                          19   \n",
              "character_count                                                    140   \n",
              "average_word_length                                            6.42105   \n",
              "unique_word_count                                                   19   \n",
              "stopword_count                                                       3   \n",
              "url_count                                                            1   \n",
              "hashtag_count                                                        0   \n",
              "mention_count                                                        1   \n",
              "punctuation_count                                                   12   \n",
              "\n",
              "                                                                     1  \\\n",
              "sentiment1                                                           1   \n",
              "message              it is not like we lack evidence of anthropogen...   \n",
              "tweetid                                                         126103   \n",
              "word_count                                                          10   \n",
              "character_count                                                     62   \n",
              "average_word_length                                                5.3   \n",
              "unique_word_count                                                   10   \n",
              "stopword_count                                                       4   \n",
              "url_count                                                            0   \n",
              "hashtag_count                                                        0   \n",
              "mention_count                                                        0   \n",
              "punctuation_count                                                    1   \n",
              "\n",
              "                                                                     2  \\\n",
              "sentiment1                                                           2   \n",
              "message              retweet rawstory researchers say we have three...   \n",
              "tweetid                                                         698562   \n",
              "word_count                                                          19   \n",
              "character_count                                                    140   \n",
              "average_word_length                                            6.42105   \n",
              "unique_word_count                                                   19   \n",
              "stopword_count                                                       6   \n",
              "url_count                                                            2   \n",
              "hashtag_count                                                        0   \n",
              "mention_count                                                        1   \n",
              "punctuation_count                                                   12   \n",
              "\n",
              "                                                                     3  \\\n",
              "sentiment1                                                           1   \n",
              "message              todayinmaker wired was a pivotal year in the w...   \n",
              "tweetid                                                         573736   \n",
              "word_count                                                          15   \n",
              "character_count                                                     99   \n",
              "average_word_length                                            5.66667   \n",
              "unique_word_count                                                   15   \n",
              "stopword_count                                                       5   \n",
              "url_count                                                            1   \n",
              "hashtag_count                                                        2   \n",
              "mention_count                                                        0   \n",
              "punctuation_count                                                    8   \n",
              "\n",
              "                                                                     4  \n",
              "sentiment1                                                           1  \n",
              "message              retweet soynoviodetodas it is and a racist sex...  \n",
              "tweetid                                                         466954  \n",
              "word_count                                                          18  \n",
              "character_count                                                    122  \n",
              "average_word_length                                            5.83333  \n",
              "unique_word_count                                                   18  \n",
              "stopword_count                                                       6  \n",
              "url_count                                                            0  \n",
              "hashtag_count                                                        1  \n",
              "mention_count                                                        1  \n",
              "punctuation_count                                                    8  "
            ]
          },
          "metadata": {
            "tags": []
          },
          "execution_count": 113
        }
      ]
    },
    {
      "cell_type": "code",
      "metadata": {
        "id": "YfmThr-ZlPe4",
        "colab_type": "code",
        "colab": {}
      },
      "source": [
        ""
      ],
      "execution_count": null,
      "outputs": []
    },
    {
      "cell_type": "markdown",
      "metadata": {
        "id": "N5z799GgGM2t",
        "colab_type": "text"
      },
      "source": [
        "###### task: check whether processed data has any missing values before selecting features "
      ]
    },
    {
      "cell_type": "code",
      "metadata": {
        "id": "oUUcxIBhlPe8",
        "colab_type": "code",
        "colab": {}
      },
      "source": [
        "#X = np.array(train_data['message'])  # this time we want to look at the text\n",
        "#y = np.array(train_data['sentiment'])\n",
        "#X_test = np.array(test_data['message'])"
      ],
      "execution_count": null,
      "outputs": []
    },
    {
      "cell_type": "code",
      "metadata": {
        "scrolled": true,
        "id": "agSzddTPlPe-",
        "colab_type": "code",
        "colab": {},
        "outputId": "bf41bbb5-9f27-4549-e101-493a7b92ee83"
      },
      "source": [
        "train_data.isnull().sum()"
      ],
      "execution_count": null,
      "outputs": [
        {
          "output_type": "execute_result",
          "data": {
            "text/plain": [
              "sentiment1             0\n",
              "message                0\n",
              "tweetid                0\n",
              "word_count             0\n",
              "character_count        0\n",
              "average_word_length    0\n",
              "unique_word_count      0\n",
              "stopword_count         0\n",
              "url_count              0\n",
              "hashtag_count          0\n",
              "mention_count          0\n",
              "punctuation_count      0\n",
              "dtype: int64"
            ]
          },
          "metadata": {
            "tags": []
          },
          "execution_count": 115
        }
      ]
    },
    {
      "cell_type": "code",
      "metadata": {
        "id": "hwkUFhRllPfA",
        "colab_type": "code",
        "colab": {},
        "outputId": "a90654fb-1b45-4588-b911-e8d3a2cca30e"
      },
      "source": [
        "train_data.dropna(inplace=True)\n",
        "train_data.isnull().sum()"
      ],
      "execution_count": null,
      "outputs": [
        {
          "output_type": "execute_result",
          "data": {
            "text/plain": [
              "sentiment1             0\n",
              "message                0\n",
              "tweetid                0\n",
              "word_count             0\n",
              "character_count        0\n",
              "average_word_length    0\n",
              "unique_word_count      0\n",
              "stopword_count         0\n",
              "url_count              0\n",
              "hashtag_count          0\n",
              "mention_count          0\n",
              "punctuation_count      0\n",
              "dtype: int64"
            ]
          },
          "metadata": {
            "tags": []
          },
          "execution_count": 116
        }
      ]
    },
    {
      "cell_type": "code",
      "metadata": {
        "scrolled": false,
        "id": "gZKdB0SVlPfD",
        "colab_type": "code",
        "colab": {},
        "outputId": "a3424a22-0a3d-460a-9f04-29c2def408c9"
      },
      "source": [
        "train_data.T"
      ],
      "execution_count": null,
      "outputs": [
        {
          "output_type": "execute_result",
          "data": {
            "text/html": [
              "<div>\n",
              "<style scoped>\n",
              "    .dataframe tbody tr th:only-of-type {\n",
              "        vertical-align: middle;\n",
              "    }\n",
              "\n",
              "    .dataframe tbody tr th {\n",
              "        vertical-align: top;\n",
              "    }\n",
              "\n",
              "    .dataframe thead th {\n",
              "        text-align: right;\n",
              "    }\n",
              "</style>\n",
              "<table border=\"1\" class=\"dataframe\">\n",
              "  <thead>\n",
              "    <tr style=\"text-align: right;\">\n",
              "      <th></th>\n",
              "      <th>0</th>\n",
              "      <th>1</th>\n",
              "      <th>2</th>\n",
              "      <th>3</th>\n",
              "      <th>4</th>\n",
              "      <th>5</th>\n",
              "      <th>6</th>\n",
              "      <th>7</th>\n",
              "      <th>8</th>\n",
              "      <th>9</th>\n",
              "      <th>...</th>\n",
              "      <th>15809</th>\n",
              "      <th>15810</th>\n",
              "      <th>15811</th>\n",
              "      <th>15812</th>\n",
              "      <th>15813</th>\n",
              "      <th>15814</th>\n",
              "      <th>15815</th>\n",
              "      <th>15816</th>\n",
              "      <th>15817</th>\n",
              "      <th>15818</th>\n",
              "    </tr>\n",
              "  </thead>\n",
              "  <tbody>\n",
              "    <tr>\n",
              "      <th>sentiment1</th>\n",
              "      <td>1</td>\n",
              "      <td>1</td>\n",
              "      <td>2</td>\n",
              "      <td>1</td>\n",
              "      <td>1</td>\n",
              "      <td>1</td>\n",
              "      <td>1</td>\n",
              "      <td>1</td>\n",
              "      <td>1</td>\n",
              "      <td>1</td>\n",
              "      <td>...</td>\n",
              "      <td>2</td>\n",
              "      <td>0</td>\n",
              "      <td>1</td>\n",
              "      <td>1</td>\n",
              "      <td>1</td>\n",
              "      <td>1</td>\n",
              "      <td>2</td>\n",
              "      <td>0</td>\n",
              "      <td>-1</td>\n",
              "      <td>0</td>\n",
              "    </tr>\n",
              "    <tr>\n",
              "      <th>message</th>\n",
              "      <td>polyscimajor environmental protection agency c...</td>\n",
              "      <td>it is not like we lack evidence of anthropogen...</td>\n",
              "      <td>retweet rawstory researchers say we have three...</td>\n",
              "      <td>todayinmaker wired was a pivotal year in the w...</td>\n",
              "      <td>retweet soynoviodetodas it is and a racist sex...</td>\n",
              "      <td>woretweeth a read whether you do or do not bel...</td>\n",
              "      <td>retweet thenation mike pence doesn’t believe i...</td>\n",
              "      <td>retweet makeandmendlife six big things we can ...</td>\n",
              "      <td>aceofspadeshq my nephew is inconsolable he wan...</td>\n",
              "      <td>retweet paigetweedy no offense… but like… how ...</td>\n",
              "      <td>...</td>\n",
              "      <td>the quest to capture and store carbon — and sl...</td>\n",
              "      <td>this global warming so late in the season is p...</td>\n",
              "      <td>retweet stephenschlegel she is thinking about ...</td>\n",
              "      <td>retweet sierraclub hottest year in history als...</td>\n",
              "      <td>retweet thinkprogress environmental protection...</td>\n",
              "      <td>retweet ezlusztig they took down the material ...</td>\n",
              "      <td>retweet washingtonpost how climate change coul...</td>\n",
              "      <td>notiven retweet new yorktimesworld what does t...</td>\n",
              "      <td>retweet hey liberals the climate change crap i...</td>\n",
              "      <td>retweet chetcannon kuretweeteichenwalds climat...</td>\n",
              "    </tr>\n",
              "    <tr>\n",
              "      <th>tweetid</th>\n",
              "      <td>625221</td>\n",
              "      <td>126103</td>\n",
              "      <td>698562</td>\n",
              "      <td>573736</td>\n",
              "      <td>466954</td>\n",
              "      <td>425577</td>\n",
              "      <td>294933</td>\n",
              "      <td>992717</td>\n",
              "      <td>664510</td>\n",
              "      <td>260471</td>\n",
              "      <td>...</td>\n",
              "      <td>705048</td>\n",
              "      <td>572819</td>\n",
              "      <td>426353</td>\n",
              "      <td>989478</td>\n",
              "      <td>442853</td>\n",
              "      <td>22001</td>\n",
              "      <td>17856</td>\n",
              "      <td>384248</td>\n",
              "      <td>819732</td>\n",
              "      <td>806319</td>\n",
              "    </tr>\n",
              "    <tr>\n",
              "      <th>word_count</th>\n",
              "      <td>19</td>\n",
              "      <td>10</td>\n",
              "      <td>19</td>\n",
              "      <td>15</td>\n",
              "      <td>18</td>\n",
              "      <td>14</td>\n",
              "      <td>16</td>\n",
              "      <td>23</td>\n",
              "      <td>25</td>\n",
              "      <td>15</td>\n",
              "      <td>...</td>\n",
              "      <td>19</td>\n",
              "      <td>12</td>\n",
              "      <td>19</td>\n",
              "      <td>20</td>\n",
              "      <td>16</td>\n",
              "      <td>22</td>\n",
              "      <td>13</td>\n",
              "      <td>19</td>\n",
              "      <td>21</td>\n",
              "      <td>10</td>\n",
              "    </tr>\n",
              "    <tr>\n",
              "      <th>character_count</th>\n",
              "      <td>140</td>\n",
              "      <td>62</td>\n",
              "      <td>140</td>\n",
              "      <td>99</td>\n",
              "      <td>122</td>\n",
              "      <td>110</td>\n",
              "      <td>119</td>\n",
              "      <td>152</td>\n",
              "      <td>139</td>\n",
              "      <td>88</td>\n",
              "      <td>...</td>\n",
              "      <td>119</td>\n",
              "      <td>63</td>\n",
              "      <td>146</td>\n",
              "      <td>140</td>\n",
              "      <td>140</td>\n",
              "      <td>140</td>\n",
              "      <td>119</td>\n",
              "      <td>133</td>\n",
              "      <td>128</td>\n",
              "      <td>102</td>\n",
              "    </tr>\n",
              "    <tr>\n",
              "      <th>average_word_length</th>\n",
              "      <td>6.42105</td>\n",
              "      <td>5.3</td>\n",
              "      <td>6.42105</td>\n",
              "      <td>5.66667</td>\n",
              "      <td>5.83333</td>\n",
              "      <td>6.92857</td>\n",
              "      <td>6.5</td>\n",
              "      <td>5.65217</td>\n",
              "      <td>4.6</td>\n",
              "      <td>4.93333</td>\n",
              "      <td>...</td>\n",
              "      <td>5.31579</td>\n",
              "      <td>4.33333</td>\n",
              "      <td>6.73684</td>\n",
              "      <td>6.05</td>\n",
              "      <td>7.8125</td>\n",
              "      <td>5.40909</td>\n",
              "      <td>8.23077</td>\n",
              "      <td>6.05263</td>\n",
              "      <td>5.14286</td>\n",
              "      <td>9.3</td>\n",
              "    </tr>\n",
              "    <tr>\n",
              "      <th>unique_word_count</th>\n",
              "      <td>19</td>\n",
              "      <td>10</td>\n",
              "      <td>19</td>\n",
              "      <td>15</td>\n",
              "      <td>18</td>\n",
              "      <td>14</td>\n",
              "      <td>16</td>\n",
              "      <td>21</td>\n",
              "      <td>24</td>\n",
              "      <td>15</td>\n",
              "      <td>...</td>\n",
              "      <td>17</td>\n",
              "      <td>12</td>\n",
              "      <td>18</td>\n",
              "      <td>18</td>\n",
              "      <td>16</td>\n",
              "      <td>22</td>\n",
              "      <td>13</td>\n",
              "      <td>19</td>\n",
              "      <td>20</td>\n",
              "      <td>10</td>\n",
              "    </tr>\n",
              "    <tr>\n",
              "      <th>stopword_count</th>\n",
              "      <td>3</td>\n",
              "      <td>4</td>\n",
              "      <td>6</td>\n",
              "      <td>5</td>\n",
              "      <td>6</td>\n",
              "      <td>6</td>\n",
              "      <td>3</td>\n",
              "      <td>10</td>\n",
              "      <td>10</td>\n",
              "      <td>8</td>\n",
              "      <td>...</td>\n",
              "      <td>6</td>\n",
              "      <td>5</td>\n",
              "      <td>9</td>\n",
              "      <td>4</td>\n",
              "      <td>2</td>\n",
              "      <td>7</td>\n",
              "      <td>4</td>\n",
              "      <td>4</td>\n",
              "      <td>8</td>\n",
              "      <td>1</td>\n",
              "    </tr>\n",
              "    <tr>\n",
              "      <th>url_count</th>\n",
              "      <td>1</td>\n",
              "      <td>0</td>\n",
              "      <td>2</td>\n",
              "      <td>1</td>\n",
              "      <td>0</td>\n",
              "      <td>2</td>\n",
              "      <td>1</td>\n",
              "      <td>1</td>\n",
              "      <td>0</td>\n",
              "      <td>0</td>\n",
              "      <td>...</td>\n",
              "      <td>1</td>\n",
              "      <td>0</td>\n",
              "      <td>1</td>\n",
              "      <td>1</td>\n",
              "      <td>2</td>\n",
              "      <td>1</td>\n",
              "      <td>1</td>\n",
              "      <td>1</td>\n",
              "      <td>0</td>\n",
              "      <td>1</td>\n",
              "    </tr>\n",
              "    <tr>\n",
              "      <th>hashtag_count</th>\n",
              "      <td>0</td>\n",
              "      <td>0</td>\n",
              "      <td>0</td>\n",
              "      <td>2</td>\n",
              "      <td>1</td>\n",
              "      <td>0</td>\n",
              "      <td>0</td>\n",
              "      <td>0</td>\n",
              "      <td>0</td>\n",
              "      <td>0</td>\n",
              "      <td>...</td>\n",
              "      <td>0</td>\n",
              "      <td>0</td>\n",
              "      <td>0</td>\n",
              "      <td>0</td>\n",
              "      <td>0</td>\n",
              "      <td>0</td>\n",
              "      <td>0</td>\n",
              "      <td>0</td>\n",
              "      <td>1</td>\n",
              "      <td>0</td>\n",
              "    </tr>\n",
              "    <tr>\n",
              "      <th>mention_count</th>\n",
              "      <td>1</td>\n",
              "      <td>0</td>\n",
              "      <td>1</td>\n",
              "      <td>0</td>\n",
              "      <td>1</td>\n",
              "      <td>0</td>\n",
              "      <td>1</td>\n",
              "      <td>1</td>\n",
              "      <td>1</td>\n",
              "      <td>1</td>\n",
              "      <td>...</td>\n",
              "      <td>0</td>\n",
              "      <td>0</td>\n",
              "      <td>1</td>\n",
              "      <td>1</td>\n",
              "      <td>1</td>\n",
              "      <td>1</td>\n",
              "      <td>1</td>\n",
              "      <td>0</td>\n",
              "      <td>1</td>\n",
              "      <td>2</td>\n",
              "    </tr>\n",
              "    <tr>\n",
              "      <th>punctuation_count</th>\n",
              "      <td>12</td>\n",
              "      <td>1</td>\n",
              "      <td>12</td>\n",
              "      <td>8</td>\n",
              "      <td>8</td>\n",
              "      <td>11</td>\n",
              "      <td>8</td>\n",
              "      <td>8</td>\n",
              "      <td>4</td>\n",
              "      <td>2</td>\n",
              "      <td>...</td>\n",
              "      <td>5</td>\n",
              "      <td>0</td>\n",
              "      <td>10</td>\n",
              "      <td>11</td>\n",
              "      <td>12</td>\n",
              "      <td>11</td>\n",
              "      <td>10</td>\n",
              "      <td>9</td>\n",
              "      <td>4</td>\n",
              "      <td>13</td>\n",
              "    </tr>\n",
              "  </tbody>\n",
              "</table>\n",
              "<p>12 rows × 15819 columns</p>\n",
              "</div>"
            ],
            "text/plain": [
              "                                                                 0      \\\n",
              "sentiment1                                                           1   \n",
              "message              polyscimajor environmental protection agency c...   \n",
              "tweetid                                                         625221   \n",
              "word_count                                                          19   \n",
              "character_count                                                    140   \n",
              "average_word_length                                            6.42105   \n",
              "unique_word_count                                                   19   \n",
              "stopword_count                                                       3   \n",
              "url_count                                                            1   \n",
              "hashtag_count                                                        0   \n",
              "mention_count                                                        1   \n",
              "punctuation_count                                                   12   \n",
              "\n",
              "                                                                 1      \\\n",
              "sentiment1                                                           1   \n",
              "message              it is not like we lack evidence of anthropogen...   \n",
              "tweetid                                                         126103   \n",
              "word_count                                                          10   \n",
              "character_count                                                     62   \n",
              "average_word_length                                                5.3   \n",
              "unique_word_count                                                   10   \n",
              "stopword_count                                                       4   \n",
              "url_count                                                            0   \n",
              "hashtag_count                                                        0   \n",
              "mention_count                                                        0   \n",
              "punctuation_count                                                    1   \n",
              "\n",
              "                                                                 2      \\\n",
              "sentiment1                                                           2   \n",
              "message              retweet rawstory researchers say we have three...   \n",
              "tweetid                                                         698562   \n",
              "word_count                                                          19   \n",
              "character_count                                                    140   \n",
              "average_word_length                                            6.42105   \n",
              "unique_word_count                                                   19   \n",
              "stopword_count                                                       6   \n",
              "url_count                                                            2   \n",
              "hashtag_count                                                        0   \n",
              "mention_count                                                        1   \n",
              "punctuation_count                                                   12   \n",
              "\n",
              "                                                                 3      \\\n",
              "sentiment1                                                           1   \n",
              "message              todayinmaker wired was a pivotal year in the w...   \n",
              "tweetid                                                         573736   \n",
              "word_count                                                          15   \n",
              "character_count                                                     99   \n",
              "average_word_length                                            5.66667   \n",
              "unique_word_count                                                   15   \n",
              "stopword_count                                                       5   \n",
              "url_count                                                            1   \n",
              "hashtag_count                                                        2   \n",
              "mention_count                                                        0   \n",
              "punctuation_count                                                    8   \n",
              "\n",
              "                                                                 4      \\\n",
              "sentiment1                                                           1   \n",
              "message              retweet soynoviodetodas it is and a racist sex...   \n",
              "tweetid                                                         466954   \n",
              "word_count                                                          18   \n",
              "character_count                                                    122   \n",
              "average_word_length                                            5.83333   \n",
              "unique_word_count                                                   18   \n",
              "stopword_count                                                       6   \n",
              "url_count                                                            0   \n",
              "hashtag_count                                                        1   \n",
              "mention_count                                                        1   \n",
              "punctuation_count                                                    8   \n",
              "\n",
              "                                                                 5      \\\n",
              "sentiment1                                                           1   \n",
              "message              woretweeth a read whether you do or do not bel...   \n",
              "tweetid                                                         425577   \n",
              "word_count                                                          14   \n",
              "character_count                                                    110   \n",
              "average_word_length                                            6.92857   \n",
              "unique_word_count                                                   14   \n",
              "stopword_count                                                       6   \n",
              "url_count                                                            2   \n",
              "hashtag_count                                                        0   \n",
              "mention_count                                                        0   \n",
              "punctuation_count                                                   11   \n",
              "\n",
              "                                                                 6      \\\n",
              "sentiment1                                                           1   \n",
              "message              retweet thenation mike pence doesn’t believe i...   \n",
              "tweetid                                                         294933   \n",
              "word_count                                                          16   \n",
              "character_count                                                    119   \n",
              "average_word_length                                                6.5   \n",
              "unique_word_count                                                   16   \n",
              "stopword_count                                                       3   \n",
              "url_count                                                            1   \n",
              "hashtag_count                                                        0   \n",
              "mention_count                                                        1   \n",
              "punctuation_count                                                    8   \n",
              "\n",
              "                                                                 7      \\\n",
              "sentiment1                                                           1   \n",
              "message              retweet makeandmendlife six big things we can ...   \n",
              "tweetid                                                         992717   \n",
              "word_count                                                          23   \n",
              "character_count                                                    152   \n",
              "average_word_length                                            5.65217   \n",
              "unique_word_count                                                   21   \n",
              "stopword_count                                                      10   \n",
              "url_count                                                            1   \n",
              "hashtag_count                                                        0   \n",
              "mention_count                                                        1   \n",
              "punctuation_count                                                    8   \n",
              "\n",
              "                                                                 8      \\\n",
              "sentiment1                                                           1   \n",
              "message              aceofspadeshq my nephew is inconsolable he wan...   \n",
              "tweetid                                                         664510   \n",
              "word_count                                                          25   \n",
              "character_count                                                    139   \n",
              "average_word_length                                                4.6   \n",
              "unique_word_count                                                   24   \n",
              "stopword_count                                                      10   \n",
              "url_count                                                            0   \n",
              "hashtag_count                                                        0   \n",
              "mention_count                                                        1   \n",
              "punctuation_count                                                    4   \n",
              "\n",
              "                                                                 9      ...  \\\n",
              "sentiment1                                                           1  ...   \n",
              "message              retweet paigetweedy no offense… but like… how ...  ...   \n",
              "tweetid                                                         260471  ...   \n",
              "word_count                                                          15  ...   \n",
              "character_count                                                     88  ...   \n",
              "average_word_length                                            4.93333  ...   \n",
              "unique_word_count                                                   15  ...   \n",
              "stopword_count                                                       8  ...   \n",
              "url_count                                                            0  ...   \n",
              "hashtag_count                                                        0  ...   \n",
              "mention_count                                                        1  ...   \n",
              "punctuation_count                                                    2  ...   \n",
              "\n",
              "                                                                 15809  \\\n",
              "sentiment1                                                           2   \n",
              "message              the quest to capture and store carbon — and sl...   \n",
              "tweetid                                                         705048   \n",
              "word_count                                                          19   \n",
              "character_count                                                    119   \n",
              "average_word_length                                            5.31579   \n",
              "unique_word_count                                                   17   \n",
              "stopword_count                                                       6   \n",
              "url_count                                                            1   \n",
              "hashtag_count                                                        0   \n",
              "mention_count                                                        0   \n",
              "punctuation_count                                                    5   \n",
              "\n",
              "                                                                 15810  \\\n",
              "sentiment1                                                           0   \n",
              "message              this global warming so late in the season is p...   \n",
              "tweetid                                                         572819   \n",
              "word_count                                                          12   \n",
              "character_count                                                     63   \n",
              "average_word_length                                            4.33333   \n",
              "unique_word_count                                                   12   \n",
              "stopword_count                                                       5   \n",
              "url_count                                                            0   \n",
              "hashtag_count                                                        0   \n",
              "mention_count                                                        0   \n",
              "punctuation_count                                                    0   \n",
              "\n",
              "                                                                 15811  \\\n",
              "sentiment1                                                           1   \n",
              "message              retweet stephenschlegel she is thinking about ...   \n",
              "tweetid                                                         426353   \n",
              "word_count                                                          19   \n",
              "character_count                                                    146   \n",
              "average_word_length                                            6.73684   \n",
              "unique_word_count                                                   18   \n",
              "stopword_count                                                       9   \n",
              "url_count                                                            1   \n",
              "hashtag_count                                                        0   \n",
              "mention_count                                                        1   \n",
              "punctuation_count                                                   10   \n",
              "\n",
              "                                                                 15812  \\\n",
              "sentiment1                                                           1   \n",
              "message              retweet sierraclub hottest year in history als...   \n",
              "tweetid                                                         989478   \n",
              "word_count                                                          20   \n",
              "character_count                                                    140   \n",
              "average_word_length                                               6.05   \n",
              "unique_word_count                                                   18   \n",
              "stopword_count                                                       4   \n",
              "url_count                                                            1   \n",
              "hashtag_count                                                        0   \n",
              "mention_count                                                        1   \n",
              "punctuation_count                                                   11   \n",
              "\n",
              "                                                                 15813  \\\n",
              "sentiment1                                                           1   \n",
              "message              retweet thinkprogress environmental protection...   \n",
              "tweetid                                                         442853   \n",
              "word_count                                                          16   \n",
              "character_count                                                    140   \n",
              "average_word_length                                             7.8125   \n",
              "unique_word_count                                                   16   \n",
              "stopword_count                                                       2   \n",
              "url_count                                                            2   \n",
              "hashtag_count                                                        0   \n",
              "mention_count                                                        1   \n",
              "punctuation_count                                                   12   \n",
              "\n",
              "                                                                 15814  \\\n",
              "sentiment1                                                           1   \n",
              "message              retweet ezlusztig they took down the material ...   \n",
              "tweetid                                                          22001   \n",
              "word_count                                                          22   \n",
              "character_count                                                    140   \n",
              "average_word_length                                            5.40909   \n",
              "unique_word_count                                                   22   \n",
              "stopword_count                                                       7   \n",
              "url_count                                                            1   \n",
              "hashtag_count                                                        0   \n",
              "mention_count                                                        1   \n",
              "punctuation_count                                                   11   \n",
              "\n",
              "                                                                 15815  \\\n",
              "sentiment1                                                           2   \n",
              "message              retweet washingtonpost how climate change coul...   \n",
              "tweetid                                                          17856   \n",
              "word_count                                                          13   \n",
              "character_count                                                    119   \n",
              "average_word_length                                            8.23077   \n",
              "unique_word_count                                                   13   \n",
              "stopword_count                                                       4   \n",
              "url_count                                                            1   \n",
              "hashtag_count                                                        0   \n",
              "mention_count                                                        1   \n",
              "punctuation_count                                                   10   \n",
              "\n",
              "                                                                 15816  \\\n",
              "sentiment1                                                           0   \n",
              "message              notiven retweet new yorktimesworld what does t...   \n",
              "tweetid                                                         384248   \n",
              "word_count                                                          19   \n",
              "character_count                                                    133   \n",
              "average_word_length                                            6.05263   \n",
              "unique_word_count                                                   19   \n",
              "stopword_count                                                       4   \n",
              "url_count                                                            1   \n",
              "hashtag_count                                                        0   \n",
              "mention_count                                                        0   \n",
              "punctuation_count                                                    9   \n",
              "\n",
              "                                                                 15817  \\\n",
              "sentiment1                                                          -1   \n",
              "message              retweet hey liberals the climate change crap i...   \n",
              "tweetid                                                         819732   \n",
              "word_count                                                          21   \n",
              "character_count                                                    128   \n",
              "average_word_length                                            5.14286   \n",
              "unique_word_count                                                   20   \n",
              "stopword_count                                                       8   \n",
              "url_count                                                            0   \n",
              "hashtag_count                                                        1   \n",
              "mention_count                                                        1   \n",
              "punctuation_count                                                    4   \n",
              "\n",
              "                                                                 15818  \n",
              "sentiment1                                                           0  \n",
              "message              retweet chetcannon kuretweeteichenwalds climat...  \n",
              "tweetid                                                         806319  \n",
              "word_count                                                          10  \n",
              "character_count                                                    102  \n",
              "average_word_length                                                9.3  \n",
              "unique_word_count                                                   10  \n",
              "stopword_count                                                       1  \n",
              "url_count                                                            1  \n",
              "hashtag_count                                                        0  \n",
              "mention_count                                                        2  \n",
              "punctuation_count                                                   13  \n",
              "\n",
              "[12 rows x 15819 columns]"
            ]
          },
          "metadata": {
            "tags": []
          },
          "execution_count": 117
        }
      ]
    },
    {
      "cell_type": "code",
      "metadata": {
        "id": "BUd4WfSelPfF",
        "colab_type": "code",
        "colab": {}
      },
      "source": [
        "def get_top_tweet_unigrams(corpus, n=None):\n",
        "    vec = CountVectorizer(ngram_range=(6, 6)).fit(corpus)\n",
        "    bag_of_words = vec.transform(corpus)\n",
        "    sum_words = bag_of_words.sum(axis=0) \n",
        "    words_freq = [(word, sum_words[0, idx]) for word, idx in vec.vocabulary_.items()]\n",
        "    words_freq =sorted(words_freq, key = lambda x: x[1], reverse=True)\n",
        "    return words_freq[:n]"
      ],
      "execution_count": null,
      "outputs": []
    },
    {
      "cell_type": "code",
      "metadata": {
        "id": "Xx1vtisLlPfH",
        "colab_type": "code",
        "colab": {},
        "outputId": "331fe0fe-2c57-4752-b147-27202d48f342"
      },
      "source": [
        "#check cleaned text for top 20 bigram count\n",
        "plt.figure(figsize=(10,5))\n",
        "top_tweet_bigrams=get_top_tweet_bigrams(train_data['message'])[:20]\n",
        "x,y=map(list,zip(*top_tweet_bigrams))\n",
        "sns.barplot(x=y,y=x)"
      ],
      "execution_count": null,
      "outputs": [
        {
          "output_type": "execute_result",
          "data": {
            "text/plain": [
              "<matplotlib.axes._subplots.AxesSubplot at 0x2dbcd0d45c8>"
            ]
          },
          "metadata": {
            "tags": []
          },
          "execution_count": 119
        },
        {
          "output_type": "display_data",
          "data": {
            "image/png": "[encoded data removed]",
            "text/plain": [
              "<Figure size 720x360 with 1 Axes>"
            ]
          },
          "metadata": {
            "tags": []
          }
        }
      ]
    },
    {
      "cell_type": "code",
      "metadata": {
        "id": "GtKWbexTlPfK",
        "colab_type": "code",
        "colab": {}
      },
      "source": [
        "# Check for whitespace strings (it's OK if there aren't any!):\n",
        "#blanks = []  # start with an empty list\n",
        "\n",
        "#for i,lb,msg, x, tid in train_data.itertuples():  # iterate over the DataFrame\n",
        "   # if type(msg)==str:            # avoid NaN values\n",
        "        #if msg.isspace():         # test 'review' for whitespace\n",
        "           #blanks.append(i)     # add matching index numbers to the list\n",
        "        \n",
        "#print(len(blanks), 'blanks: ', blanks)"
      ],
      "execution_count": null,
      "outputs": []
    },
    {
      "cell_type": "code",
      "metadata": {
        "id": "TjIskwkjlPfM",
        "colab_type": "code",
        "colab": {}
      },
      "source": [
        "#from sklearn.model_selection import train_test_split\n",
        "#X_transformed = cv.fit_transform((train_data['lemmatized'])\n",
        "#X_train, X_test, y_train, y_test = train_test_split(X_raw, y_raw, test_size=0.33, random_state=42)\n",
        "#X_raw.shape"
      ],
      "execution_count": null,
      "outputs": []
    },
    {
      "cell_type": "code",
      "metadata": {
        "id": "Hbbyv-dTlPfO",
        "colab_type": "code",
        "colab": {}
      },
      "source": [
        "#Option 1: Count vectorization\n",
        "#from sklearn.model_selection import train_test_split\n",
        "#X_train, X_test, y_train, y_test = train_test_split(text_counts, train_data['sentiment'], stratify=train_data['sentiment'], test_size=0.67, random_state=50)"
      ],
      "execution_count": null,
      "outputs": []
    },
    {
      "cell_type": "code",
      "metadata": {
        "id": "1wSZ2_E7lPfS",
        "colab_type": "code",
        "colab": {}
      },
      "source": [
        "#from sklearn.model_selection import train_test_split\n",
        "#X_train, X_test, y_train, y_test = train_test_split(X, y, test_size=0.33, random_state=42)"
      ],
      "execution_count": null,
      "outputs": []
    },
    {
      "cell_type": "code",
      "metadata": {
        "id": "re5lMqNMlPfV",
        "colab_type": "code",
        "colab": {}
      },
      "source": [
        "#from sklearn.feature_extraction.text import TfidfVectorizer\n",
        "#vectorizer = TfidfVectorizer()\n",
        "\n",
        "#X_train_tfidf = vectorizer.fit_transform(X_train) \n",
        "#X_test_tfidf = vectorizer.transform(X_test)\n",
        "\n",
        "#X_raw = train_data.drop('sentiment', axis=1)\n",
        "#y_raw = train_data['sentiment']\n",
        "\n",
        "#X_train_tfidf.shape"
      ],
      "execution_count": null,
      "outputs": []
    },
    {
      "cell_type": "markdown",
      "metadata": {
        "id": "ksYhpk03lPfY",
        "colab_type": "text"
      },
      "source": [
        "###### task: split the data into train & test sets"
      ]
    },
    {
      "cell_type": "code",
      "metadata": {
        "id": "wRilqqxelPfZ",
        "colab_type": "code",
        "colab": {}
      },
      "source": [
        "#Option 2: TFIDF\n",
        "from sklearn.feature_extraction.text import TfidfVectorizer\n",
        "tf=TfidfVectorizer()\n",
        "text_tf = tf.fit_transform(train_data['message'])"
      ],
      "execution_count": null,
      "outputs": []
    },
    {
      "cell_type": "code",
      "metadata": {
        "id": "fLzOdxSnGM2u",
        "colab_type": "code",
        "colab": {},
        "outputId": "22ecf29f-3f77-4be9-ca8e-9d113b94cb01"
      },
      "source": [
        "#Option 2: TFIDF\n",
        "from sklearn.model_selection import train_test_split\n",
        "X_train, X_test, y_train, y_test = train_test_split(\n",
        "    text_tf, train_data['sentiment1'], test_size=0.67, random_state=42)\n",
        "X_train.shape"
      ],
      "execution_count": null,
      "outputs": [
        {
          "output_type": "execute_result",
          "data": {
            "text/plain": [
              "(5220, 23201)"
            ]
          },
          "metadata": {
            "tags": []
          },
          "execution_count": 174
        }
      ]
    },
    {
      "cell_type": "code",
      "metadata": {
        "id": "HJwCxCXHlPfd",
        "colab_type": "code",
        "colab": {}
      },
      "source": [
        "#Option 3: TFIDF\n",
        "from sklearn.model_selection import train_test_split\n",
        "\n",
        "X = train_data['message']  # this time we want to look at the text\n",
        "y = train_data['sentiment1']\n",
        "\n",
        "X_train, X_test, y_train, y_test = train_test_split(X, y, test_size=0.33, random_state=42)"
      ],
      "execution_count": null,
      "outputs": []
    },
    {
      "cell_type": "code",
      "metadata": {
        "id": "ODPcEwVKlPfh",
        "colab_type": "code",
        "colab": {},
        "outputId": "d70b0940-840a-4824-9dfd-bf022314dcce"
      },
      "source": [
        "#Option 3: TFIDF\n",
        "from sklearn.feature_extraction.text import TfidfVectorizer\n",
        "vectorizer = TfidfVectorizer()\n",
        "\n",
        "X_train = vectorizer.fit_transform(X_train) # remember to use the original X_train set\n",
        "X_train.shape"
      ],
      "execution_count": null,
      "outputs": [
        {
          "output_type": "execute_result",
          "data": {
            "text/plain": [
              "(5220, 11776)"
            ]
          },
          "metadata": {
            "tags": []
          },
          "execution_count": 171
        }
      ]
    },
    {
      "cell_type": "markdown",
      "metadata": {
        "id": "wi7xCt1NObR7",
        "colab_type": "text"
      },
      "source": [
        "#Summarise findings"
      ]
    },
    {
      "cell_type": "markdown",
      "metadata": {
        "id": "YC60j1VbGM22",
        "colab_type": "text"
      },
      "source": [
        "##### Base Model"
      ]
    },
    {
      "cell_type": "markdown",
      "metadata": {
        "id": "n-srNNgAObR-",
        "colab_type": "text"
      },
      "source": [
        "<img aria-hidden=\"true\" jsname=\"VAJbob\" class=\"U48l9e\" src=\"https://lh3.googleusercontent.com/rTpeDFt5PuVxf_5ojPoB6NGhIbDRkZTv3c7cWog3iK6q_CaDNygyWh9yIESTqZWYpKbHx46o-wWtQ5dIMUBUiWFsZrgCtXq059-fWqG_exoB7z1m7Tly7NKYQakBYenkn13yxaP8bm6hIuFPmgxzAoAoSUxsR71FpTk9Lzc-F0pprCPcUcJAXm7fAGZSsjR7MjnU7PrMDMd_m6yT63b-jZwAzcu0SQV7jBOaGMWLX_CePhBoN4x7TNXR3PiYU7USujyVnKV9krzqIIgeWrh7Hs_AvEcRSumKlj2g4Aa1XxXUsgWoS-7iFJ2KLHQyXvbqg01VM5FFZsDg71c3phrNM5zSeW7IQKB5_DMAVqB_7qr2jiGU0hQj1871D2UlozkdEPeaVKBBJDMzbYkdN6eUSYceq3frzlDX6mubIHLCdFALlt2VmnvqwWLMC-YsrMdPffSRUInH89L7YHCdmnvjZ2cjAtvY5Uga2wxCEvAl8KEf3tS37O0jH2QkRqCUJyVRKtXyVfORIiUyn-swMK59JPfMWgfD5t-BxPxeMAzR0gQONmuzsjrnY112Qh_ks1KxELTVTKtKdvT09NsnG63cmN6x55Vcxt2kASBGOxrDD7NcHh7XgjfBuhIJYO6aR-aKc3Lybarcc5F6K21D3InSbTcYVKxVEI4dXF1aQO-rbNMCn9czkZF3fsNymNcuMA=w1481-h613-no?authuser=0\" data-iml=\"1923250.1149999988\">"
      ]
    },
    {
      "cell_type": "markdown",
      "metadata": {
        "id": "6EGK-osWGM22",
        "colab_type": "text"
      },
      "source": [
        "###### **task: minimal data preprocessing**"
      ]
    },
    {
      "cell_type": "code",
      "metadata": {
        "id": "mz_Cl4MUGM3G",
        "colab_type": "code",
        "colab": {}
      },
      "source": [
        "# code here"
      ],
      "execution_count": null,
      "outputs": []
    },
    {
      "cell_type": "markdown",
      "metadata": {
        "id": "b5gCDgQ6GM3Q",
        "colab_type": "text"
      },
      "source": [
        "###### **task: train a Logistic Regression classifier**\n"
      ]
    },
    {
      "cell_type": "code",
      "metadata": {
        "id": "ZlDKasiTObSl",
        "colab_type": "code",
        "colab": {}
      },
      "source": [
        "from sklearn.linear_model import LogisticRegression\n",
        "\n",
        "lr_model = LogisticRegression(C=1.0, solver='lbfgs', class_weight=None, multi_class='auto')\n",
        "\n",
        "lr_model.fit(X_train, y_train)\n",
        "\n",
        "pred_lr = lr_model.predict(X_test)\n"
      ],
      "execution_count": null,
      "outputs": []
    },
    {
      "cell_type": "markdown",
      "metadata": {
        "id": "iiWCv2galPfq",
        "colab_type": "text"
      },
      "source": [
        "###### **task: train a Naive Bayes Regression classifier**"
      ]
    },
    {
      "cell_type": "code",
      "metadata": {
        "id": "Tsvg8PdIlPfq",
        "colab_type": "code",
        "colab": {}
      },
      "source": [
        "from sklearn.naive_bayes import MultinomialNB\n",
        "#Import scikit-learn metrics module for accuracy calculation\n",
        "from sklearn import metrics\n",
        "# Model Generation Using Multinomial Naive Bayes\n",
        "clf = MultinomialNB().fit(X_train, y_train)\n",
        "pred_nb = clf.predict(X_test)"
      ],
      "execution_count": null,
      "outputs": []
    },
    {
      "cell_type": "markdown",
      "metadata": {
        "id": "TMakwg7dlPfs",
        "colab_type": "text"
      },
      "source": [
        "###### **task: train a Support Vector Machine (SVM) classifier**"
      ]
    },
    {
      "cell_type": "code",
      "metadata": {
        "id": "LQ8kXS9DlPfs",
        "colab_type": "code",
        "colab": {}
      },
      "source": [
        "# Form a prediction set\n",
        "from sklearn.svm import LinearSVC\n",
        "clf = LinearSVC()\n",
        "clf.fit(X_train, y_train)\n",
        "pred_lsvc = clf.predict(X_test)"
      ],
      "execution_count": null,
      "outputs": []
    },
    {
      "cell_type": "code",
      "metadata": {
        "id": "69Cwmx-glPfw",
        "colab_type": "code",
        "colab": {}
      },
      "source": [
        "# Form a prediction set\n",
        "#from sklearn.svm import LinearSVC\n",
        "#clf = LinearSVC()\n",
        "#clf.fit(X_train_tfidf, y_train)\n",
        "#pred_lsvc = clf.predict(X_test)"
      ],
      "execution_count": null,
      "outputs": []
    },
    {
      "cell_type": "code",
      "metadata": {
        "id": "YeyZwFptlPfy",
        "colab_type": "code",
        "colab": {}
      },
      "source": [
        "#from sklearn.svm import LinearSVC\n",
        "\n",
        "#lsvc_model = LinearSVC()\n",
        "\n",
        "#lsvc_model.fit(X_train, y_train)"
      ],
      "execution_count": null,
      "outputs": []
    },
    {
      "cell_type": "markdown",
      "metadata": {
        "id": "n8Tss1onlPf0",
        "colab_type": "text"
      },
      "source": [
        "## Initial model evaluation"
      ]
    },
    {
      "cell_type": "markdown",
      "metadata": {
        "id": "ExK08O3TlPf0",
        "colab_type": "text"
      },
      "source": [
        "###### **task: test the Accuracy of the model**\n"
      ]
    },
    {
      "cell_type": "code",
      "metadata": {
        "id": "jFn1pR3BlPf0",
        "colab_type": "code",
        "colab": {}
      },
      "source": [
        "from sklearn.metrics import confusion_matrix"
      ],
      "execution_count": null,
      "outputs": []
    },
    {
      "cell_type": "code",
      "metadata": {
        "id": "WkznqVNvlPf2",
        "colab_type": "code",
        "colab": {}
      },
      "source": [
        "from sklearn.metrics import classification_report"
      ],
      "execution_count": null,
      "outputs": []
    },
    {
      "cell_type": "code",
      "metadata": {
        "id": "o5BzTjNxlPf4",
        "colab_type": "code",
        "colab": {},
        "outputId": "54d360d9-cdd4-4d6b-e102-512c83822c51"
      },
      "source": [
        "print(\"SVC Accuracy:\",metrics.accuracy_score(y_test, pred_lsvc))"
      ],
      "execution_count": null,
      "outputs": [
        {
          "output_type": "stream",
          "text": [
            "SVC Accuracy: 0.7113878667798849\n"
          ],
          "name": "stdout"
        }
      ]
    },
    {
      "cell_type": "code",
      "metadata": {
        "id": "7x_rea8YlPf7",
        "colab_type": "code",
        "colab": {},
        "outputId": "f5df6abe-2b7c-4048-9f1a-156fd1142196"
      },
      "source": [
        "print(metrics.confusion_matrix(y_test,pred_lsvc))"
      ],
      "execution_count": null,
      "outputs": [
        {
          "output_type": "stream",
          "text": [
            "[[ 185   56  167   20]\n",
            " [  24  312  325   76]\n",
            " [  33  150 2462  216]\n",
            " [   6   29  266  894]]\n"
          ],
          "name": "stdout"
        }
      ]
    },
    {
      "cell_type": "code",
      "metadata": {
        "id": "v9ddn5EvlPf9",
        "colab_type": "code",
        "colab": {},
        "outputId": "f1801c65-c364-436c-9e14-0ddf3ff091e9"
      },
      "source": [
        "print(metrics.classification_report(y_test,pred_lsvc))"
      ],
      "execution_count": null,
      "outputs": [
        {
          "output_type": "stream",
          "text": [
            "              precision    recall  f1-score   support\n",
            "\n",
            "        -1.0       0.73      0.33      0.45       865\n",
            "         0.0       0.57      0.37      0.45      1555\n",
            "         1.0       0.73      0.87      0.79      5750\n",
            "         2.0       0.72      0.70      0.71      2429\n",
            "\n",
            "    accuracy                           0.71     10599\n",
            "   macro avg       0.69      0.57      0.60     10599\n",
            "weighted avg       0.70      0.71      0.69     10599\n",
            "\n"
          ],
          "name": "stdout"
        }
      ]
    },
    {
      "cell_type": "code",
      "metadata": {
        "id": "73yS1r8cGM3X",
        "colab_type": "code",
        "colab": {},
        "outputId": "ed911ee5-dd9e-4f7e-812c-175e1af94d14"
      },
      "source": [
        "print(\"MultinomialNB Accuracy:\",metrics.accuracy_score(y_test, pred_nb))"
      ],
      "execution_count": null,
      "outputs": [
        {
          "output_type": "stream",
          "text": [
            "MultinomialNB Accuracy: 0.5846777997924333\n"
          ],
          "name": "stdout"
        }
      ]
    },
    {
      "cell_type": "code",
      "metadata": {
        "id": "ziEzuH9UlPgE",
        "colab_type": "code",
        "colab": {},
        "outputId": "d76c7ee3-c845-4a0a-94e3-e85d360221e3"
      },
      "source": [
        "print(metrics.confusion_matrix(y_test,pred_nb))"
      ],
      "execution_count": null,
      "outputs": [
        {
          "output_type": "stream",
          "text": [
            "[[   1    0  418    9]\n",
            " [   0   45  677   15]\n",
            " [   0    0 2832   29]\n",
            " [   0    0  782  413]]\n"
          ],
          "name": "stdout"
        }
      ]
    },
    {
      "cell_type": "code",
      "metadata": {
        "id": "4TUQKFVDlPgG",
        "colab_type": "code",
        "colab": {},
        "outputId": "66c2ed88-e29e-49ee-9a5b-0a661e376b84"
      },
      "source": [
        "print(metrics.classification_report(y_test,pred_nb))"
      ],
      "execution_count": null,
      "outputs": [
        {
          "output_type": "stream",
          "text": [
            "              precision    recall  f1-score   support\n",
            "\n",
            "        -1.0       0.00      0.00      0.00       865\n",
            "         0.0       1.00      0.01      0.02      1555\n",
            "         1.0       0.57      1.00      0.72      5750\n",
            "         2.0       0.94      0.19      0.31      2429\n",
            "\n",
            "    accuracy                           0.58     10599\n",
            "   macro avg       0.63      0.30      0.26     10599\n",
            "weighted avg       0.67      0.58      0.47     10599\n",
            "\n"
          ],
          "name": "stdout"
        }
      ]
    },
    {
      "cell_type": "code",
      "metadata": {
        "id": "DpUJd685lPgI",
        "colab_type": "code",
        "colab": {},
        "outputId": "1d6ad794-9e04-49a4-e5b8-b5d3e0a3ddd4"
      },
      "source": [
        "print(\"Logistic Regression Accuracy:\",metrics.accuracy_score(y_test, pred_lr))"
      ],
      "execution_count": null,
      "outputs": [
        {
          "output_type": "stream",
          "text": [
            "Logistic Regression Accuracy: 0.6951599207472403\n"
          ],
          "name": "stdout"
        }
      ]
    },
    {
      "cell_type": "code",
      "metadata": {
        "id": "jkBGO8ralPgK",
        "colab_type": "code",
        "colab": {},
        "outputId": "7128617a-d5fe-47cc-a54e-cd7df58ec7d0"
      },
      "source": [
        "print(metrics.confusion_matrix(y_test,pred_lr))"
      ],
      "execution_count": null,
      "outputs": [
        {
          "output_type": "stream",
          "text": [
            "[[ 116   84  613   52]\n",
            " [   8  376 1061  110]\n",
            " [   6  115 5302  327]\n",
            " [   2   17  836 1574]]\n"
          ],
          "name": "stdout"
        }
      ]
    },
    {
      "cell_type": "code",
      "metadata": {
        "id": "JeUC7M8HlPgN",
        "colab_type": "code",
        "colab": {},
        "outputId": "3298d058-d27e-43f0-e95d-905c2c339972"
      },
      "source": [
        "labels = ['0: Neutral', '1: Pro', '2:News', '-1:Anti']\n",
        "\n",
        "pd.DataFrame(data=confusion_matrix(y_test, pred_lr), index=labels, columns=labels)"
      ],
      "execution_count": null,
      "outputs": [
        {
          "output_type": "execute_result",
          "data": {
            "text/html": [
              "<div>\n",
              "<style scoped>\n",
              "    .dataframe tbody tr th:only-of-type {\n",
              "        vertical-align: middle;\n",
              "    }\n",
              "\n",
              "    .dataframe tbody tr th {\n",
              "        vertical-align: top;\n",
              "    }\n",
              "\n",
              "    .dataframe thead th {\n",
              "        text-align: right;\n",
              "    }\n",
              "</style>\n",
              "<table border=\"1\" class=\"dataframe\">\n",
              "  <thead>\n",
              "    <tr style=\"text-align: right;\">\n",
              "      <th></th>\n",
              "      <th>0: Neutral</th>\n",
              "      <th>1: Pro</th>\n",
              "      <th>2:News</th>\n",
              "      <th>-1:Anti</th>\n",
              "    </tr>\n",
              "  </thead>\n",
              "  <tbody>\n",
              "    <tr>\n",
              "      <th>0: Neutral</th>\n",
              "      <td>116</td>\n",
              "      <td>84</td>\n",
              "      <td>613</td>\n",
              "      <td>52</td>\n",
              "    </tr>\n",
              "    <tr>\n",
              "      <th>1: Pro</th>\n",
              "      <td>8</td>\n",
              "      <td>376</td>\n",
              "      <td>1061</td>\n",
              "      <td>110</td>\n",
              "    </tr>\n",
              "    <tr>\n",
              "      <th>2:News</th>\n",
              "      <td>6</td>\n",
              "      <td>115</td>\n",
              "      <td>5302</td>\n",
              "      <td>327</td>\n",
              "    </tr>\n",
              "    <tr>\n",
              "      <th>-1:Anti</th>\n",
              "      <td>2</td>\n",
              "      <td>17</td>\n",
              "      <td>836</td>\n",
              "      <td>1574</td>\n",
              "    </tr>\n",
              "  </tbody>\n",
              "</table>\n",
              "</div>"
            ],
            "text/plain": [
              "            0: Neutral  1: Pro  2:News  -1:Anti\n",
              "0: Neutral         116      84     613       52\n",
              "1: Pro               8     376    1061      110\n",
              "2:News               6     115    5302      327\n",
              "-1:Anti              2      17     836     1574"
            ]
          },
          "metadata": {
            "tags": []
          },
          "execution_count": 187
        }
      ]
    },
    {
      "cell_type": "code",
      "metadata": {
        "scrolled": true,
        "id": "8dniF8MklPgP",
        "colab_type": "code",
        "colab": {}
      },
      "source": [
        "# Saving each metric to add to a dictionary for logging to comet\n",
        "from sklearn.metrics import f1_score, precision_score, recall_score, confusion_matrix\n",
        "\n",
        "precision = precision_score(y_test, pred_lr, labels=None, average='macro')\n",
        "recall = recall_score(y_test, pred_lr, labels=None, average='macro')\n",
        "f1 = f1_score(y_test, pred_lr, labels=None, average='macro')\n"
      ],
      "execution_count": null,
      "outputs": []
    },
    {
      "cell_type": "code",
      "metadata": {
        "id": "bzy_34DVlPgQ",
        "colab_type": "code",
        "colab": {}
      },
      "source": [
        "# Create dictionaries for the comet data we want to log\n",
        "\n",
        "#params = {\"random_state\": 7,\n",
        "          #\"model_type\": \"logreg\",\n",
        "          #\"scaler\": \"standard scaler\",\n",
        "          #\"param_grid\": str(param_grid),\n",
        "          #\"stratify\": True\n",
        "          #}\n",
        "\n",
        "metrics = {\"f1\": f1,\n",
        "           \"recall\": recall,\n",
        "           \"precision\": precision\n",
        "           }"
      ],
      "execution_count": null,
      "outputs": []
    },
    {
      "cell_type": "code",
      "metadata": {
        "id": "KRVuytoGlPgS",
        "colab_type": "code",
        "colab": {},
        "outputId": "7b20d354-8ef7-4c7b-c09e-ff5959424a66"
      },
      "source": [
        "# Log our comet parameters and results\n",
        "#experiment.log_parameters(params)\n",
        "#experiment.log_metric(\"accuracy\", f1)\n",
        "print(\"Logistic regression f1 macro score metrics: \", metrics)"
      ],
      "execution_count": null,
      "outputs": [
        {
          "output_type": "stream",
          "text": [
            "Logistic regression f1 macro score metrics:  {'f1': 0.516411566762761, 'recall': 0.4864987348469413, 'precision': 0.7388972510624349}\n"
          ],
          "name": "stdout"
        }
      ]
    },
    {
      "cell_type": "code",
      "metadata": {
        "scrolled": true,
        "id": "A5MywCwklPgT",
        "colab_type": "code",
        "colab": {},
        "outputId": "44900762-1ba9-41bd-8d90-f12ac025db36"
      },
      "source": [
        "print(metrics.classification_report(y_test,pred_lr))"
      ],
      "execution_count": null,
      "outputs": [
        {
          "output_type": "stream",
          "text": [
            "              precision    recall  f1-score   support\n",
            "\n",
            "        -1.0       0.88      0.13      0.23       865\n",
            "         0.0       0.64      0.24      0.35      1555\n",
            "         1.0       0.68      0.92      0.78      5750\n",
            "         2.0       0.76      0.65      0.70      2429\n",
            "\n",
            "    accuracy                           0.70     10599\n",
            "   macro avg       0.74      0.49      0.52     10599\n",
            "weighted avg       0.71      0.70      0.66     10599\n",
            "\n"
          ],
          "name": "stdout"
        }
      ]
    },
    {
      "cell_type": "code",
      "metadata": {
        "id": "jIlAselulPgV",
        "colab_type": "code",
        "colab": {}
      },
      "source": [
        "experiment.end()"
      ],
      "execution_count": null,
      "outputs": []
    },
    {
      "cell_type": "markdown",
      "metadata": {
        "id": "vD-jIGvElPgW",
        "colab_type": "text"
      },
      "source": [
        "###### **task: display experiment on comet**"
      ]
    },
    {
      "cell_type": "code",
      "metadata": {
        "id": "vw8Yxc8ilPgX",
        "colab_type": "code",
        "colab": {}
      },
      "source": [
        "experiment.display()"
      ],
      "execution_count": null,
      "outputs": []
    },
    {
      "cell_type": "markdown",
      "metadata": {
        "id": "2W_ZOB_JlPgY",
        "colab_type": "text"
      },
      "source": [
        "###### **task: save output of highest performing model results**"
      ]
    },
    {
      "cell_type": "code",
      "metadata": {
        "id": "MFAOEYtzlPgY",
        "colab_type": "code",
        "colab": {},
        "outputId": "5be51d89-50e0-4cfd-eb8b-9849e93d66bf"
      },
      "source": [
        "sample_data"
      ],
      "execution_count": null,
      "outputs": [
        {
          "output_type": "execute_result",
          "data": {
            "text/html": [
              "<div>\n",
              "<style scoped>\n",
              "    .dataframe tbody tr th:only-of-type {\n",
              "        vertical-align: middle;\n",
              "    }\n",
              "\n",
              "    .dataframe tbody tr th {\n",
              "        vertical-align: top;\n",
              "    }\n",
              "\n",
              "    .dataframe thead th {\n",
              "        text-align: right;\n",
              "    }\n",
              "</style>\n",
              "<table border=\"1\" class=\"dataframe\">\n",
              "  <thead>\n",
              "    <tr style=\"text-align: right;\">\n",
              "      <th></th>\n",
              "      <th>tweetid</th>\n",
              "      <th>sentiment</th>\n",
              "    </tr>\n",
              "  </thead>\n",
              "  <tbody>\n",
              "    <tr>\n",
              "      <th>0</th>\n",
              "      <td>169760</td>\n",
              "      <td>1</td>\n",
              "    </tr>\n",
              "    <tr>\n",
              "      <th>1</th>\n",
              "      <td>35326</td>\n",
              "      <td>1</td>\n",
              "    </tr>\n",
              "    <tr>\n",
              "      <th>2</th>\n",
              "      <td>224985</td>\n",
              "      <td>1</td>\n",
              "    </tr>\n",
              "    <tr>\n",
              "      <th>3</th>\n",
              "      <td>476263</td>\n",
              "      <td>1</td>\n",
              "    </tr>\n",
              "    <tr>\n",
              "      <th>4</th>\n",
              "      <td>872928</td>\n",
              "      <td>1</td>\n",
              "    </tr>\n",
              "    <tr>\n",
              "      <th>...</th>\n",
              "      <td>...</td>\n",
              "      <td>...</td>\n",
              "    </tr>\n",
              "    <tr>\n",
              "      <th>10541</th>\n",
              "      <td>895714</td>\n",
              "      <td>1</td>\n",
              "    </tr>\n",
              "    <tr>\n",
              "      <th>10542</th>\n",
              "      <td>875167</td>\n",
              "      <td>1</td>\n",
              "    </tr>\n",
              "    <tr>\n",
              "      <th>10543</th>\n",
              "      <td>78329</td>\n",
              "      <td>1</td>\n",
              "    </tr>\n",
              "    <tr>\n",
              "      <th>10544</th>\n",
              "      <td>867455</td>\n",
              "      <td>1</td>\n",
              "    </tr>\n",
              "    <tr>\n",
              "      <th>10545</th>\n",
              "      <td>470892</td>\n",
              "      <td>1</td>\n",
              "    </tr>\n",
              "  </tbody>\n",
              "</table>\n",
              "<p>10546 rows × 2 columns</p>\n",
              "</div>"
            ],
            "text/plain": [
              "       tweetid  sentiment\n",
              "0       169760          1\n",
              "1        35326          1\n",
              "2       224985          1\n",
              "3       476263          1\n",
              "4       872928          1\n",
              "...        ...        ...\n",
              "10541   895714          1\n",
              "10542   875167          1\n",
              "10543    78329          1\n",
              "10544   867455          1\n",
              "10545   470892          1\n",
              "\n",
              "[10546 rows x 2 columns]"
            ]
          },
          "metadata": {
            "tags": []
          },
          "execution_count": 191
        }
      ]
    },
    {
      "cell_type": "code",
      "metadata": {
        "id": "znPSm6qLlPga",
        "colab_type": "code",
        "colab": {},
        "outputId": "f8488ef1-2ccd-49f9-e562-7b2857caaff6"
      },
      "source": [
        "clf.predict(X_test)"
      ],
      "execution_count": null,
      "outputs": [
        {
          "output_type": "execute_result",
          "data": {
            "text/plain": [
              "array([1., 2., 1., ..., 2., 2., 1.])"
            ]
          },
          "metadata": {
            "tags": []
          },
          "execution_count": 192
        }
      ]
    },
    {
      "cell_type": "code",
      "metadata": {
        "id": "S8SZoIgUlPgc",
        "colab_type": "code",
        "colab": {},
        "outputId": "25d7eb80-e4df-4191-d81b-13d7eec57102"
      },
      "source": [
        "lr_model.predict(X_test)"
      ],
      "execution_count": null,
      "outputs": [
        {
          "output_type": "execute_result",
          "data": {
            "text/plain": [
              "array([1., 2., 1., ..., 2., 2., 1.])"
            ]
          },
          "metadata": {
            "tags": []
          },
          "execution_count": 193
        }
      ]
    },
    {
      "cell_type": "code",
      "metadata": {
        "id": "T-QZhwYblPge",
        "colab_type": "code",
        "colab": {},
        "outputId": "9c6759da-d85d-45e8-e019-f0f0abd4c0c9"
      },
      "source": [
        "y_pred= pd.DataFrame(pred_lsvc).astype(int)\n",
        "base_df = pd.DataFrame()\n",
        "base_df['tweetid'] = test_data['tweetid']\n",
        "base_df['sentiment'] = y_pred\n",
        "sample_data['sentiment'].value_counts()"
      ],
      "execution_count": null,
      "outputs": [
        {
          "output_type": "execute_result",
          "data": {
            "text/plain": [
              "1    10546\n",
              "Name: sentiment, dtype: int64"
            ]
          },
          "metadata": {
            "tags": []
          },
          "execution_count": 194
        }
      ]
    },
    {
      "cell_type": "code",
      "metadata": {
        "id": "Q73BQj-elPgf",
        "colab_type": "code",
        "colab": {}
      },
      "source": [
        "#base_df.to_csv('/kaggle/working/submissionv4.csv', index=False)"
      ],
      "execution_count": null,
      "outputs": []
    },
    {
      "cell_type": "code",
      "metadata": {
        "id": "iOGU3Q2ilPgh",
        "colab_type": "code",
        "colab": {},
        "outputId": "0c023289-e5c9-453b-e570-4b75b006970c"
      },
      "source": [
        "base_df"
      ],
      "execution_count": null,
      "outputs": [
        {
          "output_type": "execute_result",
          "data": {
            "text/html": [
              "<div>\n",
              "<style scoped>\n",
              "    .dataframe tbody tr th:only-of-type {\n",
              "        vertical-align: middle;\n",
              "    }\n",
              "\n",
              "    .dataframe tbody tr th {\n",
              "        vertical-align: top;\n",
              "    }\n",
              "\n",
              "    .dataframe thead th {\n",
              "        text-align: right;\n",
              "    }\n",
              "</style>\n",
              "<table border=\"1\" class=\"dataframe\">\n",
              "  <thead>\n",
              "    <tr style=\"text-align: right;\">\n",
              "      <th></th>\n",
              "      <th>tweetid</th>\n",
              "      <th>sentiment</th>\n",
              "    </tr>\n",
              "  </thead>\n",
              "  <tbody>\n",
              "    <tr>\n",
              "      <th>0</th>\n",
              "      <td>169760</td>\n",
              "      <td>1</td>\n",
              "    </tr>\n",
              "    <tr>\n",
              "      <th>1</th>\n",
              "      <td>35326</td>\n",
              "      <td>2</td>\n",
              "    </tr>\n",
              "    <tr>\n",
              "      <th>2</th>\n",
              "      <td>224985</td>\n",
              "      <td>1</td>\n",
              "    </tr>\n",
              "    <tr>\n",
              "      <th>3</th>\n",
              "      <td>476263</td>\n",
              "      <td>-1</td>\n",
              "    </tr>\n",
              "    <tr>\n",
              "      <th>4</th>\n",
              "      <td>872928</td>\n",
              "      <td>0</td>\n",
              "    </tr>\n",
              "    <tr>\n",
              "      <th>...</th>\n",
              "      <td>...</td>\n",
              "      <td>...</td>\n",
              "    </tr>\n",
              "    <tr>\n",
              "      <th>10541</th>\n",
              "      <td>895714</td>\n",
              "      <td>2</td>\n",
              "    </tr>\n",
              "    <tr>\n",
              "      <th>10542</th>\n",
              "      <td>875167</td>\n",
              "      <td>1</td>\n",
              "    </tr>\n",
              "    <tr>\n",
              "      <th>10543</th>\n",
              "      <td>78329</td>\n",
              "      <td>2</td>\n",
              "    </tr>\n",
              "    <tr>\n",
              "      <th>10544</th>\n",
              "      <td>867455</td>\n",
              "      <td>-1</td>\n",
              "    </tr>\n",
              "    <tr>\n",
              "      <th>10545</th>\n",
              "      <td>470892</td>\n",
              "      <td>1</td>\n",
              "    </tr>\n",
              "  </tbody>\n",
              "</table>\n",
              "<p>10546 rows × 2 columns</p>\n",
              "</div>"
            ],
            "text/plain": [
              "       tweetid  sentiment\n",
              "0       169760          1\n",
              "1        35326          2\n",
              "2       224985          1\n",
              "3       476263         -1\n",
              "4       872928          0\n",
              "...        ...        ...\n",
              "10541   895714          2\n",
              "10542   875167          1\n",
              "10543    78329          2\n",
              "10544   867455         -1\n",
              "10545   470892          1\n",
              "\n",
              "[10546 rows x 2 columns]"
            ]
          },
          "metadata": {
            "tags": []
          },
          "execution_count": 195
        }
      ]
    },
    {
      "cell_type": "markdown",
      "metadata": {
        "id": "dFAo-nSvObTE",
        "colab_type": "text"
      },
      "source": [
        "#Summary of findings"
      ]
    },
    {
      "cell_type": "markdown",
      "metadata": {
        "id": "UVfp-OoPObUE",
        "colab_type": "text"
      },
      "source": [
        "##### Conclude\n",
        "xxxxx"
      ]
    },
    {
      "cell_type": "markdown",
      "metadata": {
        "id": "J3C56EFmGM38",
        "colab_type": "text"
      },
      "source": [
        "## Further Feature Extraction"
      ]
    },
    {
      "cell_type": "markdown",
      "metadata": {
        "id": "HYmKp42nwY1a",
        "colab_type": "text"
      },
      "source": [
        "###### **task: get table of summary statistics of data**\n",
        "xxxxx"
      ]
    },
    {
      "cell_type": "code",
      "metadata": {
        "id": "LOiB50juObUQ",
        "colab_type": "code",
        "colab": {}
      },
      "source": [
        "# summary statistics\n"
      ],
      "execution_count": null,
      "outputs": []
    },
    {
      "cell_type": "markdown",
      "metadata": {
        "id": "ZRi6JGIky7OS",
        "colab_type": "text"
      },
      "source": [
        "#Summarise findings"
      ]
    },
    {
      "cell_type": "markdown",
      "metadata": {
        "id": "-h57xngN1Mai",
        "colab_type": "text"
      },
      "source": [
        "###### **task: generate distribution plots**"
      ]
    },
    {
      "cell_type": "code",
      "metadata": {
        "id": "YOf_lCpRObUW",
        "colab_type": "code",
        "colab": {}
      },
      "source": [
        "# code here"
      ],
      "execution_count": null,
      "outputs": []
    },
    {
      "cell_type": "markdown",
      "metadata": {
        "id": "TaYTcRGN1X-4",
        "colab_type": "text"
      },
      "source": [
        "#Summarise findings"
      ]
    },
    {
      "cell_type": "markdown",
      "metadata": {
        "id": "dGkA3E2uGM-w",
        "colab_type": "text"
      },
      "source": [
        "###### **task: investigate features further**\n",
        "xxxxx"
      ]
    },
    {
      "cell_type": "code",
      "metadata": {
        "id": "1hvzT6-pGM-9",
        "scrolled": true,
        "colab_type": "code",
        "colab": {}
      },
      "source": [
        "# code here"
      ],
      "execution_count": null,
      "outputs": []
    },
    {
      "cell_type": "markdown",
      "metadata": {
        "id": "SIR87MU-lPgu",
        "colab_type": "text"
      },
      "source": [
        "#Summarise findings"
      ]
    },
    {
      "cell_type": "markdown",
      "metadata": {
        "id": "5Y309dOz8dbS",
        "colab_type": "text"
      },
      "source": [
        "###### task: create additional features using NLP techniques\n",
        "xxx"
      ]
    },
    {
      "cell_type": "code",
      "metadata": {
        "id": "qtpuH_36GM4W",
        "colab_type": "code",
        "colab": {}
      },
      "source": [
        "# code here"
      ],
      "execution_count": null,
      "outputs": []
    },
    {
      "cell_type": "markdown",
      "metadata": {
        "id": "CR5u48ipBQaT",
        "colab_type": "text"
      },
      "source": [
        "#Summarise reasoning"
      ]
    },
    {
      "cell_type": "markdown",
      "metadata": {
        "id": "TY5FJYjCFlCX",
        "colab_type": "text"
      },
      "source": [
        "###### task: additional visualisations\n"
      ]
    },
    {
      "cell_type": "code",
      "metadata": {
        "id": "iS00V3AUGM4p",
        "colab_type": "code",
        "colab": {}
      },
      "source": [
        "# code here"
      ],
      "execution_count": null,
      "outputs": []
    },
    {
      "cell_type": "markdown",
      "metadata": {
        "id": "ErP0saDvGQeJ",
        "colab_type": "text"
      },
      "source": [
        "#Summarise findings"
      ]
    },
    {
      "cell_type": "markdown",
      "metadata": {
        "id": "CcWygNq3lPg2",
        "colab_type": "text"
      },
      "source": [
        "###### **task: get additional summary statistics of data**\n",
        "xxxxx"
      ]
    },
    {
      "cell_type": "markdown",
      "metadata": {
        "id": "ioYtMbnVCrOT",
        "colab_type": "text"
      },
      "source": [
        "#Summarise findings"
      ]
    },
    {
      "cell_type": "markdown",
      "metadata": {
        "id": "_sT1UmDGHQxq",
        "colab_type": "text"
      },
      "source": [
        "# Predictive Modelling\n",
        "xxxxxx\n"
      ]
    },
    {
      "cell_type": "markdown",
      "metadata": {
        "id": "_rkIlq-VFn1g",
        "colab_type": "text"
      },
      "source": [
        "## An Overview of learners\n",
        "The list of models we will train is as follows:\n",
        "xxxxxx\n",
        "\n",
        "### Logistic Regression\n",
        "\n",
        "Logistic regression is xxxxxx.\n",
        "\n",
        "### K-Nearest Neighbours\n",
        "\n",
        "K-Nearest Neighbours is xxxxxx.\n",
        "\n",
        "### Support Vector Machines \n",
        "\n",
        "Support Vector Machines is xxxxxx.\n",
        "\n",
        "### Naïve Bayes\n",
        "\n",
        "Naïve Bayes is xxxxxx.\n",
        "\n",
        "### Decision Tree\n",
        "\n",
        "The Decision tree model uses a non parameterised approach to making predictions. Its basically a series of questions that the algorithm asks about a particular sample. For example, if the value is this then the target is that. The algorithm starts off by selecting a variable that produces the best split of the data. Every predictor is assigned an impurity scores based on how accurate its predictions are (measured by rmse). The feature with the lowest impurity score is used for the initial split at the top of the tree, know as the root node. The other variables are used for splits down the tree all the way to the final predictions at the leaf nodes. Trees can easily overfit the training data because of their slightly more complex nature compared with linear models. Therefore it is common to build a tree to maximum depth and then prune it by getting rid of branches that do not necessarily result in significantly lower rmse in the next node. Finally, tree can easily decipher non linear patterns in dataset and thusare often useful for non linearly distributed datasets. \n",
        "\n",
        "### Random Forest\n",
        "\n",
        "Random Forest is an extension of decision trees. Single decision tree often have high variance. Their predictions depend a lot on the data they were trained on. A slight change to the training set, their predictions change significantly. Because of this a popular technique is on of building multiple trees and averaging their predictions. This is known as bootstrap aggregation, meaning multiple models are trained on different subsets of the training data. The subsets are obtained through a bootstrap sampling approach where samples can be randomly selected more than once until the length of the bootstrap is equal to the length of the original training set. Note that some of the samples are left out (refered to as out of bag samples). The model is then trained on the bootstrap sample. Random forest takes sampling to yet another level by also using a subset of the predictors to build each tree. This results in not so highly correlated tree in the forest that if averaged can produce stable predictions with little variance. The user has the option to choose the number of tree of treat it as a hyper-paramer to be determined by the data."
      ]
    },
    {
      "cell_type": "markdown",
      "metadata": {
        "id": "4ZsZYeeoLbQe",
        "colab_type": "text"
      },
      "source": [
        "## An Overview of the features\n",
        "xxxxx"
      ]
    },
    {
      "cell_type": "code",
      "metadata": {
        "id": "6JuAXPzmNPTI",
        "colab_type": "code",
        "colab": {}
      },
      "source": [
        "# code here"
      ],
      "execution_count": null,
      "outputs": []
    },
    {
      "cell_type": "markdown",
      "metadata": {
        "id": "g2i5ODUlPM59",
        "colab_type": "text"
      },
      "source": [
        "## An explanation of Pipelines"
      ]
    },
    {
      "cell_type": "markdown",
      "metadata": {
        "id": "PcF1pIsHQKIr",
        "colab_type": "text"
      },
      "source": [
        "xxxxxx"
      ]
    },
    {
      "cell_type": "markdown",
      "metadata": {
        "id": "NQSGWZcAUETR",
        "colab_type": "text"
      },
      "source": [
        "## Build a pipeline to vectorize the data, then train and fit a model\n",
        "xxxx"
      ]
    },
    {
      "cell_type": "code",
      "metadata": {
        "id": "igV96lHaF2gh",
        "colab_type": "code",
        "colab": {}
      },
      "source": [
        "#code here\n",
        "#from sklearn.pipeline import Pipeline\n",
        "#from sklearn.feature_extraction.text import TfidfVectorizer\n",
        "#from sklearn.svm import LinearSVC\n",
        "\n",
        "#text_clf = Pipeline([('tfidf', TfidfVectorizer()),\n",
        "#                     ('clf', LinearSVC()),\n",
        "#])\n",
        "\n",
        "# Feed the training data through the pipeline\n",
        "#text_clf.fit(X_train, y_train)  "
      ],
      "execution_count": null,
      "outputs": []
    },
    {
      "cell_type": "markdown",
      "metadata": {
        "id": "qrWKVNvsWe-C",
        "colab_type": "text"
      },
      "source": [
        "#Short explanation of code"
      ]
    },
    {
      "cell_type": "markdown",
      "metadata": {
        "id": "q221LNzwYS2v",
        "colab_type": "text"
      },
      "source": [
        "## Run predictions and analyze the results"
      ]
    },
    {
      "cell_type": "code",
      "metadata": {
        "id": "9c8Yma6N0PNI",
        "colab_type": "code",
        "colab": {}
      },
      "source": [
        "#code here"
      ],
      "execution_count": null,
      "outputs": []
    },
    {
      "cell_type": "markdown",
      "metadata": {
        "heading_collapsed": true,
        "id": "0OG-HJfcGM_w",
        "colab_type": "text"
      },
      "source": [
        "# Feature Selection and Model Selection"
      ]
    },
    {
      "cell_type": "markdown",
      "metadata": {
        "id": "oFj1d73TdudP",
        "colab_type": "text"
      },
      "source": [
        "xxxxx"
      ]
    },
    {
      "cell_type": "markdown",
      "metadata": {
        "id": "uhvcJv0Mi1LT",
        "colab_type": "text"
      },
      "source": [
        "The code cell below applies the function over multiple Variance Thresholds. We chose value between 0 and 50, increasing exponentially. See the cell."
      ]
    },
    {
      "cell_type": "markdown",
      "metadata": {
        "id": "UugqmP-4h3sD",
        "colab_type": "text"
      },
      "source": [
        "###### **task: perform vector arithmetic between features**\n",
        "xxxxx  "
      ]
    },
    {
      "cell_type": "code",
      "metadata": {
        "id": "y6ez2svHh2f-",
        "colab_type": "code",
        "colab": {}
      },
      "source": [
        ""
      ],
      "execution_count": null,
      "outputs": []
    },
    {
      "cell_type": "markdown",
      "metadata": {
        "id": "Qj26PJDt-mpV",
        "colab_type": "text"
      },
      "source": [
        "#Summarise findings"
      ]
    },
    {
      "cell_type": "markdown",
      "metadata": {
        "id": "kC8CHFk0iviq",
        "colab_type": "text"
      },
      "source": [
        "##### **Reguarisation - Improving model perfomance**\n",
        "xxxx"
      ]
    },
    {
      "cell_type": "code",
      "metadata": {
        "id": "24QgGCFIlPhR",
        "colab_type": "code",
        "colab": {}
      },
      "source": [
        "`"
      ],
      "execution_count": null,
      "outputs": []
    },
    {
      "cell_type": "markdown",
      "metadata": {
        "id": "J5Bkw1RVj0h9",
        "colab_type": "text"
      },
      "source": [
        "###### **task: implement L1 & L2 Regularisation for Logistic Regression**\n",
        "xxxxxx"
      ]
    },
    {
      "cell_type": "code",
      "metadata": {
        "id": "4vR7XB3tjymJ",
        "colab_type": "code",
        "colab": {}
      },
      "source": [
        "# code here"
      ],
      "execution_count": null,
      "outputs": []
    },
    {
      "cell_type": "markdown",
      "metadata": {
        "id": "XoYZOl2HzXLV",
        "colab_type": "text"
      },
      "source": [
        "###### task: select the best variables"
      ]
    },
    {
      "cell_type": "code",
      "metadata": {
        "id": "aA6xggtEUJhd",
        "colab_type": "code",
        "colab": {}
      },
      "source": [
        "# code here"
      ],
      "execution_count": null,
      "outputs": []
    },
    {
      "cell_type": "markdown",
      "metadata": {
        "id": "nYuvvuG5lPhf",
        "colab_type": "text"
      },
      "source": [
        "## Hyperparameter tuning"
      ]
    },
    {
      "cell_type": "markdown",
      "metadata": {
        "id": "7JvL_s0Gz1nC",
        "colab_type": "text"
      },
      "source": [
        "###### task: adjust hyperparameter/s of chosen model\n"
      ]
    },
    {
      "cell_type": "markdown",
      "metadata": {
        "id": "ABXGqtLElPhg",
        "colab_type": "text"
      },
      "source": [
        "xxxxx"
      ]
    },
    {
      "cell_type": "code",
      "metadata": {
        "id": "E_9CCO6alPhg",
        "colab_type": "code",
        "colab": {}
      },
      "source": [
        "# code here"
      ],
      "execution_count": null,
      "outputs": []
    },
    {
      "cell_type": "markdown",
      "metadata": {
        "id": "S0lS1mydlPhi",
        "colab_type": "text"
      },
      "source": [
        "## Model Evaluation"
      ]
    },
    {
      "cell_type": "markdown",
      "metadata": {
        "id": "gtbYpEIjlPhk",
        "colab_type": "text"
      },
      "source": [
        "###### task: select the best model\n"
      ]
    },
    {
      "cell_type": "markdown",
      "metadata": {
        "id": "g6A_MG7qslZP",
        "colab_type": "text"
      },
      "source": [
        "xxxxxx"
      ]
    },
    {
      "cell_type": "code",
      "metadata": {
        "id": "JEBgD4Xf2-_S",
        "colab_type": "code",
        "colab": {}
      },
      "source": [
        "# code here"
      ],
      "execution_count": null,
      "outputs": []
    },
    {
      "cell_type": "markdown",
      "metadata": {
        "id": "JcsFJf6OGM__",
        "colab_type": "text"
      },
      "source": [
        "# Summary of Conclusions"
      ]
    },
    {
      "cell_type": "markdown",
      "metadata": {
        "id": "PJn2DGXyt1C2",
        "colab_type": "text"
      },
      "source": [
        "\n",
        "\n",
        "## Data Exploration\n",
        "xxxxx\n",
        "## Exploratory data analysis\n",
        "\n",
        "xxxxxx\n",
        "\n",
        "## Predictive modelling\n",
        "\n",
        "xxxxxx\n",
        "\n",
        "\n",
        "## Feature selection\n",
        "\n",
        "xxxxxx\n",
        "\n",
        "\n",
        "\n",
        "## Recommendations\n",
        "\n",
        "xxxxxx\n",
        "\n",
        "\n",
        "## Key takeaways\n",
        "xxxxxx\n"
      ]
    },
    {
      "cell_type": "markdown",
      "metadata": {
        "id": "JclG8HXYS13v",
        "colab_type": "text"
      },
      "source": [
        ""
      ]
    }
  ]
}